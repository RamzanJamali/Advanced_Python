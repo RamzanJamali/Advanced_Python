{
 "cells": [
  {
   "cell_type": "code",
   "execution_count": null,
   "metadata": {},
   "outputs": [],
   "source": []
  }
 ],
 "metadata": {
  "kernelspec": {
   "display_name": "Python 3",
   "language": "python",
   "name": "python3"
  },
  "language_info": {
   "name": "python",
   "version": "3.8.10"
  },
  "orig_nbformat": 4,
  "vscode": {
   "interpreter": {
    "hash": "b2c71aae090688b832bc178f84439c18c6cac7e089a03a6373c0c1e323c4ffe6"
   }
  }
 },
 "nbformat": 4,
 "nbformat_minor": 2
}
