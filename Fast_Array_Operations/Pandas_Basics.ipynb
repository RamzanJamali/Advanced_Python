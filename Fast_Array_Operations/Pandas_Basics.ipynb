{
 "cells": [
  {
   "cell_type": "markdown",
   "id": "9ae820a1",
   "metadata": {},
   "source": [
    "# Pandas Fundamentals"
   ]
  },
  {
   "cell_type": "markdown",
   "id": "f263ffd0",
   "metadata": {},
   "source": [
    "## Creating Pandas Series"
   ]
  },
  {
   "cell_type": "code",
   "execution_count": 1,
   "id": "134a074b",
   "metadata": {},
   "outputs": [],
   "source": [
    "import pandas as pd\n",
    "import numpy as np"
   ]
  },
  {
   "cell_type": "code",
   "execution_count": 2,
   "id": "3cd775dd",
   "metadata": {},
   "outputs": [],
   "source": [
    "# this is index array\n",
    "patients = [0, 1, 2, 3]\n",
    "# this is information array\n",
    "effective = [True, True, False, False]\n",
    "\n",
    "effective_series = pd.Series(effective, index=patients)"
   ]
  },
  {
   "cell_type": "code",
   "execution_count": 3,
   "id": "13f35ed7",
   "metadata": {},
   "outputs": [
    {
     "data": {
      "text/plain": [
       "0     True\n",
       "1     True\n",
       "2    False\n",
       "3    False\n",
       "dtype: bool"
      ]
     },
     "execution_count": 3,
     "metadata": {},
     "output_type": "execute_result"
    }
   ],
   "source": [
    "effective_series.head()"
   ]
  },
  {
   "cell_type": "code",
   "execution_count": 4,
   "id": "0dadb5c1",
   "metadata": {},
   "outputs": [],
   "source": [
    "# index array can also have strings, floating-point numbers and generic(hashables)\n",
    "patients = ['a', 'b', 'c', 'd']\n",
    "# this is information array\n",
    "effective = [True, True, False, False]\n",
    "\n",
    "effective_series = pd.Series(effective, index=patients)"
   ]
  },
  {
   "cell_type": "code",
   "execution_count": 5,
   "id": "9f6389b2",
   "metadata": {},
   "outputs": [
    {
     "data": {
      "text/plain": [
       "a     True\n",
       "b     True\n",
       "c    False\n",
       "d    False\n",
       "dtype: bool"
      ]
     },
     "execution_count": 5,
     "metadata": {},
     "output_type": "execute_result"
    }
   ],
   "source": [
    "effective_series.head()"
   ]
  },
  {
   "cell_type": "markdown",
   "id": "dbe49284",
   "metadata": {},
   "source": [
    "## Creating Pandas DataFrame"
   ]
  },
  {
   "cell_type": "code",
   "execution_count": 6,
   "id": "8aafdee0",
   "metadata": {},
   "outputs": [],
   "source": [
    "# creating index\n",
    "patients = [\"a\", \"b\", \"c\", \"d\"]\n",
    "# creating data\n",
    "columns = {\n",
    "    \"sys_initial\": [120, 126, 130, 115],\n",
    "    \"dia_initial\": [75, 85, 90, 87],\n",
    "    \"sys_final\": [115, 123, 130, 118],\n",
    "    \"dia_final\": [70, 82, 92, 87]\n",
    "}\n",
    "# creating dataframe\n",
    "df = pd.DataFrame(columns, index=patients)"
   ]
  },
  {
   "cell_type": "code",
   "execution_count": 7,
   "id": "6c3e8c46",
   "metadata": {},
   "outputs": [
    {
     "data": {
      "text/html": [
       "<div>\n",
       "<style scoped>\n",
       "    .dataframe tbody tr th:only-of-type {\n",
       "        vertical-align: middle;\n",
       "    }\n",
       "\n",
       "    .dataframe tbody tr th {\n",
       "        vertical-align: top;\n",
       "    }\n",
       "\n",
       "    .dataframe thead th {\n",
       "        text-align: right;\n",
       "    }\n",
       "</style>\n",
       "<table border=\"1\" class=\"dataframe\">\n",
       "  <thead>\n",
       "    <tr style=\"text-align: right;\">\n",
       "      <th></th>\n",
       "      <th>sys_initial</th>\n",
       "      <th>dia_initial</th>\n",
       "      <th>sys_final</th>\n",
       "      <th>dia_final</th>\n",
       "    </tr>\n",
       "  </thead>\n",
       "  <tbody>\n",
       "    <tr>\n",
       "      <th>a</th>\n",
       "      <td>120</td>\n",
       "      <td>75</td>\n",
       "      <td>115</td>\n",
       "      <td>70</td>\n",
       "    </tr>\n",
       "    <tr>\n",
       "      <th>b</th>\n",
       "      <td>126</td>\n",
       "      <td>85</td>\n",
       "      <td>123</td>\n",
       "      <td>82</td>\n",
       "    </tr>\n",
       "    <tr>\n",
       "      <th>c</th>\n",
       "      <td>130</td>\n",
       "      <td>90</td>\n",
       "      <td>130</td>\n",
       "      <td>92</td>\n",
       "    </tr>\n",
       "    <tr>\n",
       "      <th>d</th>\n",
       "      <td>115</td>\n",
       "      <td>87</td>\n",
       "      <td>118</td>\n",
       "      <td>87</td>\n",
       "    </tr>\n",
       "  </tbody>\n",
       "</table>\n",
       "</div>"
      ],
      "text/plain": [
       "   sys_initial  dia_initial  sys_final  dia_final\n",
       "a          120           75        115         70\n",
       "b          126           85        123         82\n",
       "c          130           90        130         92\n",
       "d          115           87        118         87"
      ]
     },
     "execution_count": 7,
     "metadata": {},
     "output_type": "execute_result"
    }
   ],
   "source": [
    "df.head()"
   ]
  },
  {
   "cell_type": "code",
   "execution_count": 8,
   "id": "2ae55159",
   "metadata": {},
   "outputs": [],
   "source": [
    "# creating dataframe from pd-series\n",
    "patients = [\"a\", \"b\", \"c\", \"d\"]\n",
    "# creating data\n",
    "columns = {\n",
    "    \"sys_initial\": pd.Series([120, 126, 130, 115], index=patients),\n",
    "    \"dia_initial\": pd.Series([75, 85, 90, 87], index=patients),\n",
    "    \"sys_final\": pd.Series([115, 123, 130, 118], index=patients),\n",
    "    \"dia_final\": pd.Series([70, 82, 92, 87], index=patients)\n",
    "}\n",
    "# creating dataframe\n",
    "df = pd.DataFrame(columns)"
   ]
  },
  {
   "cell_type": "code",
   "execution_count": 9,
   "id": "c418af53",
   "metadata": {},
   "outputs": [
    {
     "data": {
      "text/html": [
       "<div>\n",
       "<style scoped>\n",
       "    .dataframe tbody tr th:only-of-type {\n",
       "        vertical-align: middle;\n",
       "    }\n",
       "\n",
       "    .dataframe tbody tr th {\n",
       "        vertical-align: top;\n",
       "    }\n",
       "\n",
       "    .dataframe thead th {\n",
       "        text-align: right;\n",
       "    }\n",
       "</style>\n",
       "<table border=\"1\" class=\"dataframe\">\n",
       "  <thead>\n",
       "    <tr style=\"text-align: right;\">\n",
       "      <th></th>\n",
       "      <th>sys_initial</th>\n",
       "      <th>dia_initial</th>\n",
       "      <th>sys_final</th>\n",
       "      <th>dia_final</th>\n",
       "    </tr>\n",
       "  </thead>\n",
       "  <tbody>\n",
       "    <tr>\n",
       "      <th>a</th>\n",
       "      <td>120</td>\n",
       "      <td>75</td>\n",
       "      <td>115</td>\n",
       "      <td>70</td>\n",
       "    </tr>\n",
       "    <tr>\n",
       "      <th>b</th>\n",
       "      <td>126</td>\n",
       "      <td>85</td>\n",
       "      <td>123</td>\n",
       "      <td>82</td>\n",
       "    </tr>\n",
       "    <tr>\n",
       "      <th>c</th>\n",
       "      <td>130</td>\n",
       "      <td>90</td>\n",
       "      <td>130</td>\n",
       "      <td>92</td>\n",
       "    </tr>\n",
       "    <tr>\n",
       "      <th>d</th>\n",
       "      <td>115</td>\n",
       "      <td>87</td>\n",
       "      <td>118</td>\n",
       "      <td>87</td>\n",
       "    </tr>\n",
       "  </tbody>\n",
       "</table>\n",
       "</div>"
      ],
      "text/plain": [
       "   sys_initial  dia_initial  sys_final  dia_final\n",
       "a          120           75        115         70\n",
       "b          126           85        123         82\n",
       "c          130           90        130         92\n",
       "d          115           87        118         87"
      ]
     },
     "execution_count": 9,
     "metadata": {},
     "output_type": "execute_result"
    }
   ],
   "source": [
    "df.head()"
   ]
  },
  {
   "cell_type": "markdown",
   "id": "06db34e5",
   "metadata": {},
   "source": [
    "## Indexing series and dataframe objects"
   ]
  },
  {
   "cell_type": "code",
   "execution_count": 10,
   "id": "d52cf11e",
   "metadata": {},
   "outputs": [
    {
     "data": {
      "text/plain": [
       "True"
      ]
     },
     "execution_count": 10,
     "metadata": {},
     "output_type": "execute_result"
    }
   ],
   "source": [
    "# Retrieving data from pd.series by key\n",
    "effective_series.loc[\"a\"]"
   ]
  },
  {
   "cell_type": "code",
   "execution_count": 11,
   "id": "65df1fcf",
   "metadata": {},
   "outputs": [
    {
     "data": {
      "text/plain": [
       "True"
      ]
     },
     "execution_count": 11,
     "metadata": {},
     "output_type": "execute_result"
    }
   ],
   "source": [
    "# Retrieving data from pd.series by index\n",
    "effective_series.iloc[0]"
   ]
  },
  {
   "cell_type": "code",
   "execution_count": 12,
   "id": "51c74e00",
   "metadata": {},
   "outputs": [
    {
     "data": {
      "text/plain": [
       "sys_initial    120\n",
       "dia_initial     75\n",
       "sys_final      115\n",
       "dia_final       70\n",
       "Name: a, dtype: int64"
      ]
     },
     "execution_count": 12,
     "metadata": {},
     "output_type": "execute_result"
    }
   ],
   "source": [
    "# Retrieving data from pd.dataframe by key\n",
    "df.loc[\"a\"]\n",
    "# This will return a pd.series"
   ]
  },
  {
   "cell_type": "code",
   "execution_count": 13,
   "id": "7b4ef05c",
   "metadata": {},
   "outputs": [
    {
     "data": {
      "text/plain": [
       "sys_initial    120\n",
       "dia_initial     75\n",
       "sys_final      115\n",
       "dia_final       70\n",
       "Name: a, dtype: int64"
      ]
     },
     "execution_count": 13,
     "metadata": {},
     "output_type": "execute_result"
    }
   ],
   "source": [
    "# Retrieving data from pd.dataframe by index\n",
    "df.iloc[0]"
   ]
  },
  {
   "cell_type": "code",
   "execution_count": 14,
   "id": "2c6a9bfb",
   "metadata": {},
   "outputs": [
    {
     "data": {
      "text/plain": [
       "120"
      ]
     },
     "execution_count": 14,
     "metadata": {},
     "output_type": "execute_result"
    }
   ],
   "source": [
    "# Retrieving a specific cell by keys\n",
    "df.loc[\"a\", \"sys_initial\"]"
   ]
  },
  {
   "cell_type": "code",
   "execution_count": 15,
   "id": "504ff735",
   "metadata": {},
   "outputs": [
    {
     "data": {
      "text/plain": [
       "120"
      ]
     },
     "execution_count": 15,
     "metadata": {},
     "output_type": "execute_result"
    }
   ],
   "source": [
    "# Retrieving a specific cell by keys. second method\n",
    "df.loc[\"a\"].loc[\"sys_initial\"]"
   ]
  },
  {
   "cell_type": "code",
   "execution_count": 16,
   "id": "9a8b7335",
   "metadata": {},
   "outputs": [
    {
     "data": {
      "text/plain": [
       "75"
      ]
     },
     "execution_count": 16,
     "metadata": {},
     "output_type": "execute_result"
    }
   ],
   "source": [
    "# Retrieving a specific cell by index\n",
    "df.iloc[0, 1]"
   ]
  },
  {
   "cell_type": "code",
   "execution_count": 17,
   "id": "afa4836b",
   "metadata": {},
   "outputs": [
    {
     "data": {
      "text/plain": [
       "75"
      ]
     },
     "execution_count": 17,
     "metadata": {},
     "output_type": "execute_result"
    }
   ],
   "source": [
    "# Retrieving a specific cell by index. second method\n",
    "df.iloc[0].iloc[1]"
   ]
  },
  {
   "cell_type": "code",
   "execution_count": 18,
   "id": "eaaf1a3d",
   "metadata": {},
   "outputs": [
    {
     "data": {
      "text/plain": [
       "a    120\n",
       "b    126\n",
       "c    130\n",
       "d    115\n",
       "Name: sys_initial, dtype: int64"
      ]
     },
     "execution_count": 18,
     "metadata": {},
     "output_type": "execute_result"
    }
   ],
   "source": [
    "# Retrieving a column by column attribute\n",
    "df.sys_initial"
   ]
  },
  {
   "cell_type": "code",
   "execution_count": 19,
   "id": "c22184e7",
   "metadata": {},
   "outputs": [
    {
     "data": {
      "text/plain": [
       "a    120\n",
       "b    126\n",
       "c    130\n",
       "d    115\n",
       "Name: sys_initial, dtype: int64"
      ]
     },
     "execution_count": 19,
     "metadata": {},
     "output_type": "execute_result"
    }
   ],
   "source": [
    "# or \n",
    "df[\"sys_initial\"]"
   ]
  },
  {
   "cell_type": "code",
   "execution_count": 20,
   "id": "06432654",
   "metadata": {},
   "outputs": [
    {
     "data": {
      "text/plain": [
       "a    115\n",
       "b    123\n",
       "c    130\n",
       "d    118\n",
       "Name: sys_final, dtype: int64"
      ]
     },
     "execution_count": 20,
     "metadata": {},
     "output_type": "execute_result"
    }
   ],
   "source": [
    "# or\n",
    "df[df.columns[2]]"
   ]
  },
  {
   "cell_type": "code",
   "execution_count": 21,
   "id": "1fc17a01",
   "metadata": {},
   "outputs": [
    {
     "data": {
      "text/plain": [
       "a    115\n",
       "b    123\n",
       "c    130\n",
       "d    118\n",
       "Name: sys_final, dtype: int64"
      ]
     },
     "execution_count": 21,
     "metadata": {},
     "output_type": "execute_result"
    }
   ],
   "source": [
    "# or\n",
    "df.iloc[:, 2]"
   ]
  },
  {
   "cell_type": "code",
   "execution_count": 22,
   "id": "059849eb",
   "metadata": {},
   "outputs": [],
   "source": [
    "# Increasing performance by sorting\n",
    "\n",
    "# Create a series with duplicate index\n",
    "index = list(range(1000)) + list(range(1000))\n",
    "\n",
    "# Accessing a normal series is a O(N) operation\n",
    "series = pd.Series(range(2000), index=index)"
   ]
  },
  {
   "cell_type": "code",
   "execution_count": 23,
   "id": "50ec7126",
   "metadata": {},
   "outputs": [],
   "source": [
    "# Sorting will improve the look-up scaling to O(log(N))\n",
    "series.sort_index(inplace=True)"
   ]
  },
  {
   "cell_type": "markdown",
   "id": "c1681f28",
   "metadata": {},
   "source": [
    "## Database-style operations with pandas"
   ]
  },
  {
   "cell_type": "markdown",
   "id": "edcae2a1",
   "metadata": {},
   "source": [
    "### Mapping"
   ]
  },
  {
   "cell_type": "code",
   "execution_count": 24,
   "id": "8cc51e47",
   "metadata": {},
   "outputs": [
    {
     "data": {
      "text/plain": [
       "a    4.787492\n",
       "b    4.836282\n",
       "c    4.867534\n",
       "d    4.744932\n",
       "Name: sys_initial, dtype: float64"
      ]
     },
     "execution_count": 24,
     "metadata": {},
     "output_type": "execute_result"
    }
   ],
   "source": [
    "# Logarithm of a series\n",
    "np.log(df.sys_initial)"
   ]
  },
  {
   "cell_type": "code",
   "execution_count": 25,
   "id": "d243382d",
   "metadata": {},
   "outputs": [
    {
     "data": {
      "text/plain": [
       "a    14400\n",
       "b    15876\n",
       "c    16900\n",
       "d    13225\n",
       "Name: sys_initial, dtype: int64"
      ]
     },
     "execution_count": 25,
     "metadata": {},
     "output_type": "execute_result"
    }
   ],
   "source": [
    "# Square of a series\n",
    "df.sys_initial ** 2"
   ]
  },
  {
   "cell_type": "code",
   "execution_count": 26,
   "id": "de8e475e",
   "metadata": {},
   "outputs": [
    {
     "data": {
      "text/html": [
       "<div>\n",
       "<style scoped>\n",
       "    .dataframe tbody tr th:only-of-type {\n",
       "        vertical-align: middle;\n",
       "    }\n",
       "\n",
       "    .dataframe tbody tr th {\n",
       "        vertical-align: top;\n",
       "    }\n",
       "\n",
       "    .dataframe thead th {\n",
       "        text-align: right;\n",
       "    }\n",
       "</style>\n",
       "<table border=\"1\" class=\"dataframe\">\n",
       "  <thead>\n",
       "    <tr style=\"text-align: right;\">\n",
       "      <th></th>\n",
       "      <th>sys_initial</th>\n",
       "      <th>dia_initial</th>\n",
       "      <th>sys_final</th>\n",
       "      <th>dia_final</th>\n",
       "    </tr>\n",
       "  </thead>\n",
       "  <tbody>\n",
       "    <tr>\n",
       "      <th>a</th>\n",
       "      <td>4.787492</td>\n",
       "      <td>4.317488</td>\n",
       "      <td>4.744932</td>\n",
       "      <td>4.248495</td>\n",
       "    </tr>\n",
       "    <tr>\n",
       "      <th>b</th>\n",
       "      <td>4.836282</td>\n",
       "      <td>4.442651</td>\n",
       "      <td>4.812184</td>\n",
       "      <td>4.406719</td>\n",
       "    </tr>\n",
       "    <tr>\n",
       "      <th>c</th>\n",
       "      <td>4.867534</td>\n",
       "      <td>4.499810</td>\n",
       "      <td>4.867534</td>\n",
       "      <td>4.521789</td>\n",
       "    </tr>\n",
       "    <tr>\n",
       "      <th>d</th>\n",
       "      <td>4.744932</td>\n",
       "      <td>4.465908</td>\n",
       "      <td>4.770685</td>\n",
       "      <td>4.465908</td>\n",
       "    </tr>\n",
       "  </tbody>\n",
       "</table>\n",
       "</div>"
      ],
      "text/plain": [
       "   sys_initial  dia_initial  sys_final  dia_final\n",
       "a     4.787492     4.317488   4.744932   4.248495\n",
       "b     4.836282     4.442651   4.812184   4.406719\n",
       "c     4.867534     4.499810   4.867534   4.521789\n",
       "d     4.744932     4.465908   4.770685   4.465908"
      ]
     },
     "execution_count": 26,
     "metadata": {},
     "output_type": "execute_result"
    }
   ],
   "source": [
    "# Logarithm of a dataframe\n",
    "np.log(df)"
   ]
  },
  {
   "cell_type": "code",
   "execution_count": 27,
   "id": "6562e0a3",
   "metadata": {},
   "outputs": [
    {
     "data": {
      "text/html": [
       "<div>\n",
       "<style scoped>\n",
       "    .dataframe tbody tr th:only-of-type {\n",
       "        vertical-align: middle;\n",
       "    }\n",
       "\n",
       "    .dataframe tbody tr th {\n",
       "        vertical-align: top;\n",
       "    }\n",
       "\n",
       "    .dataframe thead th {\n",
       "        text-align: right;\n",
       "    }\n",
       "</style>\n",
       "<table border=\"1\" class=\"dataframe\">\n",
       "  <thead>\n",
       "    <tr style=\"text-align: right;\">\n",
       "      <th></th>\n",
       "      <th>sys_initial</th>\n",
       "      <th>dia_initial</th>\n",
       "      <th>sys_final</th>\n",
       "      <th>dia_final</th>\n",
       "    </tr>\n",
       "  </thead>\n",
       "  <tbody>\n",
       "    <tr>\n",
       "      <th>a</th>\n",
       "      <td>14400</td>\n",
       "      <td>5625</td>\n",
       "      <td>13225</td>\n",
       "      <td>4900</td>\n",
       "    </tr>\n",
       "    <tr>\n",
       "      <th>b</th>\n",
       "      <td>15876</td>\n",
       "      <td>7225</td>\n",
       "      <td>15129</td>\n",
       "      <td>6724</td>\n",
       "    </tr>\n",
       "    <tr>\n",
       "      <th>c</th>\n",
       "      <td>16900</td>\n",
       "      <td>8100</td>\n",
       "      <td>16900</td>\n",
       "      <td>8464</td>\n",
       "    </tr>\n",
       "    <tr>\n",
       "      <th>d</th>\n",
       "      <td>13225</td>\n",
       "      <td>7569</td>\n",
       "      <td>13924</td>\n",
       "      <td>7569</td>\n",
       "    </tr>\n",
       "  </tbody>\n",
       "</table>\n",
       "</div>"
      ],
      "text/plain": [
       "   sys_initial  dia_initial  sys_final  dia_final\n",
       "a        14400         5625      13225       4900\n",
       "b        15876         7225      15129       6724\n",
       "c        16900         8100      16900       8464\n",
       "d        13225         7569      13924       7569"
      ]
     },
     "execution_count": 27,
     "metadata": {},
     "output_type": "execute_result"
    }
   ],
   "source": [
    "# square of a dataframe\n",
    "df ** 2"
   ]
  },
  {
   "cell_type": "code",
   "execution_count": 28,
   "id": "f43778b2",
   "metadata": {},
   "outputs": [
    {
     "data": {
      "text/plain": [
       "a    5\n",
       "b    7\n",
       "c    9\n",
       "dtype: int64"
      ]
     },
     "execution_count": 28,
     "metadata": {},
     "output_type": "execute_result"
    }
   ],
   "source": [
    "# Element-wise operation on two pd.series\n",
    "a = pd.Series([1, 2, 3], index=[\"a\", \"b\", \"c\"])\n",
    "b = pd.Series([4, 5, 6], index=[\"a\", \"b\", \"c\"])\n",
    "\n",
    "a + b"
   ]
  },
  {
   "cell_type": "code",
   "execution_count": 29,
   "id": "6ad19e73",
   "metadata": {},
   "outputs": [
    {
     "data": {
      "text/plain": [
       "a    5.0\n",
       "b    7.0\n",
       "c    NaN\n",
       "d    NaN\n",
       "dtype: float64"
      ]
     },
     "execution_count": 29,
     "metadata": {},
     "output_type": "execute_result"
    }
   ],
   "source": [
    "# if there is a mismatch in series the result will be NaN\n",
    "c = pd.Series([4, 5, 6], index=[\"a\", \"b\", \"d\"])\n",
    "\n",
    "a + c"
   ]
  },
  {
   "cell_type": "code",
   "execution_count": 30,
   "id": "fc7cd35b",
   "metadata": {},
   "outputs": [
    {
     "data": {
      "text/plain": [
       "a    *1*\n",
       "b    *2*\n",
       "c    *3*\n",
       "dtype: object"
      ]
     },
     "execution_count": 30,
     "metadata": {},
     "output_type": "execute_result"
    }
   ],
   "source": [
    "# Applying mapping methods on series\n",
    "def superstar(x):\n",
    "    return '*' + str(x) + '*'\n",
    "\n",
    "a.map(superstar)"
   ]
  },
  {
   "cell_type": "code",
   "execution_count": 31,
   "id": "f86c76d7",
   "metadata": {},
   "outputs": [
    {
     "data": {
      "text/html": [
       "<div>\n",
       "<style scoped>\n",
       "    .dataframe tbody tr th:only-of-type {\n",
       "        vertical-align: middle;\n",
       "    }\n",
       "\n",
       "    .dataframe tbody tr th {\n",
       "        vertical-align: top;\n",
       "    }\n",
       "\n",
       "    .dataframe thead th {\n",
       "        text-align: right;\n",
       "    }\n",
       "</style>\n",
       "<table border=\"1\" class=\"dataframe\">\n",
       "  <thead>\n",
       "    <tr style=\"text-align: right;\">\n",
       "      <th></th>\n",
       "      <th>sys_initial</th>\n",
       "      <th>dia_initial</th>\n",
       "      <th>sys_final</th>\n",
       "      <th>dia_final</th>\n",
       "    </tr>\n",
       "  </thead>\n",
       "  <tbody>\n",
       "    <tr>\n",
       "      <th>a</th>\n",
       "      <td>*120*</td>\n",
       "      <td>*75*</td>\n",
       "      <td>*115*</td>\n",
       "      <td>*70*</td>\n",
       "    </tr>\n",
       "    <tr>\n",
       "      <th>b</th>\n",
       "      <td>*126*</td>\n",
       "      <td>*85*</td>\n",
       "      <td>*123*</td>\n",
       "      <td>*82*</td>\n",
       "    </tr>\n",
       "    <tr>\n",
       "      <th>c</th>\n",
       "      <td>*130*</td>\n",
       "      <td>*90*</td>\n",
       "      <td>*130*</td>\n",
       "      <td>*92*</td>\n",
       "    </tr>\n",
       "    <tr>\n",
       "      <th>d</th>\n",
       "      <td>*115*</td>\n",
       "      <td>*87*</td>\n",
       "      <td>*118*</td>\n",
       "      <td>*87*</td>\n",
       "    </tr>\n",
       "  </tbody>\n",
       "</table>\n",
       "</div>"
      ],
      "text/plain": [
       "  sys_initial dia_initial sys_final dia_final\n",
       "a       *120*        *75*     *115*      *70*\n",
       "b       *126*        *85*     *123*      *82*\n",
       "c       *130*        *90*     *130*      *92*\n",
       "d       *115*        *87*     *118*      *87*"
      ]
     },
     "execution_count": 31,
     "metadata": {},
     "output_type": "execute_result"
    }
   ],
   "source": [
    "# Applying mapping method to dataframe\n",
    "# map and applymap are equivalent\n",
    "df.applymap(superstar)"
   ]
  },
  {
   "cell_type": "code",
   "execution_count": 32,
   "id": "432e8b91",
   "metadata": {},
   "outputs": [
    {
     "data": {
      "text/plain": [
       "sys_initial    *a    120\\nb    126\\nc    130\\nd    115\\nName:...\n",
       "dia_initial    *a    75\\nb    85\\nc    90\\nd    87\\nName: dia...\n",
       "sys_final      *a    115\\nb    123\\nc    130\\nd    118\\nName:...\n",
       "dia_final      *a    70\\nb    82\\nc    92\\nd    87\\nName: dia...\n",
       "dtype: object"
      ]
     },
     "execution_count": 32,
     "metadata": {},
     "output_type": "execute_result"
    }
   ],
   "source": [
    "# Applying a mapping method to a single row or column in datafram\n",
    "# axis = 0 means apply method to columns\n",
    "# axis = 0 means apply method to rows\n",
    "# This will return a series\n",
    "df.apply(superstar, axis=0)"
   ]
  },
  {
   "cell_type": "code",
   "execution_count": 33,
   "id": "6820fe4b",
   "metadata": {},
   "outputs": [
    {
     "data": {
      "text/plain": [
       "a    *sys_initial    120\\ndia_initial     75\\nsys_f...\n",
       "b    *sys_initial    126\\ndia_initial     85\\nsys_f...\n",
       "c    *sys_initial    130\\ndia_initial     90\\nsys_f...\n",
       "d    *sys_initial    115\\ndia_initial     87\\nsys_f...\n",
       "dtype: object"
      ]
     },
     "execution_count": 33,
     "metadata": {},
     "output_type": "execute_result"
    }
   ],
   "source": [
    "df.apply(superstar, axis=1)"
   ]
  },
  {
   "cell_type": "code",
   "execution_count": 34,
   "id": "47d304b3",
   "metadata": {},
   "outputs": [
    {
     "data": {
      "text/plain": [
       "a   -5\n",
       "b   -3\n",
       "c    0\n",
       "d    3\n",
       "dtype: int64"
      ]
     },
     "execution_count": 34,
     "metadata": {},
     "output_type": "execute_result"
    }
   ],
   "source": [
    "# Using eval method to apply numexpr style operations\n",
    "df.eval(\"sys_final - sys_initial\")"
   ]
  },
  {
   "cell_type": "code",
   "execution_count": 35,
   "id": "27b116f3",
   "metadata": {},
   "outputs": [
    {
     "data": {
      "text/html": [
       "<div>\n",
       "<style scoped>\n",
       "    .dataframe tbody tr th:only-of-type {\n",
       "        vertical-align: middle;\n",
       "    }\n",
       "\n",
       "    .dataframe tbody tr th {\n",
       "        vertical-align: top;\n",
       "    }\n",
       "\n",
       "    .dataframe thead th {\n",
       "        text-align: right;\n",
       "    }\n",
       "</style>\n",
       "<table border=\"1\" class=\"dataframe\">\n",
       "  <thead>\n",
       "    <tr style=\"text-align: right;\">\n",
       "      <th></th>\n",
       "      <th>sys_initial</th>\n",
       "      <th>dia_initial</th>\n",
       "      <th>sys_final</th>\n",
       "      <th>dia_final</th>\n",
       "      <th>sys_delta</th>\n",
       "    </tr>\n",
       "  </thead>\n",
       "  <tbody>\n",
       "    <tr>\n",
       "      <th>a</th>\n",
       "      <td>120</td>\n",
       "      <td>75</td>\n",
       "      <td>115</td>\n",
       "      <td>70</td>\n",
       "      <td>-5</td>\n",
       "    </tr>\n",
       "    <tr>\n",
       "      <th>b</th>\n",
       "      <td>126</td>\n",
       "      <td>85</td>\n",
       "      <td>123</td>\n",
       "      <td>82</td>\n",
       "      <td>-3</td>\n",
       "    </tr>\n",
       "    <tr>\n",
       "      <th>c</th>\n",
       "      <td>130</td>\n",
       "      <td>90</td>\n",
       "      <td>130</td>\n",
       "      <td>92</td>\n",
       "      <td>0</td>\n",
       "    </tr>\n",
       "    <tr>\n",
       "      <th>d</th>\n",
       "      <td>115</td>\n",
       "      <td>87</td>\n",
       "      <td>118</td>\n",
       "      <td>87</td>\n",
       "      <td>3</td>\n",
       "    </tr>\n",
       "  </tbody>\n",
       "</table>\n",
       "</div>"
      ],
      "text/plain": [
       "   sys_initial  dia_initial  sys_final  dia_final  sys_delta\n",
       "a          120           75        115         70         -5\n",
       "b          126           85        123         82         -3\n",
       "c          130           90        130         92          0\n",
       "d          115           87        118         87          3"
      ]
     },
     "execution_count": 35,
     "metadata": {},
     "output_type": "execute_result"
    }
   ],
   "source": [
    "# Creating new column using eval method\n",
    "# if inplace=True it will apply operation directly to original dataframe\n",
    "df.eval(\"sys_delta = sys_final - sys_initial\", inplace=False)"
   ]
  },
  {
   "cell_type": "code",
   "execution_count": null,
   "id": "97495b0b",
   "metadata": {},
   "outputs": [],
   "source": []
  }
 ],
 "metadata": {
  "kernelspec": {
   "display_name": "Python 3 (ipykernel)",
   "language": "python",
   "name": "python3"
  },
  "language_info": {
   "codemirror_mode": {
    "name": "ipython",
    "version": 3
   },
   "file_extension": ".py",
   "mimetype": "text/x-python",
   "name": "python",
   "nbconvert_exporter": "python",
   "pygments_lexer": "ipython3",
   "version": "3.9.13"
  }
 },
 "nbformat": 4,
 "nbformat_minor": 5
}
