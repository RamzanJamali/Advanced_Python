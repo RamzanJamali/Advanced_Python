{
 "cells": [
  {
   "cell_type": "markdown",
   "id": "9ae820a1",
   "metadata": {},
   "source": [
    "# Pandas Fundamentals"
   ]
  },
  {
   "cell_type": "markdown",
   "id": "f263ffd0",
   "metadata": {},
   "source": [
    "## Creating Pandas Series"
   ]
  },
  {
   "cell_type": "code",
   "execution_count": 1,
   "id": "3cd775dd",
   "metadata": {},
   "outputs": [],
   "source": [
    "import pandas as pd\n",
    "\n",
    "# this is index array\n",
    "patients = [0, 1, 2, 3]\n",
    "# this is information array\n",
    "effective = [True, True, False, False]\n",
    "\n",
    "effective_series = pd.Series(effective, index=patients)"
   ]
  },
  {
   "cell_type": "code",
   "execution_count": 2,
   "id": "13f35ed7",
   "metadata": {},
   "outputs": [
    {
     "data": {
      "text/plain": [
       "0     True\n",
       "1     True\n",
       "2    False\n",
       "3    False\n",
       "dtype: bool"
      ]
     },
     "execution_count": 2,
     "metadata": {},
     "output_type": "execute_result"
    }
   ],
   "source": [
    "effective_series.head()"
   ]
  },
  {
   "cell_type": "code",
   "execution_count": 3,
   "id": "0dadb5c1",
   "metadata": {},
   "outputs": [],
   "source": [
    "# index array can also have strings, floating-point numbers and generic(hashables)\n",
    "patients = ['a', 'b', 'c', 'd']\n",
    "# this is information array\n",
    "effective = [True, True, False, False]\n",
    "\n",
    "effective_series = pd.Series(effective, index=patients)"
   ]
  },
  {
   "cell_type": "code",
   "execution_count": 4,
   "id": "9f6389b2",
   "metadata": {},
   "outputs": [
    {
     "data": {
      "text/plain": [
       "a     True\n",
       "b     True\n",
       "c    False\n",
       "d    False\n",
       "dtype: bool"
      ]
     },
     "execution_count": 4,
     "metadata": {},
     "output_type": "execute_result"
    }
   ],
   "source": [
    "effective_series.head()"
   ]
  },
  {
   "cell_type": "markdown",
   "id": "dbe49284",
   "metadata": {},
   "source": [
    "## Creating Pandas DataFrame"
   ]
  },
  {
   "cell_type": "code",
   "execution_count": 5,
   "id": "8aafdee0",
   "metadata": {},
   "outputs": [],
   "source": [
    "# creating index\n",
    "patients = [\"a\", \"b\", \"c\", \"d\"]\n",
    "# creating data\n",
    "columns = {\n",
    "    \"sys_initial\": [120, 126, 130, 115],\n",
    "    \"dia_initial\": [75, 85, 90, 87],\n",
    "    \"sys_final\": [115, 123, 130, 118],\n",
    "    \"dia_final\": [70, 82, 92, 87]\n",
    "}\n",
    "# creating dataframe\n",
    "df = pd.DataFrame(columns, index=patients)"
   ]
  },
  {
   "cell_type": "code",
   "execution_count": 6,
   "id": "6c3e8c46",
   "metadata": {},
   "outputs": [
    {
     "data": {
      "text/html": [
       "<div>\n",
       "<style scoped>\n",
       "    .dataframe tbody tr th:only-of-type {\n",
       "        vertical-align: middle;\n",
       "    }\n",
       "\n",
       "    .dataframe tbody tr th {\n",
       "        vertical-align: top;\n",
       "    }\n",
       "\n",
       "    .dataframe thead th {\n",
       "        text-align: right;\n",
       "    }\n",
       "</style>\n",
       "<table border=\"1\" class=\"dataframe\">\n",
       "  <thead>\n",
       "    <tr style=\"text-align: right;\">\n",
       "      <th></th>\n",
       "      <th>sys_initial</th>\n",
       "      <th>dia_initial</th>\n",
       "      <th>sys_final</th>\n",
       "      <th>dia_final</th>\n",
       "    </tr>\n",
       "  </thead>\n",
       "  <tbody>\n",
       "    <tr>\n",
       "      <th>a</th>\n",
       "      <td>120</td>\n",
       "      <td>75</td>\n",
       "      <td>115</td>\n",
       "      <td>70</td>\n",
       "    </tr>\n",
       "    <tr>\n",
       "      <th>b</th>\n",
       "      <td>126</td>\n",
       "      <td>85</td>\n",
       "      <td>123</td>\n",
       "      <td>82</td>\n",
       "    </tr>\n",
       "    <tr>\n",
       "      <th>c</th>\n",
       "      <td>130</td>\n",
       "      <td>90</td>\n",
       "      <td>130</td>\n",
       "      <td>92</td>\n",
       "    </tr>\n",
       "    <tr>\n",
       "      <th>d</th>\n",
       "      <td>115</td>\n",
       "      <td>87</td>\n",
       "      <td>118</td>\n",
       "      <td>87</td>\n",
       "    </tr>\n",
       "  </tbody>\n",
       "</table>\n",
       "</div>"
      ],
      "text/plain": [
       "   sys_initial  dia_initial  sys_final  dia_final\n",
       "a          120           75        115         70\n",
       "b          126           85        123         82\n",
       "c          130           90        130         92\n",
       "d          115           87        118         87"
      ]
     },
     "execution_count": 6,
     "metadata": {},
     "output_type": "execute_result"
    }
   ],
   "source": [
    "df.head()"
   ]
  },
  {
   "cell_type": "code",
   "execution_count": 7,
   "id": "2ae55159",
   "metadata": {},
   "outputs": [],
   "source": [
    "# creating dataframe from pd-series\n",
    "patients = [\"a\", \"b\", \"c\", \"d\"]\n",
    "# creating data\n",
    "columns = {\n",
    "    \"sys_initial\": pd.Series([120, 126, 130, 115], index=patients),\n",
    "    \"dia_initial\": pd.Series([75, 85, 90, 87], index=patients),\n",
    "    \"sys_final\": pd.Series([115, 123, 130, 118], index=patients),\n",
    "    \"dia_final\": pd.Series([70, 82, 92, 87], index=patients)\n",
    "}\n",
    "# creating dataframe\n",
    "df = pd.DataFrame(columns)"
   ]
  },
  {
   "cell_type": "code",
   "execution_count": 8,
   "id": "c418af53",
   "metadata": {},
   "outputs": [
    {
     "data": {
      "text/html": [
       "<div>\n",
       "<style scoped>\n",
       "    .dataframe tbody tr th:only-of-type {\n",
       "        vertical-align: middle;\n",
       "    }\n",
       "\n",
       "    .dataframe tbody tr th {\n",
       "        vertical-align: top;\n",
       "    }\n",
       "\n",
       "    .dataframe thead th {\n",
       "        text-align: right;\n",
       "    }\n",
       "</style>\n",
       "<table border=\"1\" class=\"dataframe\">\n",
       "  <thead>\n",
       "    <tr style=\"text-align: right;\">\n",
       "      <th></th>\n",
       "      <th>sys_initial</th>\n",
       "      <th>dia_initial</th>\n",
       "      <th>sys_final</th>\n",
       "      <th>dia_final</th>\n",
       "    </tr>\n",
       "  </thead>\n",
       "  <tbody>\n",
       "    <tr>\n",
       "      <th>a</th>\n",
       "      <td>120</td>\n",
       "      <td>75</td>\n",
       "      <td>115</td>\n",
       "      <td>70</td>\n",
       "    </tr>\n",
       "    <tr>\n",
       "      <th>b</th>\n",
       "      <td>126</td>\n",
       "      <td>85</td>\n",
       "      <td>123</td>\n",
       "      <td>82</td>\n",
       "    </tr>\n",
       "    <tr>\n",
       "      <th>c</th>\n",
       "      <td>130</td>\n",
       "      <td>90</td>\n",
       "      <td>130</td>\n",
       "      <td>92</td>\n",
       "    </tr>\n",
       "    <tr>\n",
       "      <th>d</th>\n",
       "      <td>115</td>\n",
       "      <td>87</td>\n",
       "      <td>118</td>\n",
       "      <td>87</td>\n",
       "    </tr>\n",
       "  </tbody>\n",
       "</table>\n",
       "</div>"
      ],
      "text/plain": [
       "   sys_initial  dia_initial  sys_final  dia_final\n",
       "a          120           75        115         70\n",
       "b          126           85        123         82\n",
       "c          130           90        130         92\n",
       "d          115           87        118         87"
      ]
     },
     "execution_count": 8,
     "metadata": {},
     "output_type": "execute_result"
    }
   ],
   "source": [
    "df.head()"
   ]
  },
  {
   "cell_type": "code",
   "execution_count": null,
   "id": "3a5a51aa",
   "metadata": {},
   "outputs": [],
   "source": []
  }
 ],
 "metadata": {
  "kernelspec": {
   "display_name": "Python 3 (ipykernel)",
   "language": "python",
   "name": "python3"
  },
  "language_info": {
   "codemirror_mode": {
    "name": "ipython",
    "version": 3
   },
   "file_extension": ".py",
   "mimetype": "text/x-python",
   "name": "python",
   "nbconvert_exporter": "python",
   "pygments_lexer": "ipython3",
   "version": "3.9.13"
  }
 },
 "nbformat": 4,
 "nbformat_minor": 5
}
