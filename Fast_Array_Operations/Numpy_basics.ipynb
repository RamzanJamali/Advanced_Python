{
 "cells": [
  {
   "cell_type": "markdown",
   "id": "7e3e7525",
   "metadata": {},
   "source": [
    "# Numpy"
   ]
  },
  {
   "cell_type": "markdown",
   "id": "4d1d1d34",
   "metadata": {},
   "source": [
    "### Creating arrays"
   ]
  },
  {
   "cell_type": "code",
   "execution_count": 2,
   "id": "b06d657c",
   "metadata": {},
   "outputs": [],
   "source": [
    "import numpy as np"
   ]
  },
  {
   "cell_type": "code",
   "execution_count": 2,
   "id": "7b947c96",
   "metadata": {},
   "outputs": [],
   "source": [
    "# Creating numpy array\n",
    "a = np.array([0, 1, 2])"
   ]
  },
  {
   "cell_type": "code",
   "execution_count": 3,
   "id": "9cc476b9",
   "metadata": {},
   "outputs": [
    {
     "data": {
      "text/plain": [
       "dtype('int32')"
      ]
     },
     "execution_count": 3,
     "metadata": {},
     "output_type": "execute_result"
    }
   ],
   "source": [
    "# Checking data type of elements in numpy array\n",
    "a.dtype"
   ]
  },
  {
   "cell_type": "code",
   "execution_count": 5,
   "id": "1a0ba185",
   "metadata": {},
   "outputs": [
    {
     "data": {
      "text/plain": [
       "dtype('float32')"
      ]
     },
     "execution_count": 5,
     "metadata": {},
     "output_type": "execute_result"
    }
   ],
   "source": [
    "# Changing data type of elements\n",
    "a = np.array([1, 2, 3], dtype='float32')\n",
    "a.dtype"
   ]
  },
  {
   "cell_type": "code",
   "execution_count": 6,
   "id": "7a15d039",
   "metadata": {},
   "outputs": [
    {
     "data": {
      "text/plain": [
       "array([1., 2., 3.], dtype=float32)"
      ]
     },
     "execution_count": 6,
     "metadata": {},
     "output_type": "execute_result"
    }
   ],
   "source": [
    "# Changing data type of elements second method\n",
    "a.astype('float32')"
   ]
  },
  {
   "cell_type": "code",
   "execution_count": 7,
   "id": "482a8816",
   "metadata": {},
   "outputs": [
    {
     "name": "stdout",
     "output_type": "stream",
     "text": [
      "[[0 1 2]\n",
      " [3 4 5]]\n"
     ]
    }
   ],
   "source": [
    "# Creating two dimensional array\n",
    "a = np.array([[0, 1, 2], [3, 4, 5]])\n",
    "print(a)"
   ]
  },
  {
   "cell_type": "code",
   "execution_count": 8,
   "id": "5334009b",
   "metadata": {},
   "outputs": [
    {
     "data": {
      "text/plain": [
       "(2, 3)"
      ]
     },
     "execution_count": 8,
     "metadata": {},
     "output_type": "execute_result"
    }
   ],
   "source": [
    "# Checking shape of array\n",
    "a.shape"
   ]
  },
  {
   "cell_type": "code",
   "execution_count": 11,
   "id": "853cd191",
   "metadata": {},
   "outputs": [
    {
     "data": {
      "text/plain": [
       "(16,)"
      ]
     },
     "execution_count": 11,
     "metadata": {},
     "output_type": "execute_result"
    }
   ],
   "source": [
    "# Declaring array for reshaping\n",
    "a = np.array([0, 1, 2, 3, 4, 5, 6, 7, 8, 9, 10, 11, 12, 13, 14, 15])\n",
    "a.shape"
   ]
  },
  {
   "cell_type": "code",
   "execution_count": 15,
   "id": "f4f0f8e7",
   "metadata": {},
   "outputs": [
    {
     "data": {
      "text/plain": [
       "(4, 4)"
      ]
     },
     "execution_count": 15,
     "metadata": {},
     "output_type": "execute_result"
    }
   ],
   "source": [
    "# First method\n",
    "a = a.reshape(4, 4)\n",
    "a.shape"
   ]
  },
  {
   "cell_type": "code",
   "execution_count": 16,
   "id": "ef9a5c08",
   "metadata": {},
   "outputs": [
    {
     "data": {
      "text/plain": [
       "(2, 2, 4)"
      ]
     },
     "execution_count": 16,
     "metadata": {},
     "output_type": "execute_result"
    }
   ],
   "source": [
    "# second method\n",
    "a.shape = (2, 2, 4)\n",
    "a.shape"
   ]
  },
  {
   "cell_type": "code",
   "execution_count": 17,
   "id": "d0341218",
   "metadata": {},
   "outputs": [
    {
     "name": "stdout",
     "output_type": "stream",
     "text": [
      "[[0. 0. 0.]\n",
      " [0. 0. 0.]\n",
      " [0. 0. 0.]]\n"
     ]
    }
   ],
   "source": [
    "# creating an array of zeros\n",
    "zeros = np.zeros((3, 3))\n",
    "print(zeros)"
   ]
  },
  {
   "cell_type": "code",
   "execution_count": 19,
   "id": "436e3f9a",
   "metadata": {},
   "outputs": [
    {
     "data": {
      "text/plain": [
       "dtype('float64')"
      ]
     },
     "execution_count": 19,
     "metadata": {},
     "output_type": "execute_result"
    }
   ],
   "source": [
    "# creating an empty array\n",
    "empty = np.empty((3, 3))\n",
    "empty.dtype"
   ]
  },
  {
   "cell_type": "code",
   "execution_count": 20,
   "id": "a1837039",
   "metadata": {},
   "outputs": [
    {
     "name": "stdout",
     "output_type": "stream",
     "text": [
      "[[1. 1. 1.]\n",
      " [1. 1. 1.]\n",
      " [1. 1. 1.]]\n"
     ]
    }
   ],
   "source": [
    "# creating an array of ones with optional dtype\n",
    "ones = np.ones((3, 3), dtype='float32')\n",
    "print(ones)"
   ]
  },
  {
   "cell_type": "code",
   "execution_count": 21,
   "id": "5aa623ff",
   "metadata": {},
   "outputs": [
    {
     "name": "stdout",
     "output_type": "stream",
     "text": [
      "[[0.84080888 0.62551381 0.48834254]\n",
      " [0.17407266 0.11581341 0.61624829]\n",
      " [0.17365566 0.26225099 0.3456938 ]]\n"
     ]
    }
   ],
   "source": [
    "# Creating random array of floating numbers in range of (0, 1)\n",
    "randoms = np.random.rand(3, 3)\n",
    "print(randoms)"
   ]
  },
  {
   "cell_type": "code",
   "execution_count": 22,
   "id": "1b1e30a1",
   "metadata": {},
   "outputs": [],
   "source": [
    "# Creating same shape arrays\n",
    "x = np.random.rand(2, 3)\n",
    "y = np.random.rand(3, 4)\n",
    "z = np.random.rand(4, 2)"
   ]
  },
  {
   "cell_type": "code",
   "execution_count": 23,
   "id": "11bb0b72",
   "metadata": {},
   "outputs": [
    {
     "name": "stdout",
     "output_type": "stream",
     "text": [
      "[[0. 0. 0.]\n",
      " [0. 0. 0.]]\n"
     ]
    }
   ],
   "source": [
    "print(np.zeros_like(x))"
   ]
  },
  {
   "cell_type": "code",
   "execution_count": 26,
   "id": "7036a1d8",
   "metadata": {},
   "outputs": [
    {
     "name": "stdout",
     "output_type": "stream",
     "text": [
      "[[1.42687649e-311 2.81617418e-322 0.00000000e+000 0.00000000e+000]\n",
      " [1.20953760e-312 1.16096346e-028 9.82205649e+252 1.11789342e+253]\n",
      " [3.28897951e-086 8.48378423e+136 3.24249977e-086 7.78045999e-143]]\n"
     ]
    }
   ],
   "source": [
    "# Their actual value is meaningless\n",
    "print(np.empty_like(y))"
   ]
  },
  {
   "cell_type": "code",
   "execution_count": 25,
   "id": "32ef8bff",
   "metadata": {},
   "outputs": [
    {
     "name": "stdout",
     "output_type": "stream",
     "text": [
      "[[1. 1.]\n",
      " [1. 1.]\n",
      " [1. 1.]\n",
      " [1. 1.]]\n"
     ]
    }
   ],
   "source": [
    "print(np.ones_like(z))"
   ]
  },
  {
   "cell_type": "markdown",
   "id": "cccb80d8",
   "metadata": {},
   "source": [
    "## Accessing Arrays"
   ]
  },
  {
   "cell_type": "code",
   "execution_count": 4,
   "id": "b733e790",
   "metadata": {},
   "outputs": [
    {
     "name": "stdout",
     "output_type": "stream",
     "text": [
      "0\n"
     ]
    },
    {
     "data": {
      "text/plain": [
       "[0, 1, 2, 3, 4, 5, 6, 7, 8]"
      ]
     },
     "execution_count": 4,
     "metadata": {},
     "output_type": "execute_result"
    }
   ],
   "source": [
    "A = np.array([0, 1, 2, 3, 4, 5, 6, 7, 8])\n",
    "\n",
    "print(A[0])\n",
    "[a for a in A]"
   ]
  },
  {
   "cell_type": "markdown",
   "id": "f5bb8871",
   "metadata": {},
   "source": [
    "### Indexing and slicing"
   ]
  },
  {
   "cell_type": "code",
   "execution_count": 6,
   "id": "b19851e3",
   "metadata": {},
   "outputs": [
    {
     "data": {
      "text/plain": [
       "array([0, 1, 2])"
      ]
     },
     "execution_count": 6,
     "metadata": {},
     "output_type": "execute_result"
    }
   ],
   "source": [
    "B = np.array([[0, 1, 2], [3, 4, 5], [6, 7, 8]])\n",
    "\n",
    "# element at index 0\n",
    "B[0]"
   ]
  },
  {
   "cell_type": "code",
   "execution_count": 8,
   "id": "8120eb9c",
   "metadata": {},
   "outputs": [
    {
     "name": "stdout",
     "output_type": "stream",
     "text": [
      "1\n",
      "1\n"
     ]
    }
   ],
   "source": [
    "# element at index [0, 1]\n",
    "print(B[0, 1])\n",
    "print(B[(0, 1)])"
   ]
  },
  {
   "cell_type": "code",
   "execution_count": 9,
   "id": "2442d0ee",
   "metadata": {},
   "outputs": [
    {
     "data": {
      "text/plain": [
       "array([[0, 1, 2],\n",
       "       [3, 4, 5]])"
      ]
     },
     "execution_count": 9,
     "metadata": {},
     "output_type": "execute_result"
    }
   ],
   "source": [
    "# slicing on the first dimension\n",
    "B[0:2]"
   ]
  },
  {
   "cell_type": "code",
   "execution_count": 10,
   "id": "cdd87063",
   "metadata": {},
   "outputs": [
    {
     "data": {
      "text/plain": [
       "array([[0, 1],\n",
       "       [3, 4]])"
      ]
     },
     "execution_count": 10,
     "metadata": {},
     "output_type": "execute_result"
    }
   ],
   "source": [
    "# slicing on two dimensions\n",
    "B[0:2, 0:2]"
   ]
  },
  {
   "cell_type": "code",
   "execution_count": 11,
   "id": "dd629bef",
   "metadata": {},
   "outputs": [
    {
     "data": {
      "text/plain": [
       "array([[0, 8, 2],\n",
       "       [3, 4, 5],\n",
       "       [6, 7, 8]])"
      ]
     },
     "execution_count": 11,
     "metadata": {},
     "output_type": "execute_result"
    }
   ],
   "source": [
    "# updating value using index\n",
    "B[0, 1] = 8\n",
    "B"
   ]
  },
  {
   "cell_type": "code",
   "execution_count": 12,
   "id": "d21c03b1",
   "metadata": {},
   "outputs": [
    {
     "data": {
      "text/plain": [
       "array([[1, 1, 2],\n",
       "       [1, 1, 5],\n",
       "       [6, 7, 8]])"
      ]
     },
     "execution_count": 12,
     "metadata": {},
     "output_type": "execute_result"
    }
   ],
   "source": [
    "# updating value using slice\n",
    "B[0:2, 0:2] = [[1, 1], [1, 1]]\n",
    "B"
   ]
  },
  {
   "cell_type": "code",
   "execution_count": 13,
   "id": "6bdc13ac",
   "metadata": {},
   "outputs": [
    {
     "name": "stdout",
     "output_type": "stream",
     "text": [
      "[1 1]\n",
      "[2 1 1 1]\n"
     ]
    }
   ],
   "source": [
    "# Creating a view of array. Note that it's not a copy of array\n",
    "C = np.array([1, 1, 1, 1])\n",
    "c_view = C[0:2]\n",
    "print(c_view)\n",
    "c_view[0] = 2\n",
    "print(C)"
   ]
  },
  {
   "cell_type": "code",
   "execution_count": 16,
   "id": "4c5cbfdf",
   "metadata": {},
   "outputs": [
    {
     "name": "stdout",
     "output_type": "stream",
     "text": [
      "[[0.30496465 0.72550434]\n",
      " [0.4478702  0.13745311]\n",
      " [0.37346665 0.06644194]\n",
      " [0.19301461 0.18330369]\n",
      " [0.63022566 0.47189236]\n",
      " [0.06994126 0.17819801]\n",
      " [0.40366557 0.70925842]\n",
      " [0.74302327 0.98436232]\n",
      " [0.70388594 0.61644079]\n",
      " [0.35669197 0.05118591]]\n"
     ]
    }
   ],
   "source": [
    "# An array with 10 elements of size 2 will be:\n",
    "r_i = np.random.rand(10, 2)\n",
    "print(r_i)"
   ]
  },
  {
   "cell_type": "code",
   "execution_count": 17,
   "id": "9eb023be",
   "metadata": {},
   "outputs": [
    {
     "name": "stdout",
     "output_type": "stream",
     "text": [
      "[0.30496465 0.4478702  0.37346665 0.19301461 0.63022566 0.06994126\n",
      " 0.40366557 0.74302327 0.70388594 0.35669197]\n"
     ]
    }
   ],
   "source": [
    "# getting x component of each coordinate\n",
    "x_i = r_i[:, 0]\n",
    "print(x_i)"
   ]
  },
  {
   "cell_type": "code",
   "execution_count": 19,
   "id": "805d1d84",
   "metadata": {},
   "outputs": [
    {
     "name": "stdout",
     "output_type": "stream",
     "text": [
      "[0.30496465 0.72550434]\n",
      "[0.30496465 0.72550434]\n"
     ]
    }
   ],
   "source": [
    "# getting all components of first row\n",
    "y_i = r_i[0, :]\n",
    "print(y_i)\n",
    "# or\n",
    "print(r_i[0])"
   ]
  },
  {
   "cell_type": "markdown",
   "id": "b70a502b",
   "metadata": {},
   "source": [
    "### Fance indexing"
   ]
  },
  {
   "cell_type": "code",
   "execution_count": 20,
   "id": "be84ea4c",
   "metadata": {},
   "outputs": [
    {
     "data": {
      "text/plain": [
       "array([9, 7, 6])"
      ]
     },
     "execution_count": 20,
     "metadata": {},
     "output_type": "execute_result"
    }
   ],
   "source": [
    "# index an array using another Numpy array\n",
    "d = np.array([9, 8, 7, 6, 5, 4, 3, 2, 1, 0])\n",
    "idx = np.array([0, 2, 3])\n",
    "d[idx]"
   ]
  },
  {
   "cell_type": "code",
   "execution_count": null,
   "id": "19848a01",
   "metadata": {},
   "outputs": [],
   "source": []
  }
 ],
 "metadata": {
  "kernelspec": {
   "display_name": "Python 3 (ipykernel)",
   "language": "python",
   "name": "python3"
  },
  "language_info": {
   "codemirror_mode": {
    "name": "ipython",
    "version": 3
   },
   "file_extension": ".py",
   "mimetype": "text/x-python",
   "name": "python",
   "nbconvert_exporter": "python",
   "pygments_lexer": "ipython3",
   "version": "3.9.13"
  }
 },
 "nbformat": 4,
 "nbformat_minor": 5
}
