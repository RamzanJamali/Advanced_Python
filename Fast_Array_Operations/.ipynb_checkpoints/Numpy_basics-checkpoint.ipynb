{
 "cells": [
  {
   "cell_type": "markdown",
   "id": "7e3e7525",
   "metadata": {},
   "source": [
    "# Numpy"
   ]
  },
  {
   "cell_type": "markdown",
   "id": "4d1d1d34",
   "metadata": {},
   "source": [
    "### Creating arrays"
   ]
  },
  {
   "cell_type": "code",
   "execution_count": 1,
   "id": "b06d657c",
   "metadata": {},
   "outputs": [],
   "source": [
    "import numpy as np"
   ]
  },
  {
   "cell_type": "code",
   "execution_count": 2,
   "id": "7b947c96",
   "metadata": {},
   "outputs": [],
   "source": [
    "# Creating numpy array\n",
    "a = np.array([0, 1, 2])"
   ]
  },
  {
   "cell_type": "code",
   "execution_count": 3,
   "id": "9cc476b9",
   "metadata": {},
   "outputs": [
    {
     "data": {
      "text/plain": [
       "dtype('int32')"
      ]
     },
     "execution_count": 3,
     "metadata": {},
     "output_type": "execute_result"
    }
   ],
   "source": [
    "# Checking data type of elements in numpy array\n",
    "a.dtype"
   ]
  },
  {
   "cell_type": "code",
   "execution_count": 4,
   "id": "1a0ba185",
   "metadata": {},
   "outputs": [
    {
     "data": {
      "text/plain": [
       "dtype('float32')"
      ]
     },
     "execution_count": 4,
     "metadata": {},
     "output_type": "execute_result"
    }
   ],
   "source": [
    "# Changing data type of elements\n",
    "a = np.array([1, 2, 3], dtype='float32')\n",
    "a.dtype"
   ]
  },
  {
   "cell_type": "code",
   "execution_count": 5,
   "id": "7a15d039",
   "metadata": {},
   "outputs": [
    {
     "data": {
      "text/plain": [
       "array([1., 2., 3.], dtype=float32)"
      ]
     },
     "execution_count": 5,
     "metadata": {},
     "output_type": "execute_result"
    }
   ],
   "source": [
    "# Changing data type of elements second method\n",
    "a.astype('float32')"
   ]
  },
  {
   "cell_type": "code",
   "execution_count": 6,
   "id": "482a8816",
   "metadata": {},
   "outputs": [
    {
     "name": "stdout",
     "output_type": "stream",
     "text": [
      "[[0 1 2]\n",
      " [3 4 5]]\n"
     ]
    }
   ],
   "source": [
    "# Creating two dimensional array\n",
    "a = np.array([[0, 1, 2], [3, 4, 5]])\n",
    "print(a)"
   ]
  },
  {
   "cell_type": "code",
   "execution_count": 7,
   "id": "5334009b",
   "metadata": {},
   "outputs": [
    {
     "data": {
      "text/plain": [
       "(2, 3)"
      ]
     },
     "execution_count": 7,
     "metadata": {},
     "output_type": "execute_result"
    }
   ],
   "source": [
    "# Checking shape of array\n",
    "a.shape"
   ]
  },
  {
   "cell_type": "code",
   "execution_count": 8,
   "id": "853cd191",
   "metadata": {},
   "outputs": [
    {
     "data": {
      "text/plain": [
       "(16,)"
      ]
     },
     "execution_count": 8,
     "metadata": {},
     "output_type": "execute_result"
    }
   ],
   "source": [
    "# Declaring array for reshaping\n",
    "a = np.array([0, 1, 2, 3, 4, 5, 6, 7, 8, 9, 10, 11, 12, 13, 14, 15])\n",
    "a.shape"
   ]
  },
  {
   "cell_type": "code",
   "execution_count": 9,
   "id": "f4f0f8e7",
   "metadata": {},
   "outputs": [
    {
     "data": {
      "text/plain": [
       "(4, 4)"
      ]
     },
     "execution_count": 9,
     "metadata": {},
     "output_type": "execute_result"
    }
   ],
   "source": [
    "# First method\n",
    "a = a.reshape(4, 4)\n",
    "a.shape"
   ]
  },
  {
   "cell_type": "code",
   "execution_count": 10,
   "id": "ef9a5c08",
   "metadata": {},
   "outputs": [
    {
     "data": {
      "text/plain": [
       "(2, 2, 4)"
      ]
     },
     "execution_count": 10,
     "metadata": {},
     "output_type": "execute_result"
    }
   ],
   "source": [
    "# second method\n",
    "a.shape = (2, 2, 4)\n",
    "a.shape"
   ]
  },
  {
   "cell_type": "code",
   "execution_count": 11,
   "id": "d0341218",
   "metadata": {},
   "outputs": [
    {
     "name": "stdout",
     "output_type": "stream",
     "text": [
      "[[0. 0. 0.]\n",
      " [0. 0. 0.]\n",
      " [0. 0. 0.]]\n"
     ]
    }
   ],
   "source": [
    "# creating an array of zeros\n",
    "zeros = np.zeros((3, 3))\n",
    "print(zeros)"
   ]
  },
  {
   "cell_type": "code",
   "execution_count": 12,
   "id": "436e3f9a",
   "metadata": {},
   "outputs": [
    {
     "data": {
      "text/plain": [
       "dtype('float64')"
      ]
     },
     "execution_count": 12,
     "metadata": {},
     "output_type": "execute_result"
    }
   ],
   "source": [
    "# creating an empty array\n",
    "empty = np.empty((3, 3))\n",
    "empty.dtype"
   ]
  },
  {
   "cell_type": "code",
   "execution_count": 13,
   "id": "a1837039",
   "metadata": {},
   "outputs": [
    {
     "name": "stdout",
     "output_type": "stream",
     "text": [
      "[[1. 1. 1.]\n",
      " [1. 1. 1.]\n",
      " [1. 1. 1.]]\n"
     ]
    }
   ],
   "source": [
    "# creating an array of ones with optional dtype\n",
    "ones = np.ones((3, 3), dtype='float32')\n",
    "print(ones)"
   ]
  },
  {
   "cell_type": "code",
   "execution_count": 14,
   "id": "5aa623ff",
   "metadata": {},
   "outputs": [
    {
     "name": "stdout",
     "output_type": "stream",
     "text": [
      "[[0.49412153 0.00288747 0.66711701]\n",
      " [0.31993714 0.39373354 0.94024048]\n",
      " [0.52226877 0.32107423 0.01720738]]\n"
     ]
    }
   ],
   "source": [
    "# Creating random array of floating numbers in range of (0, 1)\n",
    "randoms = np.random.rand(3, 3)\n",
    "print(randoms)"
   ]
  },
  {
   "cell_type": "code",
   "execution_count": 15,
   "id": "1b1e30a1",
   "metadata": {},
   "outputs": [],
   "source": [
    "# Creating same shape arrays\n",
    "x = np.random.rand(2, 3)\n",
    "y = np.random.rand(3, 4)\n",
    "z = np.random.rand(4, 2)"
   ]
  },
  {
   "cell_type": "code",
   "execution_count": 16,
   "id": "11bb0b72",
   "metadata": {},
   "outputs": [
    {
     "name": "stdout",
     "output_type": "stream",
     "text": [
      "[[0. 0. 0.]\n",
      " [0. 0. 0.]]\n"
     ]
    }
   ],
   "source": [
    "print(np.zeros_like(x))"
   ]
  },
  {
   "cell_type": "code",
   "execution_count": 17,
   "id": "7036a1d8",
   "metadata": {},
   "outputs": [
    {
     "name": "stdout",
     "output_type": "stream",
     "text": [
      "[[0. 0. 0. 0.]\n",
      " [0. 0. 0. 0.]\n",
      " [0. 0. 0. 0.]]\n"
     ]
    }
   ],
   "source": [
    "# Their actual value is meaningless\n",
    "print(np.empty_like(y))"
   ]
  },
  {
   "cell_type": "code",
   "execution_count": 18,
   "id": "32ef8bff",
   "metadata": {},
   "outputs": [
    {
     "name": "stdout",
     "output_type": "stream",
     "text": [
      "[[1. 1.]\n",
      " [1. 1.]\n",
      " [1. 1.]\n",
      " [1. 1.]]\n"
     ]
    }
   ],
   "source": [
    "print(np.ones_like(z))"
   ]
  },
  {
   "cell_type": "markdown",
   "id": "fa18f52f",
   "metadata": {},
   "source": [
    "## Accessing Arrays"
   ]
  },
  {
   "cell_type": "code",
   "execution_count": 19,
   "id": "9aaa2e07",
   "metadata": {},
   "outputs": [
    {
     "name": "stdout",
     "output_type": "stream",
     "text": [
      "0\n"
     ]
    },
    {
     "data": {
      "text/plain": [
       "[0, 1, 2, 3, 4, 5, 6, 7, 8]"
      ]
     },
     "execution_count": 19,
     "metadata": {},
     "output_type": "execute_result"
    }
   ],
   "source": [
    "A = np.array([0, 1, 2, 3, 4, 5, 6, 7, 8])\n",
    "\n",
    "print(A[0])\n",
    "[a for a in A]"
   ]
  },
  {
   "cell_type": "markdown",
   "id": "7fc2effd",
   "metadata": {},
   "source": [
    "### Indexing and slicing"
   ]
  },
  {
   "cell_type": "code",
   "execution_count": 20,
   "id": "5ba31bdf",
   "metadata": {},
   "outputs": [
    {
     "data": {
      "text/plain": [
       "array([0, 1, 2])"
      ]
     },
     "execution_count": 20,
     "metadata": {},
     "output_type": "execute_result"
    }
   ],
   "source": [
    "B = np.array([[0, 1, 2], [3, 4, 5], [6, 7, 8]])\n",
    "\n",
    "# element at index 0\n",
    "B[0]"
   ]
  },
  {
   "cell_type": "code",
   "execution_count": 21,
   "id": "7da46d7a",
   "metadata": {},
   "outputs": [
    {
     "name": "stdout",
     "output_type": "stream",
     "text": [
      "1\n",
      "1\n"
     ]
    }
   ],
   "source": [
    "# element at index [0, 1]\n",
    "print(B[0, 1])\n",
    "print(B[(0, 1)])"
   ]
  },
  {
   "cell_type": "code",
   "execution_count": 22,
   "id": "b8a0b48f",
   "metadata": {},
   "outputs": [
    {
     "data": {
      "text/plain": [
       "array([[0, 1, 2],\n",
       "       [3, 4, 5]])"
      ]
     },
     "execution_count": 22,
     "metadata": {},
     "output_type": "execute_result"
    }
   ],
   "source": [
    "# slicing on the first dimension\n",
    "B[0:2]"
   ]
  },
  {
   "cell_type": "code",
   "execution_count": 23,
   "id": "e4e93e7d",
   "metadata": {},
   "outputs": [
    {
     "data": {
      "text/plain": [
       "array([[0, 1],\n",
       "       [3, 4]])"
      ]
     },
     "execution_count": 23,
     "metadata": {},
     "output_type": "execute_result"
    }
   ],
   "source": [
    "# slicing on two dimensions\n",
    "B[0:2, 0:2]"
   ]
  },
  {
   "cell_type": "code",
   "execution_count": 24,
   "id": "125a34d7",
   "metadata": {},
   "outputs": [
    {
     "data": {
      "text/plain": [
       "array([[0, 8, 2],\n",
       "       [3, 4, 5],\n",
       "       [6, 7, 8]])"
      ]
     },
     "execution_count": 24,
     "metadata": {},
     "output_type": "execute_result"
    }
   ],
   "source": [
    "# updating value using index\n",
    "B[0, 1] = 8\n",
    "B"
   ]
  },
  {
   "cell_type": "code",
   "execution_count": 25,
   "id": "f3f52083",
   "metadata": {},
   "outputs": [
    {
     "data": {
      "text/plain": [
       "array([[1, 1, 2],\n",
       "       [1, 1, 5],\n",
       "       [6, 7, 8]])"
      ]
     },
     "execution_count": 25,
     "metadata": {},
     "output_type": "execute_result"
    }
   ],
   "source": [
    "# updating value using slice\n",
    "B[0:2, 0:2] = [[1, 1], [1, 1]]\n",
    "B"
   ]
  },
  {
   "cell_type": "code",
   "execution_count": 26,
   "id": "80909e38",
   "metadata": {},
   "outputs": [
    {
     "name": "stdout",
     "output_type": "stream",
     "text": [
      "[1 1]\n",
      "[2 1 1 1]\n"
     ]
    }
   ],
   "source": [
    "# Creating a view of array. Note that it's not a copy of array\n",
    "C = np.array([1, 1, 1, 1])\n",
    "c_view = C[0:2]\n",
    "print(c_view)\n",
    "c_view[0] = 2\n",
    "print(C)"
   ]
  },
  {
   "cell_type": "code",
   "execution_count": 27,
   "id": "2b76a04e",
   "metadata": {},
   "outputs": [
    {
     "name": "stdout",
     "output_type": "stream",
     "text": [
      "[[0.0898616  0.93680472]\n",
      " [0.5807086  0.71806211]\n",
      " [0.82022797 0.75201984]\n",
      " [0.22245878 0.25201427]\n",
      " [0.513661   0.76044239]\n",
      " [0.41942885 0.60135113]\n",
      " [0.27264952 0.83496068]\n",
      " [0.40684013 0.53627806]\n",
      " [0.97267008 0.42518922]\n",
      " [0.03370689 0.08173266]]\n"
     ]
    }
   ],
   "source": [
    "# An array with 10 elements of size 2 will be:\n",
    "r_i = np.random.rand(10, 2)\n",
    "print(r_i)"
   ]
  },
  {
   "cell_type": "code",
   "execution_count": 28,
   "id": "67f19ebe",
   "metadata": {},
   "outputs": [
    {
     "name": "stdout",
     "output_type": "stream",
     "text": [
      "[0.0898616  0.5807086  0.82022797 0.22245878 0.513661   0.41942885\n",
      " 0.27264952 0.40684013 0.97267008 0.03370689]\n"
     ]
    }
   ],
   "source": [
    "# getting x component of each coordinate\n",
    "x_i = r_i[:, 0]\n",
    "print(x_i)"
   ]
  },
  {
   "cell_type": "code",
   "execution_count": 29,
   "id": "b53879f9",
   "metadata": {},
   "outputs": [
    {
     "name": "stdout",
     "output_type": "stream",
     "text": [
      "[0.0898616  0.93680472]\n",
      "[0.0898616  0.93680472]\n"
     ]
    }
   ],
   "source": [
    "# getting all components of first row\n",
    "y_i = r_i[0, :]\n",
    "print(y_i)\n",
    "# or\n",
    "print(r_i[0])"
   ]
  },
  {
   "cell_type": "markdown",
   "id": "54c532a7",
   "metadata": {},
   "source": [
    "### Fance indexing"
   ]
  },
  {
   "cell_type": "code",
   "execution_count": 30,
   "id": "3ce0c8dd",
   "metadata": {},
   "outputs": [
    {
     "data": {
      "text/plain": [
       "array([9, 7, 6])"
      ]
     },
     "execution_count": 30,
     "metadata": {},
     "output_type": "execute_result"
    }
   ],
   "source": [
    "# index an array using another Numpy array\n",
    "d = np.array([9, 8, 7, 6, 5, 4, 3, 2, 1, 0])\n",
    "idx = np.array([0, 2, 3])\n",
    "d[idx]"
   ]
  },
  {
   "cell_type": "code",
   "execution_count": 31,
   "id": "e8d988ec",
   "metadata": {},
   "outputs": [
    {
     "data": {
      "text/plain": [
       "array([2, 5])"
      ]
     },
     "execution_count": 31,
     "metadata": {},
     "output_type": "execute_result"
    }
   ],
   "source": [
    "# fancy indexing on multiple dimensions\n",
    "e = np.array([[0, 1, 2], [3, 4, 5], [6, 7, 8], [9, 10, 11]])\n",
    "idx1 = np.array([0, 1])\n",
    "idx2 = np.array([2, 2])\n",
    "# e[select rows 0 and 1, select cols 2 and 2]\n",
    "e[idx1, idx2]"
   ]
  },
  {
   "cell_type": "code",
   "execution_count": 32,
   "id": "e1c6e2f8",
   "metadata": {},
   "outputs": [
    {
     "name": "stdout",
     "output_type": "stream",
     "text": [
      "[[0 1 2]\n",
      " [3 4 5]]\n",
      "[[0 1 2]\n",
      " [3 4 5]]\n"
     ]
    }
   ],
   "source": [
    "# using normal lists\n",
    "print(e[np.array([0, 1])])\n",
    "# or\n",
    "print(e[[0, 1]])"
   ]
  },
  {
   "cell_type": "code",
   "execution_count": 33,
   "id": "3f243736",
   "metadata": {},
   "outputs": [
    {
     "name": "stdout",
     "output_type": "stream",
     "text": [
      "1\n",
      "1\n"
     ]
    }
   ],
   "source": [
    "# using tuple\n",
    "print(e[(0, 1)])\n",
    "# or\n",
    "print(e[0, 1])"
   ]
  },
  {
   "cell_type": "code",
   "execution_count": 34,
   "id": "addfa4cd",
   "metadata": {},
   "outputs": [
    {
     "data": {
      "text/plain": [
       "array([[ 0,  5],\n",
       "       [10,  7]])"
      ]
     },
     "execution_count": 34,
     "metadata": {},
     "output_type": "execute_result"
    }
   ],
   "source": [
    "# using multi-dimension index arrays\n",
    "idx1 = [[0, 1], [3, 2]]\n",
    "idx2 = [[0, 2], [1, 1]]\n",
    "e[idx1, idx2]"
   ]
  },
  {
   "cell_type": "code",
   "execution_count": 35,
   "id": "3c6031c5",
   "metadata": {},
   "outputs": [
    {
     "name": "stdout",
     "output_type": "stream",
     "text": [
      "[[0.0896479  0.95319381]\n",
      " [0.13620333 0.40041118]\n",
      " [0.9706028  0.32565235]\n",
      " [0.31145983 0.26285624]\n",
      " [0.88517023 0.17393999]\n",
      " [0.73648261 0.99510914]\n",
      " [0.34494435 0.39120714]\n",
      " [0.4317799  0.49474416]\n",
      " [0.45029586 0.59175214]\n",
      " [0.122078   0.54510951]]\n",
      "[[0.95319381 0.0896479 ]\n",
      " [0.40041118 0.13620333]\n",
      " [0.32565235 0.9706028 ]\n",
      " [0.26285624 0.31145983]\n",
      " [0.17393999 0.88517023]\n",
      " [0.99510914 0.73648261]\n",
      " [0.39120714 0.34494435]\n",
      " [0.49474416 0.4317799 ]\n",
      " [0.59175214 0.45029586]\n",
      " [0.54510951 0.122078  ]]\n"
     ]
    }
   ],
   "source": [
    "# combining slicing and fancy indexing to swap x and y\n",
    "r_i = np.random.rand(10, 2)\n",
    "print(r_i)\n",
    "r_i[:, [0, 1]] = r_i[:, [1, 0]]\n",
    "print(r_i)"
   ]
  },
  {
   "cell_type": "code",
   "execution_count": 36,
   "id": "b86420b0",
   "metadata": {},
   "outputs": [
    {
     "data": {
      "text/plain": [
       "array([0, 2])"
      ]
     },
     "execution_count": 36,
     "metadata": {},
     "output_type": "execute_result"
    }
   ],
   "source": [
    "# using a bool type index array. every element corresponding to true will be extracted. this is called mask\n",
    "f = np.array([0, 1, 2, 3, 4, 5])\n",
    "mask = np.array([True, False, True, False, False, False])\n",
    "f[mask]"
   ]
  },
  {
   "cell_type": "code",
   "execution_count": 37,
   "id": "62a42cfa",
   "metadata": {},
   "outputs": [],
   "source": [
    "# getting more performance using np.take\n",
    "r_i = np.random.rand(100, 2)\n",
    "idx = np.arange(50)"
   ]
  },
  {
   "cell_type": "code",
   "execution_count": 38,
   "id": "d7529c6d",
   "metadata": {},
   "outputs": [
    {
     "name": "stdout",
     "output_type": "stream",
     "text": [
      "2.49 µs ± 91.9 ns per loop (mean ± std. dev. of 7 runs, 100000 loops each)\n"
     ]
    }
   ],
   "source": [
    "%timeit r_i[idx]"
   ]
  },
  {
   "cell_type": "code",
   "execution_count": 39,
   "id": "24a473ba",
   "metadata": {},
   "outputs": [
    {
     "name": "stdout",
     "output_type": "stream",
     "text": [
      "3.5 µs ± 477 ns per loop (mean ± std. dev. of 7 runs, 100000 loops each)\n"
     ]
    }
   ],
   "source": [
    "%timeit np.take(r_i, idx, axis=0)"
   ]
  },
  {
   "cell_type": "code",
   "execution_count": 40,
   "id": "c3549b93",
   "metadata": {},
   "outputs": [],
   "source": [
    "# Here np.take shows less performance than normal which is against the performance mentioned in the book."
   ]
  },
  {
   "cell_type": "code",
   "execution_count": 41,
   "id": "0cb14a3a",
   "metadata": {},
   "outputs": [],
   "source": [
    "# when index array is of boolean type we will use numpy.compress \n",
    "idx = np.ones(100, dtype='bool')"
   ]
  },
  {
   "cell_type": "code",
   "execution_count": 42,
   "id": "42983568",
   "metadata": {},
   "outputs": [
    {
     "name": "stdout",
     "output_type": "stream",
     "text": [
      "3.42 µs ± 96.3 ns per loop (mean ± std. dev. of 7 runs, 100000 loops each)\n"
     ]
    }
   ],
   "source": [
    "%timeit r_i[idx]"
   ]
  },
  {
   "cell_type": "code",
   "execution_count": 43,
   "id": "a17b9d99",
   "metadata": {},
   "outputs": [
    {
     "name": "stdout",
     "output_type": "stream",
     "text": [
      "3.24 µs ± 48 ns per loop (mean ± std. dev. of 7 runs, 100000 loops each)\n"
     ]
    }
   ],
   "source": [
    "%timeit np.compress(idx, r_i, axis=0)"
   ]
  },
  {
   "cell_type": "code",
   "execution_count": 44,
   "id": "396b80d0",
   "metadata": {},
   "outputs": [],
   "source": [
    "# np.compress is giving a slight speed improvement."
   ]
  },
  {
   "cell_type": "markdown",
   "id": "c8fa7481",
   "metadata": {},
   "source": [
    "## Broadcasting\n",
    "\n",
    "#### Broadcasting is a clever set of rules that enables fast array calculations for arrays of similar (but not equal!) shapes."
   ]
  },
  {
   "cell_type": "code",
   "execution_count": 47,
   "id": "7615bc08",
   "metadata": {},
   "outputs": [
    {
     "data": {
      "text/plain": [
       "array([[ 5, 12],\n",
       "       [21, 32]])"
      ]
     },
     "execution_count": 47,
     "metadata": {},
     "output_type": "execute_result"
    }
   ],
   "source": [
    "# Multiplying two same shape arrays\n",
    "G = np.array([[1, 2], [3, 4]])\n",
    "H = np.array([[5, 6], [7, 8]])\n",
    "\n",
    "G * H"
   ]
  },
  {
   "cell_type": "code",
   "execution_count": 48,
   "id": "6eaad28f",
   "metadata": {},
   "outputs": [
    {
     "data": {
      "text/plain": [
       "array([[2, 4],\n",
       "       [6, 8]])"
      ]
     },
     "execution_count": 48,
     "metadata": {},
     "output_type": "execute_result"
    }
   ],
   "source": [
    "# Multiplying an array with a scalar\n",
    "G * 2"
   ]
  },
  {
   "cell_type": "code",
   "execution_count": 50,
   "id": "51f66631",
   "metadata": {},
   "outputs": [
    {
     "data": {
      "text/plain": [
       "array([[[0.19888064, 0.21437696],\n",
       "        [0.5130943 , 0.10874355],\n",
       "        [0.25653249, 0.09925454],\n",
       "        [0.57590539, 0.14364903],\n",
       "        [0.70029   , 0.21650444],\n",
       "        [0.54336981, 0.18945962],\n",
       "        [0.00224535, 0.32305838],\n",
       "        [0.6984232 , 0.08711782],\n",
       "        [0.34523884, 0.06485625],\n",
       "        [0.50808012, 0.24337692]],\n",
       "\n",
       "       [[0.71321386, 0.1481079 ],\n",
       "        [0.81233409, 0.02784064],\n",
       "        [0.39472338, 0.04159583],\n",
       "        [0.48576094, 0.07944065],\n",
       "        [0.54755988, 0.08314988],\n",
       "        [0.5411728 , 0.0810703 ],\n",
       "        [0.20821487, 0.08974472],\n",
       "        [0.14969847, 0.04550741],\n",
       "        [0.38991038, 0.07776686],\n",
       "        [0.63292181, 0.11774307]],\n",
       "\n",
       "       [[0.13446244, 0.07416001],\n",
       "        [0.21751164, 0.02064226],\n",
       "        [0.06537455, 0.00933933],\n",
       "        [0.27314061, 0.11076376],\n",
       "        [0.28556143, 0.08924037],\n",
       "        [0.11411862, 0.06937409],\n",
       "        [0.18170581, 0.06396811],\n",
       "        [0.05567885, 0.07797929],\n",
       "        [0.0028258 , 0.10730186],\n",
       "        [0.04780719, 0.03019946]],\n",
       "\n",
       "       [[0.50463717, 0.51525146],\n",
       "        [0.1257599 , 0.21748891],\n",
       "        [0.83481564, 0.39550827],\n",
       "        [0.73728825, 0.22723614],\n",
       "        [0.6318179 , 0.05624344],\n",
       "        [0.23480127, 0.39158825],\n",
       "        [0.4134683 , 0.22512406],\n",
       "        [0.19996346, 0.25369314],\n",
       "        [0.69101078, 0.06787646],\n",
       "        [0.47620737, 0.12269698]],\n",
       "\n",
       "       [[0.13424201, 0.04281492],\n",
       "        [0.37610754, 0.08583816],\n",
       "        [0.14788129, 0.05938198],\n",
       "        [0.21897102, 0.05890204],\n",
       "        [0.05443185, 0.05524697],\n",
       "        [0.04527196, 0.05527835],\n",
       "        [0.20339427, 0.07739032],\n",
       "        [0.41543272, 0.03391356],\n",
       "        [0.20848374, 0.01916827],\n",
       "        [0.30595354, 0.09387462]]])"
      ]
     },
     "execution_count": 50,
     "metadata": {},
     "output_type": "execute_result"
    }
   ],
   "source": [
    "# Multiplying two different shape arrays\n",
    "I = np.random.rand(5, 10, 2)\n",
    "J = np.random.rand(5, 2)\n",
    "\n",
    "# Creating a new axis to match shapes of both arrays\n",
    "I * J[:, np.newaxis, :]"
   ]
  },
  {
   "cell_type": "code",
   "execution_count": 51,
   "id": "9cfc0268",
   "metadata": {},
   "outputs": [],
   "source": [
    "# Outer Product: The outer product is a matrix containing the product of all the possible combinations (i, j) \n",
    "# of the two array elements.\n",
    "\n",
    "K = np.array([3, 2, 1])\n",
    "L = np.array([4, 5, 6])\n",
    "\n",
    "# The outer product can be calculated as follow\n",
    "KL = K[:, np.newaxis] * L[np.newaxis, :]"
   ]
  },
  {
   "cell_type": "code",
   "execution_count": 52,
   "id": "9f494a43",
   "metadata": {},
   "outputs": [
    {
     "name": "stdout",
     "output_type": "stream",
     "text": [
      "[[12 15 18]\n",
      " [ 8 10 12]\n",
      " [ 4  5  6]]\n"
     ]
    }
   ],
   "source": [
    "print(KL)"
   ]
  },
  {
   "cell_type": "code",
   "execution_count": null,
   "id": "3f67d487",
   "metadata": {},
   "outputs": [],
   "source": []
  }
 ],
 "metadata": {
  "kernelspec": {
   "display_name": "Python 3 (ipykernel)",
   "language": "python",
   "name": "python3"
  },
  "language_info": {
   "codemirror_mode": {
    "name": "ipython",
    "version": 3
   },
   "file_extension": ".py",
   "mimetype": "text/x-python",
   "name": "python",
   "nbconvert_exporter": "python",
   "pygments_lexer": "ipython3",
   "version": "3.9.13"
  }
 },
 "nbformat": 4,
 "nbformat_minor": 5
}
