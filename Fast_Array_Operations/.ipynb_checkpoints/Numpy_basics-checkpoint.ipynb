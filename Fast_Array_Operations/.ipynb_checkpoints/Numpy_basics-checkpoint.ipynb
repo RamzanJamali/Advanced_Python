{
 "cells": [
  {
   "cell_type": "markdown",
   "id": "7e3e7525",
   "metadata": {},
   "source": [
    "# Numpy"
   ]
  },
  {
   "cell_type": "markdown",
   "id": "4d1d1d34",
   "metadata": {},
   "source": [
    "### Creating arrays"
   ]
  },
  {
   "cell_type": "code",
   "execution_count": 1,
   "id": "b06d657c",
   "metadata": {},
   "outputs": [],
   "source": [
    "import numpy as np"
   ]
  },
  {
   "cell_type": "code",
   "execution_count": 2,
   "id": "7b947c96",
   "metadata": {},
   "outputs": [],
   "source": [
    "# Creating numpy array\n",
    "a = np.array([0, 1, 2])"
   ]
  },
  {
   "cell_type": "code",
   "execution_count": 3,
   "id": "9cc476b9",
   "metadata": {},
   "outputs": [
    {
     "data": {
      "text/plain": [
       "dtype('int32')"
      ]
     },
     "execution_count": 3,
     "metadata": {},
     "output_type": "execute_result"
    }
   ],
   "source": [
    "# Checking data type of elements in numpy array\n",
    "a.dtype"
   ]
  },
  {
   "cell_type": "code",
   "execution_count": 4,
   "id": "1a0ba185",
   "metadata": {},
   "outputs": [
    {
     "data": {
      "text/plain": [
       "dtype('float32')"
      ]
     },
     "execution_count": 4,
     "metadata": {},
     "output_type": "execute_result"
    }
   ],
   "source": [
    "# Changing data type of elements\n",
    "a = np.array([1, 2, 3], dtype='float32')\n",
    "a.dtype"
   ]
  },
  {
   "cell_type": "code",
   "execution_count": 5,
   "id": "7a15d039",
   "metadata": {},
   "outputs": [
    {
     "data": {
      "text/plain": [
       "array([1., 2., 3.], dtype=float32)"
      ]
     },
     "execution_count": 5,
     "metadata": {},
     "output_type": "execute_result"
    }
   ],
   "source": [
    "# Changing data type of elements second method\n",
    "a.astype('float32')"
   ]
  },
  {
   "cell_type": "code",
   "execution_count": 6,
   "id": "482a8816",
   "metadata": {},
   "outputs": [
    {
     "name": "stdout",
     "output_type": "stream",
     "text": [
      "[[0 1 2]\n",
      " [3 4 5]]\n"
     ]
    }
   ],
   "source": [
    "# Creating two dimensional array\n",
    "a = np.array([[0, 1, 2], [3, 4, 5]])\n",
    "print(a)"
   ]
  },
  {
   "cell_type": "code",
   "execution_count": 7,
   "id": "5334009b",
   "metadata": {},
   "outputs": [
    {
     "data": {
      "text/plain": [
       "(2, 3)"
      ]
     },
     "execution_count": 7,
     "metadata": {},
     "output_type": "execute_result"
    }
   ],
   "source": [
    "# Checking shape of array\n",
    "a.shape"
   ]
  },
  {
   "cell_type": "code",
   "execution_count": 8,
   "id": "853cd191",
   "metadata": {},
   "outputs": [
    {
     "data": {
      "text/plain": [
       "(16,)"
      ]
     },
     "execution_count": 8,
     "metadata": {},
     "output_type": "execute_result"
    }
   ],
   "source": [
    "# Declaring array for reshaping\n",
    "a = np.array([0, 1, 2, 3, 4, 5, 6, 7, 8, 9, 10, 11, 12, 13, 14, 15])\n",
    "a.shape"
   ]
  },
  {
   "cell_type": "code",
   "execution_count": 9,
   "id": "f4f0f8e7",
   "metadata": {},
   "outputs": [
    {
     "data": {
      "text/plain": [
       "(4, 4)"
      ]
     },
     "execution_count": 9,
     "metadata": {},
     "output_type": "execute_result"
    }
   ],
   "source": [
    "# First method\n",
    "a = a.reshape(4, 4)\n",
    "a.shape"
   ]
  },
  {
   "cell_type": "code",
   "execution_count": 10,
   "id": "ef9a5c08",
   "metadata": {},
   "outputs": [
    {
     "data": {
      "text/plain": [
       "(2, 2, 4)"
      ]
     },
     "execution_count": 10,
     "metadata": {},
     "output_type": "execute_result"
    }
   ],
   "source": [
    "# second method\n",
    "a.shape = (2, 2, 4)\n",
    "a.shape"
   ]
  },
  {
   "cell_type": "code",
   "execution_count": 11,
   "id": "d0341218",
   "metadata": {},
   "outputs": [
    {
     "name": "stdout",
     "output_type": "stream",
     "text": [
      "[[0. 0. 0.]\n",
      " [0. 0. 0.]\n",
      " [0. 0. 0.]]\n"
     ]
    }
   ],
   "source": [
    "# creating an array of zeros\n",
    "zeros = np.zeros((3, 3))\n",
    "print(zeros)"
   ]
  },
  {
   "cell_type": "code",
   "execution_count": 12,
   "id": "436e3f9a",
   "metadata": {},
   "outputs": [
    {
     "data": {
      "text/plain": [
       "dtype('float64')"
      ]
     },
     "execution_count": 12,
     "metadata": {},
     "output_type": "execute_result"
    }
   ],
   "source": [
    "# creating an empty array\n",
    "empty = np.empty((3, 3))\n",
    "empty.dtype"
   ]
  },
  {
   "cell_type": "code",
   "execution_count": 13,
   "id": "a1837039",
   "metadata": {},
   "outputs": [
    {
     "name": "stdout",
     "output_type": "stream",
     "text": [
      "[[1. 1. 1.]\n",
      " [1. 1. 1.]\n",
      " [1. 1. 1.]]\n"
     ]
    }
   ],
   "source": [
    "# creating an array of ones with optional dtype\n",
    "ones = np.ones((3, 3), dtype='float32')\n",
    "print(ones)"
   ]
  },
  {
   "cell_type": "code",
   "execution_count": 14,
   "id": "5aa623ff",
   "metadata": {},
   "outputs": [
    {
     "name": "stdout",
     "output_type": "stream",
     "text": [
      "[[0.00633303 0.32572321 0.02394083]\n",
      " [0.23227763 0.15901731 0.48335349]\n",
      " [0.95446592 0.57515856 0.45763244]]\n"
     ]
    }
   ],
   "source": [
    "# Creating random array of floating numbers in range of (0, 1)\n",
    "randoms = np.random.rand(3, 3)\n",
    "print(randoms)"
   ]
  },
  {
   "cell_type": "code",
   "execution_count": 15,
   "id": "1b1e30a1",
   "metadata": {},
   "outputs": [],
   "source": [
    "# Creating same shape arrays\n",
    "x = np.random.rand(2, 3)\n",
    "y = np.random.rand(3, 4)\n",
    "z = np.random.rand(4, 2)"
   ]
  },
  {
   "cell_type": "code",
   "execution_count": 16,
   "id": "11bb0b72",
   "metadata": {},
   "outputs": [
    {
     "name": "stdout",
     "output_type": "stream",
     "text": [
      "[[0. 0. 0.]\n",
      " [0. 0. 0.]]\n"
     ]
    }
   ],
   "source": [
    "print(np.zeros_like(x))"
   ]
  },
  {
   "cell_type": "code",
   "execution_count": 17,
   "id": "7036a1d8",
   "metadata": {},
   "outputs": [
    {
     "name": "stdout",
     "output_type": "stream",
     "text": [
      "[[9.73248346e-312 2.47032823e-322 0.00000000e+000 0.00000000e+000]\n",
      " [1.11260619e-306 1.04082753e-047 4.97645901e-091 1.27964675e+161]\n",
      " [3.61392451e+174 2.67901217e+184 3.99910963e+252 1.46030983e-319]]\n"
     ]
    }
   ],
   "source": [
    "# Their actual value is meaningless\n",
    "print(np.empty_like(y))"
   ]
  },
  {
   "cell_type": "code",
   "execution_count": 18,
   "id": "32ef8bff",
   "metadata": {},
   "outputs": [
    {
     "name": "stdout",
     "output_type": "stream",
     "text": [
      "[[1. 1.]\n",
      " [1. 1.]\n",
      " [1. 1.]\n",
      " [1. 1.]]\n"
     ]
    }
   ],
   "source": [
    "print(np.ones_like(z))"
   ]
  },
  {
   "cell_type": "markdown",
   "id": "fa18f52f",
   "metadata": {},
   "source": [
    "## Accessing Arrays"
   ]
  },
  {
   "cell_type": "code",
   "execution_count": 19,
   "id": "9aaa2e07",
   "metadata": {},
   "outputs": [
    {
     "name": "stdout",
     "output_type": "stream",
     "text": [
      "0\n"
     ]
    },
    {
     "data": {
      "text/plain": [
       "[0, 1, 2, 3, 4, 5, 6, 7, 8]"
      ]
     },
     "execution_count": 19,
     "metadata": {},
     "output_type": "execute_result"
    }
   ],
   "source": [
    "A = np.array([0, 1, 2, 3, 4, 5, 6, 7, 8])\n",
    "\n",
    "print(A[0])\n",
    "[a for a in A]"
   ]
  },
  {
   "cell_type": "markdown",
   "id": "7fc2effd",
   "metadata": {},
   "source": [
    "### Indexing and slicing"
   ]
  },
  {
   "cell_type": "code",
   "execution_count": 20,
   "id": "5ba31bdf",
   "metadata": {},
   "outputs": [
    {
     "data": {
      "text/plain": [
       "array([0, 1, 2])"
      ]
     },
     "execution_count": 20,
     "metadata": {},
     "output_type": "execute_result"
    }
   ],
   "source": [
    "B = np.array([[0, 1, 2], [3, 4, 5], [6, 7, 8]])\n",
    "\n",
    "# element at index 0\n",
    "B[0]"
   ]
  },
  {
   "cell_type": "code",
   "execution_count": 21,
   "id": "7da46d7a",
   "metadata": {},
   "outputs": [
    {
     "name": "stdout",
     "output_type": "stream",
     "text": [
      "1\n",
      "1\n"
     ]
    }
   ],
   "source": [
    "# element at index [0, 1]\n",
    "print(B[0, 1])\n",
    "print(B[(0, 1)])"
   ]
  },
  {
   "cell_type": "code",
   "execution_count": 22,
   "id": "b8a0b48f",
   "metadata": {},
   "outputs": [
    {
     "data": {
      "text/plain": [
       "array([[0, 1, 2],\n",
       "       [3, 4, 5]])"
      ]
     },
     "execution_count": 22,
     "metadata": {},
     "output_type": "execute_result"
    }
   ],
   "source": [
    "# slicing on the first dimension\n",
    "B[0:2]"
   ]
  },
  {
   "cell_type": "code",
   "execution_count": 23,
   "id": "e4e93e7d",
   "metadata": {},
   "outputs": [
    {
     "data": {
      "text/plain": [
       "array([[0, 1],\n",
       "       [3, 4]])"
      ]
     },
     "execution_count": 23,
     "metadata": {},
     "output_type": "execute_result"
    }
   ],
   "source": [
    "# slicing on two dimensions\n",
    "B[0:2, 0:2]"
   ]
  },
  {
   "cell_type": "code",
   "execution_count": 24,
   "id": "125a34d7",
   "metadata": {},
   "outputs": [
    {
     "data": {
      "text/plain": [
       "array([[0, 8, 2],\n",
       "       [3, 4, 5],\n",
       "       [6, 7, 8]])"
      ]
     },
     "execution_count": 24,
     "metadata": {},
     "output_type": "execute_result"
    }
   ],
   "source": [
    "# updating value using index\n",
    "B[0, 1] = 8\n",
    "B"
   ]
  },
  {
   "cell_type": "code",
   "execution_count": 25,
   "id": "f3f52083",
   "metadata": {},
   "outputs": [
    {
     "data": {
      "text/plain": [
       "array([[1, 1, 2],\n",
       "       [1, 1, 5],\n",
       "       [6, 7, 8]])"
      ]
     },
     "execution_count": 25,
     "metadata": {},
     "output_type": "execute_result"
    }
   ],
   "source": [
    "# updating value using slice\n",
    "B[0:2, 0:2] = [[1, 1], [1, 1]]\n",
    "B"
   ]
  },
  {
   "cell_type": "code",
   "execution_count": 26,
   "id": "80909e38",
   "metadata": {},
   "outputs": [
    {
     "name": "stdout",
     "output_type": "stream",
     "text": [
      "[1 1]\n",
      "[2 1 1 1]\n"
     ]
    }
   ],
   "source": [
    "# Creating a view of array. Note that it's not a copy of array\n",
    "C = np.array([1, 1, 1, 1])\n",
    "c_view = C[0:2]\n",
    "print(c_view)\n",
    "c_view[0] = 2\n",
    "print(C)"
   ]
  },
  {
   "cell_type": "code",
   "execution_count": 27,
   "id": "2b76a04e",
   "metadata": {},
   "outputs": [
    {
     "name": "stdout",
     "output_type": "stream",
     "text": [
      "[[0.83364319 0.30090436]\n",
      " [0.29373561 0.23152675]\n",
      " [0.73913821 0.73721429]\n",
      " [0.87001228 0.34251589]\n",
      " [0.17990193 0.34574293]\n",
      " [0.20438542 0.83009006]\n",
      " [0.96448012 0.70690055]\n",
      " [0.69179647 0.36687936]\n",
      " [0.44447851 0.18160577]\n",
      " [0.71281622 0.87858517]]\n"
     ]
    }
   ],
   "source": [
    "# An array with 10 elements of size 2 will be:\n",
    "r_i = np.random.rand(10, 2)\n",
    "print(r_i)"
   ]
  },
  {
   "cell_type": "code",
   "execution_count": 28,
   "id": "67f19ebe",
   "metadata": {},
   "outputs": [
    {
     "name": "stdout",
     "output_type": "stream",
     "text": [
      "[0.83364319 0.29373561 0.73913821 0.87001228 0.17990193 0.20438542\n",
      " 0.96448012 0.69179647 0.44447851 0.71281622]\n"
     ]
    }
   ],
   "source": [
    "# getting x component of each coordinate\n",
    "x_i = r_i[:, 0]\n",
    "print(x_i)"
   ]
  },
  {
   "cell_type": "code",
   "execution_count": 29,
   "id": "b53879f9",
   "metadata": {},
   "outputs": [
    {
     "name": "stdout",
     "output_type": "stream",
     "text": [
      "[0.83364319 0.30090436]\n",
      "[0.83364319 0.30090436]\n"
     ]
    }
   ],
   "source": [
    "# getting all components of first row\n",
    "y_i = r_i[0, :]\n",
    "print(y_i)\n",
    "# or\n",
    "print(r_i[0])"
   ]
  },
  {
   "cell_type": "markdown",
   "id": "54c532a7",
   "metadata": {},
   "source": [
    "### Fance indexing"
   ]
  },
  {
   "cell_type": "code",
   "execution_count": 30,
   "id": "3ce0c8dd",
   "metadata": {},
   "outputs": [
    {
     "data": {
      "text/plain": [
       "array([9, 7, 6])"
      ]
     },
     "execution_count": 30,
     "metadata": {},
     "output_type": "execute_result"
    }
   ],
   "source": [
    "# index an array using another Numpy array\n",
    "d = np.array([9, 8, 7, 6, 5, 4, 3, 2, 1, 0])\n",
    "idx = np.array([0, 2, 3])\n",
    "d[idx]"
   ]
  },
  {
   "cell_type": "code",
   "execution_count": 31,
   "id": "e8d988ec",
   "metadata": {},
   "outputs": [
    {
     "data": {
      "text/plain": [
       "array([2, 5])"
      ]
     },
     "execution_count": 31,
     "metadata": {},
     "output_type": "execute_result"
    }
   ],
   "source": [
    "# fancy indexing on multiple dimensions\n",
    "e = np.array([[0, 1, 2], [3, 4, 5], [6, 7, 8], [9, 10, 11]])\n",
    "idx1 = np.array([0, 1])\n",
    "idx2 = np.array([2, 2])\n",
    "# e[select rows 0 and 1, select cols 2 and 2]\n",
    "e[idx1, idx2]"
   ]
  },
  {
   "cell_type": "code",
   "execution_count": 32,
   "id": "e1c6e2f8",
   "metadata": {},
   "outputs": [
    {
     "name": "stdout",
     "output_type": "stream",
     "text": [
      "[[0 1 2]\n",
      " [3 4 5]]\n",
      "[[0 1 2]\n",
      " [3 4 5]]\n"
     ]
    }
   ],
   "source": [
    "# using normal lists\n",
    "print(e[np.array([0, 1])])\n",
    "# or\n",
    "print(e[[0, 1]])"
   ]
  },
  {
   "cell_type": "code",
   "execution_count": 33,
   "id": "3f243736",
   "metadata": {},
   "outputs": [
    {
     "name": "stdout",
     "output_type": "stream",
     "text": [
      "1\n",
      "1\n"
     ]
    }
   ],
   "source": [
    "# using tuple\n",
    "print(e[(0, 1)])\n",
    "# or\n",
    "print(e[0, 1])"
   ]
  },
  {
   "cell_type": "code",
   "execution_count": 34,
   "id": "addfa4cd",
   "metadata": {},
   "outputs": [
    {
     "data": {
      "text/plain": [
       "array([[ 0,  5],\n",
       "       [10,  7]])"
      ]
     },
     "execution_count": 34,
     "metadata": {},
     "output_type": "execute_result"
    }
   ],
   "source": [
    "# using multi-dimension index arrays\n",
    "idx1 = [[0, 1], [3, 2]]\n",
    "idx2 = [[0, 2], [1, 1]]\n",
    "e[idx1, idx2]"
   ]
  },
  {
   "cell_type": "code",
   "execution_count": 35,
   "id": "3c6031c5",
   "metadata": {},
   "outputs": [
    {
     "name": "stdout",
     "output_type": "stream",
     "text": [
      "[[0.48303481 0.31904174]\n",
      " [0.71424486 0.55543377]\n",
      " [0.73155473 0.79732657]\n",
      " [0.29661636 0.06212525]\n",
      " [0.38651257 0.16837708]\n",
      " [0.98936878 0.99055018]\n",
      " [0.74196265 0.50096504]\n",
      " [0.96374717 0.99267999]\n",
      " [0.59281623 0.31551814]\n",
      " [0.4430549  0.00908099]]\n",
      "[[0.31904174 0.48303481]\n",
      " [0.55543377 0.71424486]\n",
      " [0.79732657 0.73155473]\n",
      " [0.06212525 0.29661636]\n",
      " [0.16837708 0.38651257]\n",
      " [0.99055018 0.98936878]\n",
      " [0.50096504 0.74196265]\n",
      " [0.99267999 0.96374717]\n",
      " [0.31551814 0.59281623]\n",
      " [0.00908099 0.4430549 ]]\n"
     ]
    }
   ],
   "source": [
    "# combining slicing and fancy indexing to swap x and y\n",
    "r_i = np.random.rand(10, 2)\n",
    "print(r_i)\n",
    "r_i[:, [0, 1]] = r_i[:, [1, 0]]\n",
    "print(r_i)"
   ]
  },
  {
   "cell_type": "code",
   "execution_count": 36,
   "id": "b86420b0",
   "metadata": {},
   "outputs": [
    {
     "data": {
      "text/plain": [
       "array([0, 2])"
      ]
     },
     "execution_count": 36,
     "metadata": {},
     "output_type": "execute_result"
    }
   ],
   "source": [
    "# using a bool type index array. every element corresponding to true will be extracted. this is called mask\n",
    "f = np.array([0, 1, 2, 3, 4, 5])\n",
    "mask = np.array([True, False, True, False, False, False])\n",
    "f[mask]"
   ]
  },
  {
   "cell_type": "code",
   "execution_count": 37,
   "id": "62a42cfa",
   "metadata": {},
   "outputs": [],
   "source": [
    "# getting more performance using np.take\n",
    "r_i = np.random.rand(100, 2)\n",
    "idx = np.arange(50)"
   ]
  },
  {
   "cell_type": "code",
   "execution_count": 38,
   "id": "d7529c6d",
   "metadata": {},
   "outputs": [
    {
     "name": "stdout",
     "output_type": "stream",
     "text": [
      "2.36 µs ± 76.4 ns per loop (mean ± std. dev. of 7 runs, 100000 loops each)\n"
     ]
    }
   ],
   "source": [
    "%timeit r_i[idx]"
   ]
  },
  {
   "cell_type": "code",
   "execution_count": 39,
   "id": "24a473ba",
   "metadata": {},
   "outputs": [
    {
     "name": "stdout",
     "output_type": "stream",
     "text": [
      "2.84 µs ± 73.2 ns per loop (mean ± std. dev. of 7 runs, 100000 loops each)\n"
     ]
    }
   ],
   "source": [
    "%timeit np.take(r_i, idx, axis=0)"
   ]
  },
  {
   "cell_type": "code",
   "execution_count": 40,
   "id": "c3549b93",
   "metadata": {},
   "outputs": [],
   "source": [
    "# Here np.take shows less performance than normal which is against the performance mentioned in the book."
   ]
  },
  {
   "cell_type": "code",
   "execution_count": 41,
   "id": "0cb14a3a",
   "metadata": {},
   "outputs": [],
   "source": [
    "# when index array is of boolean type we will use numpy.compress \n",
    "idx = np.ones(100, dtype='bool')"
   ]
  },
  {
   "cell_type": "code",
   "execution_count": 42,
   "id": "42983568",
   "metadata": {},
   "outputs": [
    {
     "name": "stdout",
     "output_type": "stream",
     "text": [
      "3.28 µs ± 86.5 ns per loop (mean ± std. dev. of 7 runs, 100000 loops each)\n"
     ]
    }
   ],
   "source": [
    "%timeit r_i[idx]"
   ]
  },
  {
   "cell_type": "code",
   "execution_count": 43,
   "id": "a17b9d99",
   "metadata": {},
   "outputs": [
    {
     "name": "stdout",
     "output_type": "stream",
     "text": [
      "3.05 µs ± 49.5 ns per loop (mean ± std. dev. of 7 runs, 100000 loops each)\n"
     ]
    }
   ],
   "source": [
    "%timeit np.compress(idx, r_i, axis=0)"
   ]
  },
  {
   "cell_type": "code",
   "execution_count": 44,
   "id": "396b80d0",
   "metadata": {},
   "outputs": [],
   "source": [
    "# np.compress is giving a slight speed improvement."
   ]
  },
  {
   "cell_type": "code",
   "execution_count": null,
   "id": "01e5c8a5",
   "metadata": {},
   "outputs": [],
   "source": []
  }
 ],
 "metadata": {
  "kernelspec": {
   "display_name": "Python 3 (ipykernel)",
   "language": "python",
   "name": "python3"
  },
  "language_info": {
   "codemirror_mode": {
    "name": "ipython",
    "version": 3
   },
   "file_extension": ".py",
   "mimetype": "text/x-python",
   "name": "python",
   "nbconvert_exporter": "python",
   "pygments_lexer": "ipython3",
   "version": "3.9.13"
  }
 },
 "nbformat": 4,
 "nbformat_minor": 5
}
