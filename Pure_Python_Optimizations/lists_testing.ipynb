{
 "cells": [
  {
   "cell_type": "markdown",
   "id": "694a30ee",
   "metadata": {},
   "source": [
    "### Checking performance of Python built-in functions using cProfile"
   ]
  },
  {
   "cell_type": "markdown",
   "id": "ac14150a",
   "metadata": {},
   "source": [
    "## Performance Comparisons\n",
    "\n",
    "### Removing last element from list\n",
    "### list.pop vs deque.pop\n",
    "\n",
    "#### No of Operations ----- time of list.pop ------ time of deque.pop\n",
    "#### ----- 10000                    -----  0.004s  ------   0.003s\n",
    "#### ----- 20000                    -----  0.007s  ------  0.010s\n",
    "#### ----- 30000                    -----  0.013s  ------  0.022s\n",
    "\n",
    "#### Conclusion: list is recommended for simple and general work."
   ]
  },
  {
   "cell_type": "markdown",
   "id": "55009a9c",
   "metadata": {},
   "source": [
    "### Removing first element from list\n",
    "### list.pop(0) vs deque.popleft()\n",
    "\n",
    "#### No of Operations ----- time of list.pop ------ time of deque.popleft\n",
    "#### ----- 10000                    -----  6.287s  ------   0.006s\n",
    "#### ----- 20000                    -----  12.290s  ------  0.006s\n",
    "#### ----- 30000                    -----  18.501s  ------  0.012s\n",
    "\n",
    "#### Conclusion: deque is recommended when you remove first element."
   ]
  },
  {
   "cell_type": "markdown",
   "id": "bce83e64",
   "metadata": {},
   "source": [
    "### Inserting element at start of the list\n",
    "### list.insert vs deque.appendleft\n",
    "\n",
    "#### No of Operations ----- time of list.insert ------ time of deque.appendleft\n",
    "#### ----- 10000                    -----  0.044s  ------   0.004s\n",
    "#### ----- 20000                    -----  0.162s  ------  0.009s\n",
    "#### ----- 30000                    -----  0.319s  ------  0.014s\n",
    "\n",
    "#### Conclusion: deque is recommended when you insert element at index 0."
   ]
  },
  {
   "cell_type": "markdown",
   "id": "fe5defb3",
   "metadata": {},
   "source": [
    "### Searching in sorted lists\n",
    "### list.index vs bisect.bisect_left\n",
    "\n",
    "#### No of Operations ----- time of list.index ------ time of bisect.bisect_left\n",
    "#### ----- 10000                    -----  0.577s  ------   0.014s\n",
    "#### ----- 20000                    -----  2.350s  ------  0.017s\n",
    "#### ----- 30000                    -----  5.540s  ------  0.026s\n",
    "\n",
    "#### Conclusion: bisect is recommended when you search in sorted lists."
   ]
  },
  {
   "cell_type": "code",
   "execution_count": 3,
   "id": "1c310e55",
   "metadata": {},
   "outputs": [],
   "source": [
    "# First import cProfile\n",
    "import cProfile"
   ]
  },
  {
   "cell_type": "code",
   "execution_count": 2,
   "id": "5dc417e5",
   "metadata": {},
   "outputs": [],
   "source": [
    "# This is for warm up\n",
    "def enum(i: int) -> list:\n",
    "    input = list(range(i))\n",
    "\n",
    "    for i, _ in enumerate(input):\n",
    "        input[i] += 1"
   ]
  },
  {
   "cell_type": "code",
   "execution_count": 3,
   "id": "b479e152",
   "metadata": {},
   "outputs": [
    {
     "name": "stdout",
     "output_type": "stream",
     "text": [
      "         46 function calls in 0.188 seconds\n",
      "\n",
      "   Ordered by: standard name\n",
      "\n",
      "   ncalls  tottime  percall  cumtime  percall filename:lineno(function)\n",
      "        1    0.013    0.013    0.188    0.188 112896936.py:3(<module>)\n",
      "        1    0.000    0.000    0.000    0.000 112896936.py:4(<module>)\n",
      "        1    0.175    0.175    0.175    0.175 2464610569.py:2(enum)\n",
      "        2    0.000    0.000    0.000    0.000 codeop.py:142(__call__)\n",
      "        4    0.000    0.000    0.000    0.000 compilerop.py:166(extra_flags)\n",
      "        2    0.000    0.000    0.000    0.000 contextlib.py:114(__enter__)\n",
      "        2    0.000    0.000    0.000    0.000 contextlib.py:123(__exit__)\n",
      "        2    0.000    0.000    0.000    0.000 contextlib.py:261(helper)\n",
      "        2    0.000    0.000    0.000    0.000 contextlib.py:86(__init__)\n",
      "        2    0.000    0.000    0.000    0.000 hooks.py:103(__call__)\n",
      "        2    0.000    0.000    0.000    0.000 hooks.py:168(pre_run_code_hook)\n",
      "        2    0.000    0.000    0.000    0.000 interactiveshell.py:1286(user_global_ns)\n",
      "        2    0.000    0.000    0.000    0.000 interactiveshell.py:3354(compare)\n",
      "        2    0.000    0.000    0.188    0.094 interactiveshell.py:3416(run_code)\n",
      "        2    0.000    0.000    0.000    0.000 ipstruct.py:125(__getattr__)\n",
      "        2    0.000    0.000    0.000    0.000 traitlets.py:535(get)\n",
      "        2    0.000    0.000    0.000    0.000 traitlets.py:566(__get__)\n",
      "        2    0.000    0.000    0.000    0.000 {built-in method builtins.compile}\n",
      "        2    0.000    0.000    0.188    0.094 {built-in method builtins.exec}\n",
      "        4    0.000    0.000    0.000    0.000 {built-in method builtins.getattr}\n",
      "        4    0.000    0.000    0.000    0.000 {built-in method builtins.next}\n",
      "        1    0.000    0.000    0.000    0.000 {method 'disable' of '_lsprof.Profiler' objects}\n",
      "\n",
      "\n"
     ]
    }
   ],
   "source": [
    "pr = cProfile.Profile()\n",
    "pr.enable()\n",
    "enum(1000_000)\n",
    "pr.disable()\n",
    "pr.print_stats()"
   ]
  },
  {
   "cell_type": "markdown",
   "id": "d18ac843",
   "metadata": {},
   "source": [
    "## Testing list.pop() \n",
    "### First we will remove last item from list"
   ]
  },
  {
   "cell_type": "code",
   "execution_count": 4,
   "id": "3ca249fc",
   "metadata": {},
   "outputs": [],
   "source": [
    "# Creating list\n",
    "big_list = list(range(1000_000))"
   ]
  },
  {
   "cell_type": "code",
   "execution_count": 5,
   "id": "3b5dd753",
   "metadata": {},
   "outputs": [
    {
     "name": "stdout",
     "output_type": "stream",
     "text": [
      "         10045 function calls in 0.004 seconds\n",
      "\n",
      "   Ordered by: standard name\n",
      "\n",
      "   ncalls  tottime  percall  cumtime  percall filename:lineno(function)\n",
      "        1    0.003    0.003    0.004    0.004 2718560338.py:4(<module>)\n",
      "        1    0.000    0.000    0.000    0.000 2718560338.py:6(<module>)\n",
      "        2    0.000    0.000    0.000    0.000 codeop.py:142(__call__)\n",
      "        4    0.000    0.000    0.000    0.000 compilerop.py:166(extra_flags)\n",
      "        2    0.000    0.000    0.000    0.000 contextlib.py:114(__enter__)\n",
      "        2    0.000    0.000    0.000    0.000 contextlib.py:123(__exit__)\n",
      "        2    0.000    0.000    0.000    0.000 contextlib.py:261(helper)\n",
      "        2    0.000    0.000    0.000    0.000 contextlib.py:86(__init__)\n",
      "        2    0.000    0.000    0.000    0.000 hooks.py:103(__call__)\n",
      "        2    0.000    0.000    0.000    0.000 hooks.py:168(pre_run_code_hook)\n",
      "        2    0.000    0.000    0.000    0.000 interactiveshell.py:1286(user_global_ns)\n",
      "        2    0.000    0.000    0.000    0.000 interactiveshell.py:3354(compare)\n",
      "        2    0.000    0.000    0.004    0.002 interactiveshell.py:3416(run_code)\n",
      "        2    0.000    0.000    0.000    0.000 ipstruct.py:125(__getattr__)\n",
      "        2    0.000    0.000    0.000    0.000 traitlets.py:535(get)\n",
      "        2    0.000    0.000    0.000    0.000 traitlets.py:566(__get__)\n",
      "        2    0.000    0.000    0.000    0.000 {built-in method builtins.compile}\n",
      "        2    0.000    0.000    0.004    0.002 {built-in method builtins.exec}\n",
      "        4    0.000    0.000    0.000    0.000 {built-in method builtins.getattr}\n",
      "        4    0.000    0.000    0.000    0.000 {built-in method builtins.next}\n",
      "        1    0.000    0.000    0.000    0.000 {method 'disable' of '_lsprof.Profiler' objects}\n",
      "    10000    0.001    0.000    0.001    0.000 {method 'pop' of 'list' objects}\n",
      "\n",
      "\n"
     ]
    }
   ],
   "source": [
    "# Testing pop method with 10000 pop operations.\n",
    "pr = cProfile.Profile()\n",
    "pr.enable()\n",
    "for i in range(10000):\n",
    "    big_list.pop()\n",
    "pr.disable()\n",
    "pr.print_stats()"
   ]
  },
  {
   "cell_type": "code",
   "execution_count": 6,
   "id": "e1867b22",
   "metadata": {},
   "outputs": [
    {
     "name": "stdout",
     "output_type": "stream",
     "text": [
      "         20045 function calls in 0.007 seconds\n",
      "\n",
      "   Ordered by: standard name\n",
      "\n",
      "   ncalls  tottime  percall  cumtime  percall filename:lineno(function)\n",
      "        1    0.005    0.005    0.007    0.007 3054225254.py:4(<module>)\n",
      "        1    0.000    0.000    0.000    0.000 3054225254.py:6(<module>)\n",
      "        2    0.000    0.000    0.000    0.000 codeop.py:142(__call__)\n",
      "        4    0.000    0.000    0.000    0.000 compilerop.py:166(extra_flags)\n",
      "        2    0.000    0.000    0.000    0.000 contextlib.py:114(__enter__)\n",
      "        2    0.000    0.000    0.000    0.000 contextlib.py:123(__exit__)\n",
      "        2    0.000    0.000    0.000    0.000 contextlib.py:261(helper)\n",
      "        2    0.000    0.000    0.000    0.000 contextlib.py:86(__init__)\n",
      "        2    0.000    0.000    0.000    0.000 hooks.py:103(__call__)\n",
      "        2    0.000    0.000    0.000    0.000 hooks.py:168(pre_run_code_hook)\n",
      "        2    0.000    0.000    0.000    0.000 interactiveshell.py:1286(user_global_ns)\n",
      "        2    0.000    0.000    0.000    0.000 interactiveshell.py:3354(compare)\n",
      "        2    0.000    0.000    0.007    0.004 interactiveshell.py:3416(run_code)\n",
      "        2    0.000    0.000    0.000    0.000 ipstruct.py:125(__getattr__)\n",
      "        2    0.000    0.000    0.000    0.000 traitlets.py:535(get)\n",
      "        2    0.000    0.000    0.000    0.000 traitlets.py:566(__get__)\n",
      "        2    0.000    0.000    0.000    0.000 {built-in method builtins.compile}\n",
      "        2    0.000    0.000    0.007    0.004 {built-in method builtins.exec}\n",
      "        4    0.000    0.000    0.000    0.000 {built-in method builtins.getattr}\n",
      "        4    0.000    0.000    0.000    0.000 {built-in method builtins.next}\n",
      "        1    0.000    0.000    0.000    0.000 {method 'disable' of '_lsprof.Profiler' objects}\n",
      "    20000    0.002    0.000    0.002    0.000 {method 'pop' of 'list' objects}\n",
      "\n",
      "\n"
     ]
    }
   ],
   "source": [
    "# Testing pop method with 20000 pop operations.\n",
    "pr = cProfile.Profile()\n",
    "pr.enable()\n",
    "for i in range(20000):\n",
    "    big_list.pop()\n",
    "pr.disable()\n",
    "pr.print_stats()"
   ]
  },
  {
   "cell_type": "code",
   "execution_count": 7,
   "id": "46eb041e",
   "metadata": {},
   "outputs": [
    {
     "name": "stdout",
     "output_type": "stream",
     "text": [
      "         30045 function calls in 0.013 seconds\n",
      "\n",
      "   Ordered by: standard name\n",
      "\n",
      "   ncalls  tottime  percall  cumtime  percall filename:lineno(function)\n",
      "        1    0.009    0.009    0.013    0.013 1415857134.py:4(<module>)\n",
      "        1    0.000    0.000    0.000    0.000 1415857134.py:6(<module>)\n",
      "        2    0.000    0.000    0.000    0.000 codeop.py:142(__call__)\n",
      "        4    0.000    0.000    0.000    0.000 compilerop.py:166(extra_flags)\n",
      "        2    0.000    0.000    0.000    0.000 contextlib.py:114(__enter__)\n",
      "        2    0.000    0.000    0.000    0.000 contextlib.py:123(__exit__)\n",
      "        2    0.000    0.000    0.000    0.000 contextlib.py:261(helper)\n",
      "        2    0.000    0.000    0.000    0.000 contextlib.py:86(__init__)\n",
      "        2    0.000    0.000    0.000    0.000 hooks.py:103(__call__)\n",
      "        2    0.000    0.000    0.000    0.000 hooks.py:168(pre_run_code_hook)\n",
      "        2    0.000    0.000    0.000    0.000 interactiveshell.py:1286(user_global_ns)\n",
      "        2    0.000    0.000    0.000    0.000 interactiveshell.py:3354(compare)\n",
      "        2    0.000    0.000    0.013    0.006 interactiveshell.py:3416(run_code)\n",
      "        2    0.000    0.000    0.000    0.000 ipstruct.py:125(__getattr__)\n",
      "        2    0.000    0.000    0.000    0.000 traitlets.py:535(get)\n",
      "        2    0.000    0.000    0.000    0.000 traitlets.py:566(__get__)\n",
      "        2    0.000    0.000    0.000    0.000 {built-in method builtins.compile}\n",
      "        2    0.000    0.000    0.013    0.006 {built-in method builtins.exec}\n",
      "        4    0.000    0.000    0.000    0.000 {built-in method builtins.getattr}\n",
      "        4    0.000    0.000    0.000    0.000 {built-in method builtins.next}\n",
      "        1    0.000    0.000    0.000    0.000 {method 'disable' of '_lsprof.Profiler' objects}\n",
      "    30000    0.003    0.000    0.003    0.000 {method 'pop' of 'list' objects}\n",
      "\n",
      "\n"
     ]
    }
   ],
   "source": [
    "# Testing pop method with 30000 pop operations.\n",
    "pr = cProfile.Profile()\n",
    "pr.enable()\n",
    "for i in range(30000):\n",
    "    big_list.pop()\n",
    "pr.disable()\n",
    "pr.print_stats()"
   ]
  },
  {
   "cell_type": "code",
   "execution_count": 8,
   "id": "5c17d551",
   "metadata": {},
   "outputs": [],
   "source": [
    "# You can see that pop O(1) notation while removing last item from list."
   ]
  },
  {
   "cell_type": "markdown",
   "id": "2e230bf7",
   "metadata": {},
   "source": [
    "#### Now we remove first item from list using pop."
   ]
  },
  {
   "cell_type": "code",
   "execution_count": 9,
   "id": "eb1c2e51",
   "metadata": {},
   "outputs": [
    {
     "name": "stdout",
     "output_type": "stream",
     "text": [
      "         10045 function calls in 6.287 seconds\n",
      "\n",
      "   Ordered by: standard name\n",
      "\n",
      "   ncalls  tottime  percall  cumtime  percall filename:lineno(function)\n",
      "        1    0.034    0.034    6.286    6.286 4173305476.py:4(<module>)\n",
      "        1    0.000    0.000    0.000    0.000 4173305476.py:6(<module>)\n",
      "        2    0.000    0.000    0.000    0.000 codeop.py:142(__call__)\n",
      "        4    0.000    0.000    0.000    0.000 compilerop.py:166(extra_flags)\n",
      "        2    0.000    0.000    0.000    0.000 contextlib.py:114(__enter__)\n",
      "        2    0.000    0.000    0.000    0.000 contextlib.py:123(__exit__)\n",
      "        2    0.000    0.000    0.000    0.000 contextlib.py:261(helper)\n",
      "        2    0.000    0.000    0.000    0.000 contextlib.py:86(__init__)\n",
      "        2    0.000    0.000    0.000    0.000 hooks.py:103(__call__)\n",
      "        2    0.000    0.000    0.000    0.000 hooks.py:168(pre_run_code_hook)\n",
      "        2    0.000    0.000    0.000    0.000 interactiveshell.py:1286(user_global_ns)\n",
      "        2    0.000    0.000    0.000    0.000 interactiveshell.py:3354(compare)\n",
      "        2    0.000    0.000    6.287    3.143 interactiveshell.py:3416(run_code)\n",
      "        2    0.000    0.000    0.000    0.000 ipstruct.py:125(__getattr__)\n",
      "        2    0.000    0.000    0.000    0.000 traitlets.py:535(get)\n",
      "        2    0.000    0.000    0.000    0.000 traitlets.py:566(__get__)\n",
      "        2    0.000    0.000    0.000    0.000 {built-in method builtins.compile}\n",
      "        2    0.000    0.000    6.286    3.143 {built-in method builtins.exec}\n",
      "        4    0.000    0.000    0.000    0.000 {built-in method builtins.getattr}\n",
      "        4    0.000    0.000    0.000    0.000 {built-in method builtins.next}\n",
      "        1    0.000    0.000    0.000    0.000 {method 'disable' of '_lsprof.Profiler' objects}\n",
      "    10000    6.252    0.001    6.252    0.001 {method 'pop' of 'list' objects}\n",
      "\n",
      "\n"
     ]
    }
   ],
   "source": [
    "# Testing pop method with 10000 pop operations.\n",
    "pr = cProfile.Profile()\n",
    "pr.enable()\n",
    "for i in range(10000):\n",
    "    big_list.pop(0)\n",
    "pr.disable()\n",
    "pr.print_stats()"
   ]
  },
  {
   "cell_type": "code",
   "execution_count": 10,
   "id": "a4c7f012",
   "metadata": {},
   "outputs": [
    {
     "name": "stdout",
     "output_type": "stream",
     "text": [
      "         20045 function calls in 12.290 seconds\n",
      "\n",
      "   Ordered by: standard name\n",
      "\n",
      "   ncalls  tottime  percall  cumtime  percall filename:lineno(function)\n",
      "        1    0.061    0.061   12.289   12.289 3885737429.py:4(<module>)\n",
      "        1    0.000    0.000    0.000    0.000 3885737429.py:6(<module>)\n",
      "        2    0.000    0.000    0.000    0.000 codeop.py:142(__call__)\n",
      "        4    0.000    0.000    0.000    0.000 compilerop.py:166(extra_flags)\n",
      "        2    0.000    0.000    0.000    0.000 contextlib.py:114(__enter__)\n",
      "        2    0.000    0.000    0.000    0.000 contextlib.py:123(__exit__)\n",
      "        2    0.000    0.000    0.000    0.000 contextlib.py:261(helper)\n",
      "        2    0.000    0.000    0.000    0.000 contextlib.py:86(__init__)\n",
      "        2    0.000    0.000    0.000    0.000 hooks.py:103(__call__)\n",
      "        2    0.000    0.000    0.000    0.000 hooks.py:168(pre_run_code_hook)\n",
      "        2    0.000    0.000    0.000    0.000 interactiveshell.py:1286(user_global_ns)\n",
      "        2    0.000    0.000    0.000    0.000 interactiveshell.py:3354(compare)\n",
      "        2    0.000    0.000   12.289    6.145 interactiveshell.py:3416(run_code)\n",
      "        2    0.000    0.000    0.000    0.000 ipstruct.py:125(__getattr__)\n",
      "        2    0.000    0.000    0.000    0.000 traitlets.py:535(get)\n",
      "        2    0.000    0.000    0.000    0.000 traitlets.py:566(__get__)\n",
      "        2    0.000    0.000    0.000    0.000 {built-in method builtins.compile}\n",
      "        2    0.000    0.000   12.289    6.145 {built-in method builtins.exec}\n",
      "        4    0.000    0.000    0.000    0.000 {built-in method builtins.getattr}\n",
      "        4    0.000    0.000    0.000    0.000 {built-in method builtins.next}\n",
      "        1    0.000    0.000    0.000    0.000 {method 'disable' of '_lsprof.Profiler' objects}\n",
      "    20000   12.228    0.001   12.228    0.001 {method 'pop' of 'list' objects}\n",
      "\n",
      "\n"
     ]
    }
   ],
   "source": [
    "# Testing pop method with 20000 pop operations.\n",
    "pr = cProfile.Profile()\n",
    "pr.enable()\n",
    "for i in range(20000):\n",
    "    big_list.pop(0)\n",
    "pr.disable()\n",
    "pr.print_stats()"
   ]
  },
  {
   "cell_type": "code",
   "execution_count": 11,
   "id": "97ab5dbf",
   "metadata": {},
   "outputs": [
    {
     "name": "stdout",
     "output_type": "stream",
     "text": [
      "         30045 function calls in 18.501 seconds\n",
      "\n",
      "   Ordered by: standard name\n",
      "\n",
      "   ncalls  tottime  percall  cumtime  percall filename:lineno(function)\n",
      "        1    0.099    0.099   18.501   18.501 4047847265.py:4(<module>)\n",
      "        1    0.000    0.000    0.000    0.000 4047847265.py:6(<module>)\n",
      "        2    0.000    0.000    0.000    0.000 codeop.py:142(__call__)\n",
      "        4    0.000    0.000    0.000    0.000 compilerop.py:166(extra_flags)\n",
      "        2    0.000    0.000    0.000    0.000 contextlib.py:114(__enter__)\n",
      "        2    0.000    0.000    0.000    0.000 contextlib.py:123(__exit__)\n",
      "        2    0.000    0.000    0.000    0.000 contextlib.py:261(helper)\n",
      "        2    0.000    0.000    0.000    0.000 contextlib.py:86(__init__)\n",
      "        2    0.000    0.000    0.000    0.000 hooks.py:103(__call__)\n",
      "        2    0.000    0.000    0.000    0.000 hooks.py:168(pre_run_code_hook)\n",
      "        2    0.000    0.000    0.000    0.000 interactiveshell.py:1286(user_global_ns)\n",
      "        2    0.000    0.000    0.000    0.000 interactiveshell.py:3354(compare)\n",
      "        2    0.000    0.000   18.501    9.251 interactiveshell.py:3416(run_code)\n",
      "        2    0.000    0.000    0.000    0.000 ipstruct.py:125(__getattr__)\n",
      "        2    0.000    0.000    0.000    0.000 traitlets.py:535(get)\n",
      "        2    0.000    0.000    0.000    0.000 traitlets.py:566(__get__)\n",
      "        2    0.000    0.000    0.000    0.000 {built-in method builtins.compile}\n",
      "        2    0.000    0.000   18.501    9.251 {built-in method builtins.exec}\n",
      "        4    0.000    0.000    0.000    0.000 {built-in method builtins.getattr}\n",
      "        4    0.000    0.000    0.000    0.000 {built-in method builtins.next}\n",
      "        1    0.000    0.000    0.000    0.000 {method 'disable' of '_lsprof.Profiler' objects}\n",
      "    30000   18.402    0.001   18.402    0.001 {method 'pop' of 'list' objects}\n",
      "\n",
      "\n"
     ]
    }
   ],
   "source": [
    "# Testing pop method with 30000 pop operations.\n",
    "pr = cProfile.Profile()\n",
    "pr.enable()\n",
    "for i in range(30000):\n",
    "    big_list.pop(0)\n",
    "pr.disable()\n",
    "pr.print_stats()"
   ]
  },
  {
   "cell_type": "markdown",
   "id": "42596b11",
   "metadata": {},
   "source": [
    "## Conclusion\n",
    "#### You can see that list.pop()'s performance was vary quite dramatically when removing first item from the list.\n",
    "#### So it is recommended to use list.pop() only when you last item from the list."
   ]
  },
  {
   "cell_type": "markdown",
   "id": "b96ba4e4",
   "metadata": {},
   "source": [
    "# Checking performance of list.append()"
   ]
  },
  {
   "cell_type": "code",
   "execution_count": 12,
   "id": "861d29d6",
   "metadata": {},
   "outputs": [
    {
     "name": "stdout",
     "output_type": "stream",
     "text": [
      "         10045 function calls in 0.011 seconds\n",
      "\n",
      "   Ordered by: standard name\n",
      "\n",
      "   ncalls  tottime  percall  cumtime  percall filename:lineno(function)\n",
      "        1    0.008    0.008    0.010    0.010 3415434024.py:6(<module>)\n",
      "        1    0.000    0.000    0.000    0.000 3415434024.py:8(<module>)\n",
      "        2    0.001    0.001    0.001    0.001 codeop.py:142(__call__)\n",
      "        4    0.000    0.000    0.000    0.000 compilerop.py:166(extra_flags)\n",
      "        2    0.000    0.000    0.000    0.000 contextlib.py:114(__enter__)\n",
      "        2    0.000    0.000    0.000    0.000 contextlib.py:123(__exit__)\n",
      "        2    0.000    0.000    0.000    0.000 contextlib.py:261(helper)\n",
      "        2    0.000    0.000    0.000    0.000 contextlib.py:86(__init__)\n",
      "        2    0.000    0.000    0.000    0.000 hooks.py:103(__call__)\n",
      "        2    0.000    0.000    0.000    0.000 hooks.py:168(pre_run_code_hook)\n",
      "        2    0.000    0.000    0.000    0.000 interactiveshell.py:1286(user_global_ns)\n",
      "        2    0.000    0.000    0.000    0.000 interactiveshell.py:3354(compare)\n",
      "        2    0.000    0.000    0.010    0.005 interactiveshell.py:3416(run_code)\n",
      "        2    0.000    0.000    0.000    0.000 ipstruct.py:125(__getattr__)\n",
      "        2    0.000    0.000    0.000    0.000 traitlets.py:535(get)\n",
      "        2    0.000    0.000    0.000    0.000 traitlets.py:566(__get__)\n",
      "        2    0.000    0.000    0.000    0.000 {built-in method builtins.compile}\n",
      "        2    0.000    0.000    0.010    0.005 {built-in method builtins.exec}\n",
      "        4    0.000    0.000    0.000    0.000 {built-in method builtins.getattr}\n",
      "        4    0.000    0.000    0.000    0.000 {built-in method builtins.next}\n",
      "    10000    0.002    0.000    0.002    0.000 {method 'append' of 'list' objects}\n",
      "        1    0.000    0.000    0.000    0.000 {method 'disable' of '_lsprof.Profiler' objects}\n",
      "\n",
      "\n"
     ]
    }
   ],
   "source": [
    "# Testing append method with 10000 append operations.\n",
    "small_list = []\n",
    "\n",
    "pr = cProfile.Profile()\n",
    "pr.enable()\n",
    "for i in range(10000):\n",
    "    small_list.append(1)\n",
    "pr.disable()\n",
    "pr.print_stats()"
   ]
  },
  {
   "cell_type": "code",
   "execution_count": 13,
   "id": "f1772148",
   "metadata": {
    "scrolled": false
   },
   "outputs": [
    {
     "name": "stdout",
     "output_type": "stream",
     "text": [
      "         20045 function calls in 0.010 seconds\n",
      "\n",
      "   Ordered by: standard name\n",
      "\n",
      "   ncalls  tottime  percall  cumtime  percall filename:lineno(function)\n",
      "        1    0.007    0.007    0.010    0.010 1400633887.py:6(<module>)\n",
      "        1    0.000    0.000    0.000    0.000 1400633887.py:8(<module>)\n",
      "        2    0.000    0.000    0.000    0.000 codeop.py:142(__call__)\n",
      "        4    0.000    0.000    0.000    0.000 compilerop.py:166(extra_flags)\n",
      "        2    0.000    0.000    0.000    0.000 contextlib.py:114(__enter__)\n",
      "        2    0.000    0.000    0.000    0.000 contextlib.py:123(__exit__)\n",
      "        2    0.000    0.000    0.000    0.000 contextlib.py:261(helper)\n",
      "        2    0.000    0.000    0.000    0.000 contextlib.py:86(__init__)\n",
      "        2    0.000    0.000    0.000    0.000 hooks.py:103(__call__)\n",
      "        2    0.000    0.000    0.000    0.000 hooks.py:168(pre_run_code_hook)\n",
      "        2    0.000    0.000    0.000    0.000 interactiveshell.py:1286(user_global_ns)\n",
      "        2    0.000    0.000    0.000    0.000 interactiveshell.py:3354(compare)\n",
      "        2    0.000    0.000    0.010    0.005 interactiveshell.py:3416(run_code)\n",
      "        2    0.000    0.000    0.000    0.000 ipstruct.py:125(__getattr__)\n",
      "        2    0.000    0.000    0.000    0.000 traitlets.py:535(get)\n",
      "        2    0.000    0.000    0.000    0.000 traitlets.py:566(__get__)\n",
      "        2    0.000    0.000    0.000    0.000 {built-in method builtins.compile}\n",
      "        2    0.000    0.000    0.010    0.005 {built-in method builtins.exec}\n",
      "        4    0.000    0.000    0.000    0.000 {built-in method builtins.getattr}\n",
      "        4    0.000    0.000    0.000    0.000 {built-in method builtins.next}\n",
      "    20000    0.003    0.000    0.003    0.000 {method 'append' of 'list' objects}\n",
      "        1    0.000    0.000    0.000    0.000 {method 'disable' of '_lsprof.Profiler' objects}\n",
      "\n",
      "\n"
     ]
    }
   ],
   "source": [
    "# Testing append method with 20000 append operations.\n",
    "small_list = []\n",
    "\n",
    "pr = cProfile.Profile()\n",
    "pr.enable()\n",
    "for i in range(20000):\n",
    "    small_list.append(1)\n",
    "pr.disable()\n",
    "pr.print_stats()"
   ]
  },
  {
   "cell_type": "code",
   "execution_count": 14,
   "id": "97361a09",
   "metadata": {},
   "outputs": [
    {
     "name": "stdout",
     "output_type": "stream",
     "text": [
      "         30045 function calls in 0.014 seconds\n",
      "\n",
      "   Ordered by: standard name\n",
      "\n",
      "   ncalls  tottime  percall  cumtime  percall filename:lineno(function)\n",
      "        1    0.010    0.010    0.014    0.014 2028272319.py:6(<module>)\n",
      "        1    0.000    0.000    0.000    0.000 2028272319.py:8(<module>)\n",
      "        2    0.000    0.000    0.000    0.000 codeop.py:142(__call__)\n",
      "        4    0.000    0.000    0.000    0.000 compilerop.py:166(extra_flags)\n",
      "        2    0.000    0.000    0.000    0.000 contextlib.py:114(__enter__)\n",
      "        2    0.000    0.000    0.000    0.000 contextlib.py:123(__exit__)\n",
      "        2    0.000    0.000    0.000    0.000 contextlib.py:261(helper)\n",
      "        2    0.000    0.000    0.000    0.000 contextlib.py:86(__init__)\n",
      "        2    0.000    0.000    0.000    0.000 hooks.py:103(__call__)\n",
      "        2    0.000    0.000    0.000    0.000 hooks.py:168(pre_run_code_hook)\n",
      "        2    0.000    0.000    0.000    0.000 interactiveshell.py:1286(user_global_ns)\n",
      "        2    0.000    0.000    0.000    0.000 interactiveshell.py:3354(compare)\n",
      "        2    0.000    0.000    0.014    0.007 interactiveshell.py:3416(run_code)\n",
      "        2    0.000    0.000    0.000    0.000 ipstruct.py:125(__getattr__)\n",
      "        2    0.000    0.000    0.000    0.000 traitlets.py:535(get)\n",
      "        2    0.000    0.000    0.000    0.000 traitlets.py:566(__get__)\n",
      "        2    0.000    0.000    0.000    0.000 {built-in method builtins.compile}\n",
      "        2    0.000    0.000    0.014    0.007 {built-in method builtins.exec}\n",
      "        4    0.000    0.000    0.000    0.000 {built-in method builtins.getattr}\n",
      "        4    0.000    0.000    0.000    0.000 {built-in method builtins.next}\n",
      "    30000    0.004    0.000    0.004    0.000 {method 'append' of 'list' objects}\n",
      "        1    0.000    0.000    0.000    0.000 {method 'disable' of '_lsprof.Profiler' objects}\n",
      "\n",
      "\n"
     ]
    }
   ],
   "source": [
    "# Testing append method with 30000 append operations.\n",
    "small_list = []\n",
    "\n",
    "pr = cProfile.Profile()\n",
    "pr.enable()\n",
    "for i in range(30000):\n",
    "    small_list.append(1)\n",
    "pr.disable()\n",
    "pr.print_stats()"
   ]
  },
  {
   "cell_type": "code",
   "execution_count": 15,
   "id": "3281917f",
   "metadata": {},
   "outputs": [],
   "source": [
    "# You can see that append follows O(1) time curve."
   ]
  },
  {
   "cell_type": "markdown",
   "id": "bf3e54e7",
   "metadata": {},
   "source": [
    "# Checking performance of list.insert()"
   ]
  },
  {
   "cell_type": "code",
   "execution_count": 16,
   "id": "86bee606",
   "metadata": {},
   "outputs": [
    {
     "name": "stdout",
     "output_type": "stream",
     "text": [
      "         10045 function calls in 0.044 seconds\n",
      "\n",
      "   Ordered by: standard name\n",
      "\n",
      "   ncalls  tottime  percall  cumtime  percall filename:lineno(function)\n",
      "        1    0.004    0.004    0.044    0.044 1951596261.py:6(<module>)\n",
      "        1    0.000    0.000    0.000    0.000 1951596261.py:8(<module>)\n",
      "        2    0.000    0.000    0.000    0.000 codeop.py:142(__call__)\n",
      "        4    0.000    0.000    0.000    0.000 compilerop.py:166(extra_flags)\n",
      "        2    0.000    0.000    0.000    0.000 contextlib.py:114(__enter__)\n",
      "        2    0.000    0.000    0.000    0.000 contextlib.py:123(__exit__)\n",
      "        2    0.000    0.000    0.000    0.000 contextlib.py:261(helper)\n",
      "        2    0.000    0.000    0.000    0.000 contextlib.py:86(__init__)\n",
      "        2    0.000    0.000    0.000    0.000 hooks.py:103(__call__)\n",
      "        2    0.000    0.000    0.000    0.000 hooks.py:168(pre_run_code_hook)\n",
      "        2    0.000    0.000    0.000    0.000 interactiveshell.py:1286(user_global_ns)\n",
      "        2    0.000    0.000    0.000    0.000 interactiveshell.py:3354(compare)\n",
      "        2    0.000    0.000    0.044    0.022 interactiveshell.py:3416(run_code)\n",
      "        2    0.000    0.000    0.000    0.000 ipstruct.py:125(__getattr__)\n",
      "        2    0.000    0.000    0.000    0.000 traitlets.py:535(get)\n",
      "        2    0.000    0.000    0.000    0.000 traitlets.py:566(__get__)\n",
      "        2    0.000    0.000    0.000    0.000 {built-in method builtins.compile}\n",
      "        2    0.000    0.000    0.044    0.022 {built-in method builtins.exec}\n",
      "        4    0.000    0.000    0.000    0.000 {built-in method builtins.getattr}\n",
      "        4    0.000    0.000    0.000    0.000 {built-in method builtins.next}\n",
      "        1    0.000    0.000    0.000    0.000 {method 'disable' of '_lsprof.Profiler' objects}\n",
      "    10000    0.039    0.000    0.039    0.000 {method 'insert' of 'list' objects}\n",
      "\n",
      "\n"
     ]
    }
   ],
   "source": [
    "# Testing insert method with 10000 insert operations.\n",
    "small_list = []\n",
    "\n",
    "pr = cProfile.Profile()\n",
    "pr.enable()\n",
    "for i in range(10000):\n",
    "    small_list.insert(0,1)\n",
    "pr.disable()\n",
    "pr.print_stats()"
   ]
  },
  {
   "cell_type": "code",
   "execution_count": 17,
   "id": "0c250bc6",
   "metadata": {},
   "outputs": [
    {
     "name": "stdout",
     "output_type": "stream",
     "text": [
      "         20045 function calls in 0.162 seconds\n",
      "\n",
      "   Ordered by: standard name\n",
      "\n",
      "   ncalls  tottime  percall  cumtime  percall filename:lineno(function)\n",
      "        1    0.011    0.011    0.162    0.162 507546655.py:6(<module>)\n",
      "        1    0.000    0.000    0.000    0.000 507546655.py:8(<module>)\n",
      "        2    0.000    0.000    0.000    0.000 codeop.py:142(__call__)\n",
      "        4    0.000    0.000    0.000    0.000 compilerop.py:166(extra_flags)\n",
      "        2    0.000    0.000    0.000    0.000 contextlib.py:114(__enter__)\n",
      "        2    0.000    0.000    0.000    0.000 contextlib.py:123(__exit__)\n",
      "        2    0.000    0.000    0.000    0.000 contextlib.py:261(helper)\n",
      "        2    0.000    0.000    0.000    0.000 contextlib.py:86(__init__)\n",
      "        2    0.000    0.000    0.000    0.000 hooks.py:103(__call__)\n",
      "        2    0.000    0.000    0.000    0.000 hooks.py:168(pre_run_code_hook)\n",
      "        2    0.000    0.000    0.000    0.000 interactiveshell.py:1286(user_global_ns)\n",
      "        2    0.000    0.000    0.000    0.000 interactiveshell.py:3354(compare)\n",
      "        2    0.000    0.000    0.162    0.081 interactiveshell.py:3416(run_code)\n",
      "        2    0.000    0.000    0.000    0.000 ipstruct.py:125(__getattr__)\n",
      "        2    0.000    0.000    0.000    0.000 traitlets.py:535(get)\n",
      "        2    0.000    0.000    0.000    0.000 traitlets.py:566(__get__)\n",
      "        2    0.000    0.000    0.000    0.000 {built-in method builtins.compile}\n",
      "        2    0.000    0.000    0.162    0.081 {built-in method builtins.exec}\n",
      "        4    0.000    0.000    0.000    0.000 {built-in method builtins.getattr}\n",
      "        4    0.000    0.000    0.000    0.000 {built-in method builtins.next}\n",
      "        1    0.000    0.000    0.000    0.000 {method 'disable' of '_lsprof.Profiler' objects}\n",
      "    20000    0.151    0.000    0.151    0.000 {method 'insert' of 'list' objects}\n",
      "\n",
      "\n"
     ]
    }
   ],
   "source": [
    "# Testing insert method with 20000 insert operations.\n",
    "small_list = []\n",
    "\n",
    "pr = cProfile.Profile()\n",
    "pr.enable()\n",
    "for i in range(20000):\n",
    "    small_list.insert(0,1)\n",
    "pr.disable()\n",
    "pr.print_stats()"
   ]
  },
  {
   "cell_type": "code",
   "execution_count": 18,
   "id": "6178329d",
   "metadata": {},
   "outputs": [
    {
     "name": "stdout",
     "output_type": "stream",
     "text": [
      "         30045 function calls in 0.319 seconds\n",
      "\n",
      "   Ordered by: standard name\n",
      "\n",
      "   ncalls  tottime  percall  cumtime  percall filename:lineno(function)\n",
      "        1    0.012    0.012    0.319    0.319 1359766985.py:6(<module>)\n",
      "        1    0.000    0.000    0.000    0.000 1359766985.py:8(<module>)\n",
      "        2    0.000    0.000    0.000    0.000 codeop.py:142(__call__)\n",
      "        4    0.000    0.000    0.000    0.000 compilerop.py:166(extra_flags)\n",
      "        2    0.000    0.000    0.000    0.000 contextlib.py:114(__enter__)\n",
      "        2    0.000    0.000    0.000    0.000 contextlib.py:123(__exit__)\n",
      "        2    0.000    0.000    0.000    0.000 contextlib.py:261(helper)\n",
      "        2    0.000    0.000    0.000    0.000 contextlib.py:86(__init__)\n",
      "        2    0.000    0.000    0.000    0.000 hooks.py:103(__call__)\n",
      "        2    0.000    0.000    0.000    0.000 hooks.py:168(pre_run_code_hook)\n",
      "        2    0.000    0.000    0.000    0.000 interactiveshell.py:1286(user_global_ns)\n",
      "        2    0.000    0.000    0.000    0.000 interactiveshell.py:3354(compare)\n",
      "        2    0.000    0.000    0.319    0.160 interactiveshell.py:3416(run_code)\n",
      "        2    0.000    0.000    0.000    0.000 ipstruct.py:125(__getattr__)\n",
      "        2    0.000    0.000    0.000    0.000 traitlets.py:535(get)\n",
      "        2    0.000    0.000    0.000    0.000 traitlets.py:566(__get__)\n",
      "        2    0.000    0.000    0.000    0.000 {built-in method builtins.compile}\n",
      "        2    0.000    0.000    0.319    0.160 {built-in method builtins.exec}\n",
      "        4    0.000    0.000    0.000    0.000 {built-in method builtins.getattr}\n",
      "        4    0.000    0.000    0.000    0.000 {built-in method builtins.next}\n",
      "        1    0.000    0.000    0.000    0.000 {method 'disable' of '_lsprof.Profiler' objects}\n",
      "    30000    0.307    0.000    0.307    0.000 {method 'insert' of 'list' objects}\n",
      "\n",
      "\n"
     ]
    }
   ],
   "source": [
    "# Testing insert method with 30000 insert operations.\n",
    "small_list = []\n",
    "\n",
    "pr = cProfile.Profile()\n",
    "pr.enable()\n",
    "for i in range(30000):\n",
    "    small_list.insert(0,1)\n",
    "pr.disable()\n",
    "pr.print_stats()"
   ]
  },
  {
   "cell_type": "markdown",
   "id": "a27b946b",
   "metadata": {},
   "source": [
    "## Double Ended Queue (Deque)\n",
    "\n",
    "#### In Python, deques are implemented as doubly linked lists"
   ]
  },
  {
   "cell_type": "code",
   "execution_count": 4,
   "id": "3271c621",
   "metadata": {},
   "outputs": [],
   "source": [
    "from collections import deque"
   ]
  },
  {
   "cell_type": "code",
   "execution_count": 5,
   "id": "6778b3f4",
   "metadata": {
    "scrolled": false
   },
   "outputs": [
    {
     "name": "stdout",
     "output_type": "stream",
     "text": [
      "         10045 function calls in 0.003 seconds\n",
      "\n",
      "   Ordered by: standard name\n",
      "\n",
      "   ncalls  tottime  percall  cumtime  percall filename:lineno(function)\n",
      "        1    0.002    0.002    0.003    0.003 834999483.py:5(<module>)\n",
      "        1    0.000    0.000    0.000    0.000 834999483.py:7(<module>)\n",
      "        2    0.000    0.000    0.000    0.000 codeop.py:142(__call__)\n",
      "        4    0.000    0.000    0.000    0.000 compilerop.py:166(extra_flags)\n",
      "        2    0.000    0.000    0.000    0.000 contextlib.py:114(__enter__)\n",
      "        2    0.000    0.000    0.000    0.000 contextlib.py:123(__exit__)\n",
      "        2    0.000    0.000    0.000    0.000 contextlib.py:261(helper)\n",
      "        2    0.000    0.000    0.000    0.000 contextlib.py:86(__init__)\n",
      "        2    0.000    0.000    0.000    0.000 hooks.py:103(__call__)\n",
      "        2    0.000    0.000    0.000    0.000 hooks.py:168(pre_run_code_hook)\n",
      "        2    0.000    0.000    0.000    0.000 interactiveshell.py:1286(user_global_ns)\n",
      "        2    0.000    0.000    0.000    0.000 interactiveshell.py:3354(compare)\n",
      "        2    0.000    0.000    0.003    0.002 interactiveshell.py:3416(run_code)\n",
      "        2    0.000    0.000    0.000    0.000 ipstruct.py:125(__getattr__)\n",
      "        2    0.000    0.000    0.000    0.000 traitlets.py:535(get)\n",
      "        2    0.000    0.000    0.000    0.000 traitlets.py:566(__get__)\n",
      "        2    0.000    0.000    0.000    0.000 {built-in method builtins.compile}\n",
      "        2    0.000    0.000    0.003    0.002 {built-in method builtins.exec}\n",
      "        4    0.000    0.000    0.000    0.000 {built-in method builtins.getattr}\n",
      "        4    0.000    0.000    0.000    0.000 {built-in method builtins.next}\n",
      "        1    0.000    0.000    0.000    0.000 {method 'disable' of '_lsprof.Profiler' objects}\n",
      "    10000    0.001    0.000    0.001    0.000 {method 'pop' of 'collections.deque' objects}\n",
      "\n",
      "\n"
     ]
    }
   ],
   "source": [
    "new_deque = deque(range(1000000))\n",
    "# Testing deque.pop method with 10000 pop operations.\n",
    "pr = cProfile.Profile()\n",
    "pr.enable()\n",
    "for i in range(10000):\n",
    "    new_deque.pop()\n",
    "pr.disable()\n",
    "pr.print_stats()"
   ]
  },
  {
   "cell_type": "code",
   "execution_count": 9,
   "id": "47458edc",
   "metadata": {
    "scrolled": false
   },
   "outputs": [
    {
     "name": "stdout",
     "output_type": "stream",
     "text": [
      "         20045 function calls in 0.010 seconds\n",
      "\n",
      "   Ordered by: standard name\n",
      "\n",
      "   ncalls  tottime  percall  cumtime  percall filename:lineno(function)\n",
      "        1    0.007    0.007    0.010    0.010 791852892.py:5(<module>)\n",
      "        1    0.000    0.000    0.000    0.000 791852892.py:7(<module>)\n",
      "        2    0.000    0.000    0.000    0.000 codeop.py:142(__call__)\n",
      "        4    0.000    0.000    0.000    0.000 compilerop.py:166(extra_flags)\n",
      "        2    0.000    0.000    0.000    0.000 contextlib.py:114(__enter__)\n",
      "        2    0.000    0.000    0.000    0.000 contextlib.py:123(__exit__)\n",
      "        2    0.000    0.000    0.000    0.000 contextlib.py:261(helper)\n",
      "        2    0.000    0.000    0.000    0.000 contextlib.py:86(__init__)\n",
      "        2    0.000    0.000    0.000    0.000 hooks.py:103(__call__)\n",
      "        2    0.000    0.000    0.000    0.000 hooks.py:168(pre_run_code_hook)\n",
      "        2    0.000    0.000    0.000    0.000 interactiveshell.py:1286(user_global_ns)\n",
      "        2    0.000    0.000    0.000    0.000 interactiveshell.py:3354(compare)\n",
      "        2    0.000    0.000    0.010    0.005 interactiveshell.py:3416(run_code)\n",
      "        2    0.000    0.000    0.000    0.000 ipstruct.py:125(__getattr__)\n",
      "        2    0.000    0.000    0.000    0.000 traitlets.py:535(get)\n",
      "        2    0.000    0.000    0.000    0.000 traitlets.py:566(__get__)\n",
      "        2    0.000    0.000    0.000    0.000 {built-in method builtins.compile}\n",
      "        2    0.000    0.000    0.010    0.005 {built-in method builtins.exec}\n",
      "        4    0.000    0.000    0.000    0.000 {built-in method builtins.getattr}\n",
      "        4    0.000    0.000    0.000    0.000 {built-in method builtins.next}\n",
      "        1    0.000    0.000    0.000    0.000 {method 'disable' of '_lsprof.Profiler' objects}\n",
      "    20000    0.003    0.000    0.003    0.000 {method 'pop' of 'collections.deque' objects}\n",
      "\n",
      "\n"
     ]
    }
   ],
   "source": [
    "new_deque = deque(range(1000000))\n",
    "# Testing deque.pop method with 20000 pop operations.\n",
    "pr = cProfile.Profile()\n",
    "pr.enable()\n",
    "for i in range(20000):\n",
    "    new_deque.pop()\n",
    "pr.disable()\n",
    "pr.print_stats()"
   ]
  },
  {
   "cell_type": "code",
   "execution_count": 10,
   "id": "cf66b816",
   "metadata": {},
   "outputs": [
    {
     "name": "stdout",
     "output_type": "stream",
     "text": [
      "         30045 function calls in 0.022 seconds\n",
      "\n",
      "   Ordered by: standard name\n",
      "\n",
      "   ncalls  tottime  percall  cumtime  percall filename:lineno(function)\n",
      "        1    0.018    0.018    0.021    0.021 135858254.py:5(<module>)\n",
      "        1    0.000    0.000    0.000    0.000 135858254.py:7(<module>)\n",
      "        2    0.000    0.000    0.000    0.000 codeop.py:142(__call__)\n",
      "        4    0.000    0.000    0.000    0.000 compilerop.py:166(extra_flags)\n",
      "        2    0.000    0.000    0.000    0.000 contextlib.py:114(__enter__)\n",
      "        2    0.000    0.000    0.000    0.000 contextlib.py:123(__exit__)\n",
      "        2    0.000    0.000    0.000    0.000 contextlib.py:261(helper)\n",
      "        2    0.000    0.000    0.000    0.000 contextlib.py:86(__init__)\n",
      "        2    0.000    0.000    0.000    0.000 hooks.py:103(__call__)\n",
      "        2    0.000    0.000    0.000    0.000 hooks.py:168(pre_run_code_hook)\n",
      "        2    0.000    0.000    0.000    0.000 interactiveshell.py:1286(user_global_ns)\n",
      "        2    0.000    0.000    0.000    0.000 interactiveshell.py:3354(compare)\n",
      "        2    0.000    0.000    0.022    0.011 interactiveshell.py:3416(run_code)\n",
      "        2    0.000    0.000    0.000    0.000 ipstruct.py:125(__getattr__)\n",
      "        2    0.000    0.000    0.000    0.000 traitlets.py:535(get)\n",
      "        2    0.000    0.000    0.000    0.000 traitlets.py:566(__get__)\n",
      "        2    0.000    0.000    0.000    0.000 {built-in method builtins.compile}\n",
      "        2    0.000    0.000    0.022    0.011 {built-in method builtins.exec}\n",
      "        4    0.000    0.000    0.000    0.000 {built-in method builtins.getattr}\n",
      "        4    0.000    0.000    0.000    0.000 {built-in method builtins.next}\n",
      "        1    0.000    0.000    0.000    0.000 {method 'disable' of '_lsprof.Profiler' objects}\n",
      "    30000    0.003    0.000    0.003    0.000 {method 'pop' of 'collections.deque' objects}\n",
      "\n",
      "\n"
     ]
    }
   ],
   "source": [
    "new_deque = deque(range(1000000))\n",
    "# Testing deque.pop method with 30000 pop operations.\n",
    "pr = cProfile.Profile()\n",
    "pr.enable()\n",
    "for i in range(30000):\n",
    "    new_deque.pop()\n",
    "pr.disable()\n",
    "pr.print_stats()"
   ]
  },
  {
   "cell_type": "code",
   "execution_count": 15,
   "id": "976b9b9c",
   "metadata": {
    "scrolled": false
   },
   "outputs": [
    {
     "name": "stdout",
     "output_type": "stream",
     "text": [
      "         10045 function calls in 0.006 seconds\n",
      "\n",
      "   Ordered by: standard name\n",
      "\n",
      "   ncalls  tottime  percall  cumtime  percall filename:lineno(function)\n",
      "        1    0.004    0.004    0.006    0.006 3424124900.py:6(<module>)\n",
      "        1    0.000    0.000    0.000    0.000 3424124900.py:8(<module>)\n",
      "        2    0.000    0.000    0.000    0.000 codeop.py:142(__call__)\n",
      "        4    0.000    0.000    0.000    0.000 compilerop.py:166(extra_flags)\n",
      "        2    0.000    0.000    0.000    0.000 contextlib.py:114(__enter__)\n",
      "        2    0.000    0.000    0.000    0.000 contextlib.py:123(__exit__)\n",
      "        2    0.000    0.000    0.000    0.000 contextlib.py:261(helper)\n",
      "        2    0.000    0.000    0.000    0.000 contextlib.py:86(__init__)\n",
      "        2    0.000    0.000    0.000    0.000 hooks.py:103(__call__)\n",
      "        2    0.000    0.000    0.000    0.000 hooks.py:168(pre_run_code_hook)\n",
      "        2    0.000    0.000    0.000    0.000 interactiveshell.py:1286(user_global_ns)\n",
      "        2    0.000    0.000    0.000    0.000 interactiveshell.py:3354(compare)\n",
      "        2    0.000    0.000    0.006    0.003 interactiveshell.py:3416(run_code)\n",
      "        2    0.000    0.000    0.000    0.000 ipstruct.py:125(__getattr__)\n",
      "        2    0.000    0.000    0.000    0.000 traitlets.py:535(get)\n",
      "        2    0.000    0.000    0.000    0.000 traitlets.py:566(__get__)\n",
      "        2    0.000    0.000    0.000    0.000 {built-in method builtins.compile}\n",
      "        2    0.000    0.000    0.006    0.003 {built-in method builtins.exec}\n",
      "        4    0.000    0.000    0.000    0.000 {built-in method builtins.getattr}\n",
      "        4    0.000    0.000    0.000    0.000 {built-in method builtins.next}\n",
      "        1    0.000    0.000    0.000    0.000 {method 'disable' of '_lsprof.Profiler' objects}\n",
      "    10000    0.001    0.000    0.001    0.000 {method 'popleft' of 'collections.deque' objects}\n",
      "\n",
      "\n"
     ]
    }
   ],
   "source": [
    "new_deque = deque(range(1000000))\n",
    "\n",
    "# Testing deque.popleft method with 10000 popleft operations.\n",
    "pr = cProfile.Profile()\n",
    "pr.enable()\n",
    "for i in range(10000):\n",
    "    new_deque.popleft()\n",
    "pr.disable()\n",
    "pr.print_stats()"
   ]
  },
  {
   "cell_type": "code",
   "execution_count": 16,
   "id": "e230624c",
   "metadata": {},
   "outputs": [
    {
     "name": "stdout",
     "output_type": "stream",
     "text": [
      "         20045 function calls in 0.006 seconds\n",
      "\n",
      "   Ordered by: standard name\n",
      "\n",
      "   ncalls  tottime  percall  cumtime  percall filename:lineno(function)\n",
      "        1    0.004    0.004    0.006    0.006 3863364116.py:6(<module>)\n",
      "        1    0.000    0.000    0.000    0.000 3863364116.py:8(<module>)\n",
      "        2    0.000    0.000    0.000    0.000 codeop.py:142(__call__)\n",
      "        4    0.000    0.000    0.000    0.000 compilerop.py:166(extra_flags)\n",
      "        2    0.000    0.000    0.000    0.000 contextlib.py:114(__enter__)\n",
      "        2    0.000    0.000    0.000    0.000 contextlib.py:123(__exit__)\n",
      "        2    0.000    0.000    0.000    0.000 contextlib.py:261(helper)\n",
      "        2    0.000    0.000    0.000    0.000 contextlib.py:86(__init__)\n",
      "        2    0.000    0.000    0.000    0.000 hooks.py:103(__call__)\n",
      "        2    0.000    0.000    0.000    0.000 hooks.py:168(pre_run_code_hook)\n",
      "        2    0.000    0.000    0.000    0.000 interactiveshell.py:1286(user_global_ns)\n",
      "        2    0.000    0.000    0.000    0.000 interactiveshell.py:3354(compare)\n",
      "        2    0.000    0.000    0.006    0.003 interactiveshell.py:3416(run_code)\n",
      "        2    0.000    0.000    0.000    0.000 ipstruct.py:125(__getattr__)\n",
      "        2    0.000    0.000    0.000    0.000 traitlets.py:535(get)\n",
      "        2    0.000    0.000    0.000    0.000 traitlets.py:566(__get__)\n",
      "        2    0.000    0.000    0.000    0.000 {built-in method builtins.compile}\n",
      "        2    0.000    0.000    0.006    0.003 {built-in method builtins.exec}\n",
      "        4    0.000    0.000    0.000    0.000 {built-in method builtins.getattr}\n",
      "        4    0.000    0.000    0.000    0.000 {built-in method builtins.next}\n",
      "        1    0.000    0.000    0.000    0.000 {method 'disable' of '_lsprof.Profiler' objects}\n",
      "    20000    0.002    0.000    0.002    0.000 {method 'popleft' of 'collections.deque' objects}\n",
      "\n",
      "\n"
     ]
    }
   ],
   "source": [
    "new_deque = deque(range(1000000))\n",
    "\n",
    "# Testing deque.popleft method with 20000 popleft operations.\n",
    "pr = cProfile.Profile()\n",
    "pr.enable()\n",
    "for i in range(20000):\n",
    "    new_deque.popleft()\n",
    "pr.disable()\n",
    "pr.print_stats()"
   ]
  },
  {
   "cell_type": "code",
   "execution_count": 17,
   "id": "2caa9227",
   "metadata": {},
   "outputs": [
    {
     "name": "stdout",
     "output_type": "stream",
     "text": [
      "         30045 function calls in 0.012 seconds\n",
      "\n",
      "   Ordered by: standard name\n",
      "\n",
      "   ncalls  tottime  percall  cumtime  percall filename:lineno(function)\n",
      "        1    0.009    0.009    0.012    0.012 901457816.py:6(<module>)\n",
      "        1    0.000    0.000    0.000    0.000 901457816.py:8(<module>)\n",
      "        2    0.000    0.000    0.000    0.000 codeop.py:142(__call__)\n",
      "        4    0.000    0.000    0.000    0.000 compilerop.py:166(extra_flags)\n",
      "        2    0.000    0.000    0.000    0.000 contextlib.py:114(__enter__)\n",
      "        2    0.000    0.000    0.000    0.000 contextlib.py:123(__exit__)\n",
      "        2    0.000    0.000    0.000    0.000 contextlib.py:261(helper)\n",
      "        2    0.000    0.000    0.000    0.000 contextlib.py:86(__init__)\n",
      "        2    0.000    0.000    0.000    0.000 hooks.py:103(__call__)\n",
      "        2    0.000    0.000    0.000    0.000 hooks.py:168(pre_run_code_hook)\n",
      "        2    0.000    0.000    0.000    0.000 interactiveshell.py:1286(user_global_ns)\n",
      "        2    0.000    0.000    0.000    0.000 interactiveshell.py:3354(compare)\n",
      "        2    0.000    0.000    0.012    0.006 interactiveshell.py:3416(run_code)\n",
      "        2    0.000    0.000    0.000    0.000 ipstruct.py:125(__getattr__)\n",
      "        2    0.000    0.000    0.000    0.000 traitlets.py:535(get)\n",
      "        2    0.000    0.000    0.000    0.000 traitlets.py:566(__get__)\n",
      "        2    0.000    0.000    0.000    0.000 {built-in method builtins.compile}\n",
      "        2    0.000    0.000    0.012    0.006 {built-in method builtins.exec}\n",
      "        4    0.000    0.000    0.000    0.000 {built-in method builtins.getattr}\n",
      "        4    0.000    0.000    0.000    0.000 {built-in method builtins.next}\n",
      "        1    0.000    0.000    0.000    0.000 {method 'disable' of '_lsprof.Profiler' objects}\n",
      "    30000    0.003    0.000    0.003    0.000 {method 'popleft' of 'collections.deque' objects}\n",
      "\n",
      "\n"
     ]
    }
   ],
   "source": [
    "new_deque = deque(range(1000000))\n",
    "\n",
    "# Testing deque.pop method with 30000 popleft operations.\n",
    "pr = cProfile.Profile()\n",
    "pr.enable()\n",
    "for i in range(30000):\n",
    "    new_deque.popleft()\n",
    "pr.disable()\n",
    "pr.print_stats()"
   ]
  },
  {
   "cell_type": "code",
   "execution_count": 18,
   "id": "dcbbf8e3",
   "metadata": {
    "scrolled": false
   },
   "outputs": [
    {
     "name": "stdout",
     "output_type": "stream",
     "text": [
      "         10045 function calls in 0.003 seconds\n",
      "\n",
      "   Ordered by: standard name\n",
      "\n",
      "   ncalls  tottime  percall  cumtime  percall filename:lineno(function)\n",
      "        1    0.002    0.002    0.003    0.003 115698592.py:5(<module>)\n",
      "        1    0.000    0.000    0.000    0.000 115698592.py:7(<module>)\n",
      "        2    0.000    0.000    0.000    0.000 codeop.py:142(__call__)\n",
      "        4    0.000    0.000    0.000    0.000 compilerop.py:166(extra_flags)\n",
      "        2    0.000    0.000    0.000    0.000 contextlib.py:114(__enter__)\n",
      "        2    0.000    0.000    0.000    0.000 contextlib.py:123(__exit__)\n",
      "        2    0.000    0.000    0.000    0.000 contextlib.py:261(helper)\n",
      "        2    0.000    0.000    0.000    0.000 contextlib.py:86(__init__)\n",
      "        2    0.000    0.000    0.000    0.000 hooks.py:103(__call__)\n",
      "        2    0.000    0.000    0.000    0.000 hooks.py:168(pre_run_code_hook)\n",
      "        2    0.000    0.000    0.000    0.000 interactiveshell.py:1286(user_global_ns)\n",
      "        2    0.000    0.000    0.000    0.000 interactiveshell.py:3354(compare)\n",
      "        2    0.000    0.000    0.003    0.002 interactiveshell.py:3416(run_code)\n",
      "        2    0.000    0.000    0.000    0.000 ipstruct.py:125(__getattr__)\n",
      "        2    0.000    0.000    0.000    0.000 traitlets.py:535(get)\n",
      "        2    0.000    0.000    0.000    0.000 traitlets.py:566(__get__)\n",
      "        2    0.000    0.000    0.000    0.000 {built-in method builtins.compile}\n",
      "        2    0.000    0.000    0.003    0.002 {built-in method builtins.exec}\n",
      "        4    0.000    0.000    0.000    0.000 {built-in method builtins.getattr}\n",
      "        4    0.000    0.000    0.000    0.000 {built-in method builtins.next}\n",
      "    10000    0.001    0.000    0.001    0.000 {method 'append' of 'collections.deque' objects}\n",
      "        1    0.000    0.000    0.000    0.000 {method 'disable' of '_lsprof.Profiler' objects}\n",
      "\n",
      "\n"
     ]
    }
   ],
   "source": [
    "new_deque = deque([])\n",
    "# Testing deque.append method with 10000 append operations.\n",
    "pr = cProfile.Profile()\n",
    "pr.enable()\n",
    "for i in range(10000):\n",
    "    new_deque.append(1)\n",
    "pr.disable()\n",
    "pr.print_stats()"
   ]
  },
  {
   "cell_type": "code",
   "execution_count": 19,
   "id": "3217bff5",
   "metadata": {
    "scrolled": true
   },
   "outputs": [
    {
     "name": "stdout",
     "output_type": "stream",
     "text": [
      "         20045 function calls in 0.008 seconds\n",
      "\n",
      "   Ordered by: standard name\n",
      "\n",
      "   ncalls  tottime  percall  cumtime  percall filename:lineno(function)\n",
      "        1    0.005    0.005    0.008    0.008 1349761314.py:5(<module>)\n",
      "        1    0.000    0.000    0.000    0.000 1349761314.py:7(<module>)\n",
      "        2    0.000    0.000    0.000    0.000 codeop.py:142(__call__)\n",
      "        4    0.000    0.000    0.000    0.000 compilerop.py:166(extra_flags)\n",
      "        2    0.000    0.000    0.000    0.000 contextlib.py:114(__enter__)\n",
      "        2    0.000    0.000    0.000    0.000 contextlib.py:123(__exit__)\n",
      "        2    0.000    0.000    0.000    0.000 contextlib.py:261(helper)\n",
      "        2    0.000    0.000    0.000    0.000 contextlib.py:86(__init__)\n",
      "        2    0.000    0.000    0.000    0.000 hooks.py:103(__call__)\n",
      "        2    0.000    0.000    0.000    0.000 hooks.py:168(pre_run_code_hook)\n",
      "        2    0.000    0.000    0.000    0.000 interactiveshell.py:1286(user_global_ns)\n",
      "        2    0.000    0.000    0.000    0.000 interactiveshell.py:3354(compare)\n",
      "        2    0.000    0.000    0.008    0.004 interactiveshell.py:3416(run_code)\n",
      "        2    0.000    0.000    0.000    0.000 ipstruct.py:125(__getattr__)\n",
      "        2    0.000    0.000    0.000    0.000 traitlets.py:535(get)\n",
      "        2    0.000    0.000    0.000    0.000 traitlets.py:566(__get__)\n",
      "        2    0.000    0.000    0.000    0.000 {built-in method builtins.compile}\n",
      "        2    0.000    0.000    0.008    0.004 {built-in method builtins.exec}\n",
      "        4    0.000    0.000    0.000    0.000 {built-in method builtins.getattr}\n",
      "        4    0.000    0.000    0.000    0.000 {built-in method builtins.next}\n",
      "    20000    0.002    0.000    0.002    0.000 {method 'append' of 'collections.deque' objects}\n",
      "        1    0.000    0.000    0.000    0.000 {method 'disable' of '_lsprof.Profiler' objects}\n",
      "\n",
      "\n"
     ]
    }
   ],
   "source": [
    "new_deque = deque([])\n",
    "# Testing deque.append method with 20000 append operations.\n",
    "pr = cProfile.Profile()\n",
    "pr.enable()\n",
    "for i in range(20000):\n",
    "    new_deque.append(1)\n",
    "pr.disable()\n",
    "pr.print_stats()"
   ]
  },
  {
   "cell_type": "code",
   "execution_count": 20,
   "id": "19c4f93d",
   "metadata": {},
   "outputs": [
    {
     "name": "stdout",
     "output_type": "stream",
     "text": [
      "         30045 function calls in 0.015 seconds\n",
      "\n",
      "   Ordered by: standard name\n",
      "\n",
      "   ncalls  tottime  percall  cumtime  percall filename:lineno(function)\n",
      "        1    0.011    0.011    0.014    0.014 4183592574.py:6(<module>)\n",
      "        1    0.000    0.000    0.000    0.000 4183592574.py:8(<module>)\n",
      "        2    0.000    0.000    0.000    0.000 codeop.py:142(__call__)\n",
      "        4    0.000    0.000    0.000    0.000 compilerop.py:166(extra_flags)\n",
      "        2    0.000    0.000    0.000    0.000 contextlib.py:114(__enter__)\n",
      "        2    0.000    0.000    0.000    0.000 contextlib.py:123(__exit__)\n",
      "        2    0.000    0.000    0.000    0.000 contextlib.py:261(helper)\n",
      "        2    0.000    0.000    0.000    0.000 contextlib.py:86(__init__)\n",
      "        2    0.000    0.000    0.000    0.000 hooks.py:103(__call__)\n",
      "        2    0.000    0.000    0.000    0.000 hooks.py:168(pre_run_code_hook)\n",
      "        2    0.000    0.000    0.000    0.000 interactiveshell.py:1286(user_global_ns)\n",
      "        2    0.000    0.000    0.000    0.000 interactiveshell.py:3354(compare)\n",
      "        2    0.000    0.000    0.014    0.007 interactiveshell.py:3416(run_code)\n",
      "        2    0.000    0.000    0.000    0.000 ipstruct.py:125(__getattr__)\n",
      "        2    0.000    0.000    0.000    0.000 traitlets.py:535(get)\n",
      "        2    0.000    0.000    0.000    0.000 traitlets.py:566(__get__)\n",
      "        2    0.000    0.000    0.000    0.000 {built-in method builtins.compile}\n",
      "        2    0.000    0.000    0.014    0.007 {built-in method builtins.exec}\n",
      "        4    0.000    0.000    0.000    0.000 {built-in method builtins.getattr}\n",
      "        4    0.000    0.000    0.000    0.000 {built-in method builtins.next}\n",
      "    30000    0.004    0.000    0.004    0.000 {method 'append' of 'collections.deque' objects}\n",
      "        1    0.000    0.000    0.000    0.000 {method 'disable' of '_lsprof.Profiler' objects}\n",
      "\n",
      "\n"
     ]
    }
   ],
   "source": [
    "new_deque = deque([])\n",
    "\n",
    "# Testing deque.append method with 30000 append operations.\n",
    "pr = cProfile.Profile()\n",
    "pr.enable()\n",
    "for i in range(30000):\n",
    "    new_deque.append(1)\n",
    "pr.disable()\n",
    "pr.print_stats()"
   ]
  },
  {
   "cell_type": "code",
   "execution_count": 21,
   "id": "1467a7da",
   "metadata": {},
   "outputs": [
    {
     "name": "stdout",
     "output_type": "stream",
     "text": [
      "         10045 function calls in 0.004 seconds\n",
      "\n",
      "   Ordered by: standard name\n",
      "\n",
      "   ncalls  tottime  percall  cumtime  percall filename:lineno(function)\n",
      "        1    0.003    0.003    0.004    0.004 4174064515.py:6(<module>)\n",
      "        1    0.000    0.000    0.000    0.000 4174064515.py:8(<module>)\n",
      "        2    0.000    0.000    0.000    0.000 codeop.py:142(__call__)\n",
      "        4    0.000    0.000    0.000    0.000 compilerop.py:166(extra_flags)\n",
      "        2    0.000    0.000    0.000    0.000 contextlib.py:114(__enter__)\n",
      "        2    0.000    0.000    0.000    0.000 contextlib.py:123(__exit__)\n",
      "        2    0.000    0.000    0.000    0.000 contextlib.py:261(helper)\n",
      "        2    0.000    0.000    0.000    0.000 contextlib.py:86(__init__)\n",
      "        2    0.000    0.000    0.000    0.000 hooks.py:103(__call__)\n",
      "        2    0.000    0.000    0.000    0.000 hooks.py:168(pre_run_code_hook)\n",
      "        2    0.000    0.000    0.000    0.000 interactiveshell.py:1286(user_global_ns)\n",
      "        2    0.000    0.000    0.000    0.000 interactiveshell.py:3354(compare)\n",
      "        2    0.000    0.000    0.004    0.002 interactiveshell.py:3416(run_code)\n",
      "        2    0.000    0.000    0.000    0.000 ipstruct.py:125(__getattr__)\n",
      "        2    0.000    0.000    0.000    0.000 traitlets.py:535(get)\n",
      "        2    0.000    0.000    0.000    0.000 traitlets.py:566(__get__)\n",
      "        2    0.000    0.000    0.000    0.000 {built-in method builtins.compile}\n",
      "        2    0.000    0.000    0.004    0.002 {built-in method builtins.exec}\n",
      "        4    0.000    0.000    0.000    0.000 {built-in method builtins.getattr}\n",
      "        4    0.000    0.000    0.000    0.000 {built-in method builtins.next}\n",
      "    10000    0.001    0.000    0.001    0.000 {method 'appendleft' of 'collections.deque' objects}\n",
      "        1    0.000    0.000    0.000    0.000 {method 'disable' of '_lsprof.Profiler' objects}\n",
      "\n",
      "\n"
     ]
    }
   ],
   "source": [
    "new_deque = deque([])\n",
    "\n",
    "# Testing deque.appendleft method with 10000 appendleft operations.\n",
    "pr = cProfile.Profile()\n",
    "pr.enable()\n",
    "for i in range(10000):\n",
    "    new_deque.appendleft(1)\n",
    "pr.disable()\n",
    "pr.print_stats()"
   ]
  },
  {
   "cell_type": "code",
   "execution_count": 22,
   "id": "a2de9208",
   "metadata": {},
   "outputs": [
    {
     "name": "stdout",
     "output_type": "stream",
     "text": [
      "         20045 function calls in 0.009 seconds\n",
      "\n",
      "   Ordered by: standard name\n",
      "\n",
      "   ncalls  tottime  percall  cumtime  percall filename:lineno(function)\n",
      "        1    0.007    0.007    0.009    0.009 2578971120.py:6(<module>)\n",
      "        1    0.000    0.000    0.000    0.000 2578971120.py:8(<module>)\n",
      "        2    0.000    0.000    0.000    0.000 codeop.py:142(__call__)\n",
      "        4    0.000    0.000    0.000    0.000 compilerop.py:166(extra_flags)\n",
      "        2    0.000    0.000    0.000    0.000 contextlib.py:114(__enter__)\n",
      "        2    0.000    0.000    0.000    0.000 contextlib.py:123(__exit__)\n",
      "        2    0.000    0.000    0.000    0.000 contextlib.py:261(helper)\n",
      "        2    0.000    0.000    0.000    0.000 contextlib.py:86(__init__)\n",
      "        2    0.000    0.000    0.000    0.000 hooks.py:103(__call__)\n",
      "        2    0.000    0.000    0.000    0.000 hooks.py:168(pre_run_code_hook)\n",
      "        2    0.000    0.000    0.000    0.000 interactiveshell.py:1286(user_global_ns)\n",
      "        2    0.000    0.000    0.000    0.000 interactiveshell.py:3354(compare)\n",
      "        2    0.000    0.000    0.009    0.005 interactiveshell.py:3416(run_code)\n",
      "        2    0.000    0.000    0.000    0.000 ipstruct.py:125(__getattr__)\n",
      "        2    0.000    0.000    0.000    0.000 traitlets.py:535(get)\n",
      "        2    0.000    0.000    0.000    0.000 traitlets.py:566(__get__)\n",
      "        2    0.000    0.000    0.000    0.000 {built-in method builtins.compile}\n",
      "        2    0.000    0.000    0.009    0.005 {built-in method builtins.exec}\n",
      "        4    0.000    0.000    0.000    0.000 {built-in method builtins.getattr}\n",
      "        4    0.000    0.000    0.000    0.000 {built-in method builtins.next}\n",
      "    20000    0.002    0.000    0.002    0.000 {method 'appendleft' of 'collections.deque' objects}\n",
      "        1    0.000    0.000    0.000    0.000 {method 'disable' of '_lsprof.Profiler' objects}\n",
      "\n",
      "\n"
     ]
    }
   ],
   "source": [
    "new_deque = deque([])\n",
    "\n",
    "# Testing deque.appendleft method with 20000 appendleft operations.\n",
    "pr = cProfile.Profile()\n",
    "pr.enable()\n",
    "for i in range(20000):\n",
    "    new_deque.appendleft(1)\n",
    "pr.disable()\n",
    "pr.print_stats()"
   ]
  },
  {
   "cell_type": "code",
   "execution_count": 23,
   "id": "c714b6dd",
   "metadata": {},
   "outputs": [
    {
     "name": "stdout",
     "output_type": "stream",
     "text": [
      "         30045 function calls in 0.014 seconds\n",
      "\n",
      "   Ordered by: standard name\n",
      "\n",
      "   ncalls  tottime  percall  cumtime  percall filename:lineno(function)\n",
      "        1    0.010    0.010    0.014    0.014 2485330389.py:6(<module>)\n",
      "        1    0.000    0.000    0.000    0.000 2485330389.py:8(<module>)\n",
      "        2    0.000    0.000    0.000    0.000 codeop.py:142(__call__)\n",
      "        4    0.000    0.000    0.000    0.000 compilerop.py:166(extra_flags)\n",
      "        2    0.000    0.000    0.000    0.000 contextlib.py:114(__enter__)\n",
      "        2    0.000    0.000    0.000    0.000 contextlib.py:123(__exit__)\n",
      "        2    0.000    0.000    0.000    0.000 contextlib.py:261(helper)\n",
      "        2    0.000    0.000    0.000    0.000 contextlib.py:86(__init__)\n",
      "        2    0.000    0.000    0.000    0.000 hooks.py:103(__call__)\n",
      "        2    0.000    0.000    0.000    0.000 hooks.py:168(pre_run_code_hook)\n",
      "        2    0.000    0.000    0.000    0.000 interactiveshell.py:1286(user_global_ns)\n",
      "        2    0.000    0.000    0.000    0.000 interactiveshell.py:3354(compare)\n",
      "        2    0.000    0.000    0.014    0.007 interactiveshell.py:3416(run_code)\n",
      "        2    0.000    0.000    0.000    0.000 ipstruct.py:125(__getattr__)\n",
      "        2    0.000    0.000    0.000    0.000 traitlets.py:535(get)\n",
      "        2    0.000    0.000    0.000    0.000 traitlets.py:566(__get__)\n",
      "        2    0.000    0.000    0.000    0.000 {built-in method builtins.compile}\n",
      "        2    0.000    0.000    0.014    0.007 {built-in method builtins.exec}\n",
      "        4    0.000    0.000    0.000    0.000 {built-in method builtins.getattr}\n",
      "        4    0.000    0.000    0.000    0.000 {built-in method builtins.next}\n",
      "    30000    0.004    0.000    0.004    0.000 {method 'appendleft' of 'collections.deque' objects}\n",
      "        1    0.000    0.000    0.000    0.000 {method 'disable' of '_lsprof.Profiler' objects}\n",
      "\n",
      "\n"
     ]
    }
   ],
   "source": [
    "new_deque = deque([])\n",
    "\n",
    "# Testing deque.appendleft method with 30000 appendleft operations.\n",
    "pr = cProfile.Profile()\n",
    "pr.enable()\n",
    "for i in range(30000):\n",
    "    new_deque.appendleft(1)\n",
    "pr.disable()\n",
    "pr.print_stats()"
   ]
  },
  {
   "cell_type": "markdown",
   "id": "fe575c80",
   "metadata": {},
   "source": [
    "### Using bisect for faster searches in sorted arrays"
   ]
  },
  {
   "cell_type": "code",
   "execution_count": 38,
   "id": "a5efcf97",
   "metadata": {},
   "outputs": [
    {
     "name": "stdout",
     "output_type": "stream",
     "text": [
      "         10045 function calls in 0.577 seconds\n",
      "\n",
      "   Ordered by: standard name\n",
      "\n",
      "   ncalls  tottime  percall  cumtime  percall filename:lineno(function)\n",
      "        1    0.005    0.005    0.577    0.577 3870399888.py:6(<module>)\n",
      "        1    0.000    0.000    0.000    0.000 3870399888.py:9(<module>)\n",
      "        2    0.000    0.000    0.000    0.000 codeop.py:142(__call__)\n",
      "        4    0.000    0.000    0.000    0.000 compilerop.py:166(extra_flags)\n",
      "        2    0.000    0.000    0.000    0.000 contextlib.py:114(__enter__)\n",
      "        2    0.000    0.000    0.000    0.000 contextlib.py:123(__exit__)\n",
      "        2    0.000    0.000    0.000    0.000 contextlib.py:261(helper)\n",
      "        2    0.000    0.000    0.000    0.000 contextlib.py:86(__init__)\n",
      "        2    0.000    0.000    0.000    0.000 hooks.py:103(__call__)\n",
      "        2    0.000    0.000    0.000    0.000 hooks.py:168(pre_run_code_hook)\n",
      "        2    0.000    0.000    0.000    0.000 interactiveshell.py:1286(user_global_ns)\n",
      "        2    0.000    0.000    0.000    0.000 interactiveshell.py:3354(compare)\n",
      "        2    0.000    0.000    0.577    0.289 interactiveshell.py:3416(run_code)\n",
      "        2    0.000    0.000    0.000    0.000 ipstruct.py:125(__getattr__)\n",
      "        2    0.000    0.000    0.000    0.000 traitlets.py:535(get)\n",
      "        2    0.000    0.000    0.000    0.000 traitlets.py:566(__get__)\n",
      "        2    0.000    0.000    0.000    0.000 {built-in method builtins.compile}\n",
      "        2    0.000    0.000    0.577    0.289 {built-in method builtins.exec}\n",
      "        4    0.000    0.000    0.000    0.000 {built-in method builtins.getattr}\n",
      "        4    0.000    0.000    0.000    0.000 {built-in method builtins.next}\n",
      "        1    0.000    0.000    0.000    0.000 {method 'disable' of '_lsprof.Profiler' objects}\n",
      "    10000    0.572    0.000    0.572    0.000 {method 'index' of 'list' objects}\n",
      "\n",
      "\n"
     ]
    }
   ],
   "source": [
    "new_list = list(range(1000_000))\n",
    "\n",
    "# Testing list.index with 10000 index operations\n",
    "pr = cProfile.Profile()\n",
    "pr.enable()\n",
    "for i in range(10000):\n",
    "    new_list.index(i)\n",
    "    \n",
    "pr.disable()\n",
    "pr.print_stats()"
   ]
  },
  {
   "cell_type": "code",
   "execution_count": 39,
   "id": "7dc07f82",
   "metadata": {},
   "outputs": [
    {
     "name": "stdout",
     "output_type": "stream",
     "text": [
      "         20045 function calls in 2.350 seconds\n",
      "\n",
      "   Ordered by: standard name\n",
      "\n",
      "   ncalls  tottime  percall  cumtime  percall filename:lineno(function)\n",
      "        1    0.013    0.013    2.350    2.350 738347895.py:6(<module>)\n",
      "        1    0.000    0.000    0.000    0.000 738347895.py:9(<module>)\n",
      "        2    0.000    0.000    0.000    0.000 codeop.py:142(__call__)\n",
      "        4    0.000    0.000    0.000    0.000 compilerop.py:166(extra_flags)\n",
      "        2    0.000    0.000    0.000    0.000 contextlib.py:114(__enter__)\n",
      "        2    0.000    0.000    0.000    0.000 contextlib.py:123(__exit__)\n",
      "        2    0.000    0.000    0.000    0.000 contextlib.py:261(helper)\n",
      "        2    0.000    0.000    0.000    0.000 contextlib.py:86(__init__)\n",
      "        2    0.000    0.000    0.000    0.000 hooks.py:103(__call__)\n",
      "        2    0.000    0.000    0.000    0.000 hooks.py:168(pre_run_code_hook)\n",
      "        2    0.000    0.000    0.000    0.000 interactiveshell.py:1286(user_global_ns)\n",
      "        2    0.000    0.000    0.000    0.000 interactiveshell.py:3354(compare)\n",
      "        2    0.000    0.000    2.350    1.175 interactiveshell.py:3416(run_code)\n",
      "        2    0.000    0.000    0.000    0.000 ipstruct.py:125(__getattr__)\n",
      "        2    0.000    0.000    0.000    0.000 traitlets.py:535(get)\n",
      "        2    0.000    0.000    0.000    0.000 traitlets.py:566(__get__)\n",
      "        2    0.000    0.000    0.000    0.000 {built-in method builtins.compile}\n",
      "        2    0.000    0.000    2.350    1.175 {built-in method builtins.exec}\n",
      "        4    0.000    0.000    0.000    0.000 {built-in method builtins.getattr}\n",
      "        4    0.000    0.000    0.000    0.000 {built-in method builtins.next}\n",
      "        1    0.000    0.000    0.000    0.000 {method 'disable' of '_lsprof.Profiler' objects}\n",
      "    20000    2.338    0.000    2.338    0.000 {method 'index' of 'list' objects}\n",
      "\n",
      "\n"
     ]
    }
   ],
   "source": [
    "new_list = list(range(1000_000))\n",
    "\n",
    "# Testing list.index with 20000 index operations\n",
    "pr = cProfile.Profile()\n",
    "pr.enable()\n",
    "for i in range(20000):\n",
    "    new_list.index(i)\n",
    "    \n",
    "pr.disable()\n",
    "pr.print_stats()"
   ]
  },
  {
   "cell_type": "code",
   "execution_count": 40,
   "id": "495d0c52",
   "metadata": {},
   "outputs": [
    {
     "name": "stdout",
     "output_type": "stream",
     "text": [
      "         30045 function calls in 5.540 seconds\n",
      "\n",
      "   Ordered by: standard name\n",
      "\n",
      "   ncalls  tottime  percall  cumtime  percall filename:lineno(function)\n",
      "        1    0.019    0.019    5.540    5.540 2032064209.py:6(<module>)\n",
      "        1    0.000    0.000    0.000    0.000 2032064209.py:9(<module>)\n",
      "        2    0.000    0.000    0.000    0.000 codeop.py:142(__call__)\n",
      "        4    0.000    0.000    0.000    0.000 compilerop.py:166(extra_flags)\n",
      "        2    0.000    0.000    0.000    0.000 contextlib.py:114(__enter__)\n",
      "        2    0.000    0.000    0.000    0.000 contextlib.py:123(__exit__)\n",
      "        2    0.000    0.000    0.000    0.000 contextlib.py:261(helper)\n",
      "        2    0.000    0.000    0.000    0.000 contextlib.py:86(__init__)\n",
      "        2    0.000    0.000    0.000    0.000 hooks.py:103(__call__)\n",
      "        2    0.000    0.000    0.000    0.000 hooks.py:168(pre_run_code_hook)\n",
      "        2    0.000    0.000    0.000    0.000 interactiveshell.py:1286(user_global_ns)\n",
      "        2    0.000    0.000    0.000    0.000 interactiveshell.py:3354(compare)\n",
      "        2    0.000    0.000    5.540    2.770 interactiveshell.py:3416(run_code)\n",
      "        2    0.000    0.000    0.000    0.000 ipstruct.py:125(__getattr__)\n",
      "        2    0.000    0.000    0.000    0.000 traitlets.py:535(get)\n",
      "        2    0.000    0.000    0.000    0.000 traitlets.py:566(__get__)\n",
      "        2    0.000    0.000    0.000    0.000 {built-in method builtins.compile}\n",
      "        2    0.000    0.000    5.540    2.770 {built-in method builtins.exec}\n",
      "        4    0.000    0.000    0.000    0.000 {built-in method builtins.getattr}\n",
      "        4    0.000    0.000    0.000    0.000 {built-in method builtins.next}\n",
      "        1    0.000    0.000    0.000    0.000 {method 'disable' of '_lsprof.Profiler' objects}\n",
      "    30000    5.521    0.000    5.521    0.000 {method 'index' of 'list' objects}\n",
      "\n",
      "\n"
     ]
    }
   ],
   "source": [
    "new_list = list(range(1000_000))\n",
    "\n",
    "# Testing list.index with 30000 index operations\n",
    "pr = cProfile.Profile()\n",
    "pr.enable()\n",
    "for i in range(30000):\n",
    "    new_list.index(i)\n",
    "    \n",
    "pr.disable()\n",
    "pr.print_stats()"
   ]
  },
  {
   "cell_type": "code",
   "execution_count": 44,
   "id": "e9f63b42",
   "metadata": {},
   "outputs": [],
   "source": [
    "import bisect\n",
    "\n",
    "def index_bisect(a: list, x: int) -> int:\n",
    "    i = bisect.bisect_left(a, x)\n",
    "    if i != len(a) and a[i] == x:\n",
    "        return i\n",
    "    raise ValueError"
   ]
  },
  {
   "cell_type": "code",
   "execution_count": 48,
   "id": "6a05caef",
   "metadata": {},
   "outputs": [
    {
     "name": "stdout",
     "output_type": "stream",
     "text": [
      "         10045 function calls in 0.014 seconds\n",
      "\n",
      "   Ordered by: standard name\n",
      "\n",
      "   ncalls  tottime  percall  cumtime  percall filename:lineno(function)\n",
      "        1    0.005    0.005    0.014    0.014 2767687154.py:6(<module>)\n",
      "        1    0.000    0.000    0.000    0.000 2767687154.py:9(<module>)\n",
      "        2    0.000    0.000    0.000    0.000 codeop.py:142(__call__)\n",
      "        4    0.000    0.000    0.000    0.000 compilerop.py:166(extra_flags)\n",
      "        2    0.000    0.000    0.000    0.000 contextlib.py:114(__enter__)\n",
      "        2    0.000    0.000    0.000    0.000 contextlib.py:123(__exit__)\n",
      "        2    0.000    0.000    0.000    0.000 contextlib.py:261(helper)\n",
      "        2    0.000    0.000    0.000    0.000 contextlib.py:86(__init__)\n",
      "        2    0.000    0.000    0.000    0.000 hooks.py:103(__call__)\n",
      "        2    0.000    0.000    0.000    0.000 hooks.py:168(pre_run_code_hook)\n",
      "        2    0.000    0.000    0.000    0.000 interactiveshell.py:1286(user_global_ns)\n",
      "        2    0.000    0.000    0.000    0.000 interactiveshell.py:3354(compare)\n",
      "        2    0.000    0.000    0.014    0.007 interactiveshell.py:3416(run_code)\n",
      "        2    0.000    0.000    0.000    0.000 ipstruct.py:125(__getattr__)\n",
      "        2    0.000    0.000    0.000    0.000 traitlets.py:535(get)\n",
      "        2    0.000    0.000    0.000    0.000 traitlets.py:566(__get__)\n",
      "    10000    0.009    0.000    0.009    0.000 {built-in method _bisect.bisect_left}\n",
      "        2    0.000    0.000    0.000    0.000 {built-in method builtins.compile}\n",
      "        2    0.000    0.000    0.014    0.007 {built-in method builtins.exec}\n",
      "        4    0.000    0.000    0.000    0.000 {built-in method builtins.getattr}\n",
      "        4    0.000    0.000    0.000    0.000 {built-in method builtins.next}\n",
      "        1    0.000    0.000    0.000    0.000 {method 'disable' of '_lsprof.Profiler' objects}\n",
      "\n",
      "\n"
     ]
    }
   ],
   "source": [
    "new_list = list(range(1000_000))\n",
    "\n",
    "# Testing bisect with 10000 index operations\n",
    "pr = cProfile.Profile()\n",
    "pr.enable()\n",
    "for i in range(10000):\n",
    "    bisect.bisect_left(new_list, i)\n",
    "    \n",
    "pr.disable()\n",
    "pr.print_stats()"
   ]
  },
  {
   "cell_type": "code",
   "execution_count": 49,
   "id": "f273a589",
   "metadata": {},
   "outputs": [
    {
     "name": "stdout",
     "output_type": "stream",
     "text": [
      "         20045 function calls in 0.017 seconds\n",
      "\n",
      "   Ordered by: standard name\n",
      "\n",
      "   ncalls  tottime  percall  cumtime  percall filename:lineno(function)\n",
      "        1    0.006    0.006    0.017    0.017 80086272.py:6(<module>)\n",
      "        1    0.000    0.000    0.000    0.000 80086272.py:9(<module>)\n",
      "        2    0.000    0.000    0.000    0.000 codeop.py:142(__call__)\n",
      "        4    0.000    0.000    0.000    0.000 compilerop.py:166(extra_flags)\n",
      "        2    0.000    0.000    0.000    0.000 contextlib.py:114(__enter__)\n",
      "        2    0.000    0.000    0.000    0.000 contextlib.py:123(__exit__)\n",
      "        2    0.000    0.000    0.000    0.000 contextlib.py:261(helper)\n",
      "        2    0.000    0.000    0.000    0.000 contextlib.py:86(__init__)\n",
      "        2    0.000    0.000    0.000    0.000 hooks.py:103(__call__)\n",
      "        2    0.000    0.000    0.000    0.000 hooks.py:168(pre_run_code_hook)\n",
      "        2    0.000    0.000    0.000    0.000 interactiveshell.py:1286(user_global_ns)\n",
      "        2    0.000    0.000    0.000    0.000 interactiveshell.py:3354(compare)\n",
      "        2    0.000    0.000    0.017    0.008 interactiveshell.py:3416(run_code)\n",
      "        2    0.000    0.000    0.000    0.000 ipstruct.py:125(__getattr__)\n",
      "        2    0.000    0.000    0.000    0.000 traitlets.py:535(get)\n",
      "        2    0.000    0.000    0.000    0.000 traitlets.py:566(__get__)\n",
      "    20000    0.011    0.000    0.011    0.000 {built-in method _bisect.bisect_left}\n",
      "        2    0.000    0.000    0.000    0.000 {built-in method builtins.compile}\n",
      "        2    0.000    0.000    0.017    0.008 {built-in method builtins.exec}\n",
      "        4    0.000    0.000    0.000    0.000 {built-in method builtins.getattr}\n",
      "        4    0.000    0.000    0.000    0.000 {built-in method builtins.next}\n",
      "        1    0.000    0.000    0.000    0.000 {method 'disable' of '_lsprof.Profiler' objects}\n",
      "\n",
      "\n"
     ]
    }
   ],
   "source": [
    "new_list = list(range(1000_000))\n",
    "\n",
    "# Testing bisect with 20000 index operations\n",
    "pr = cProfile.Profile()\n",
    "pr.enable()\n",
    "for i in range(20000):\n",
    "    bisect.bisect_left(new_list, i)\n",
    "    \n",
    "pr.disable()\n",
    "pr.print_stats()"
   ]
  },
  {
   "cell_type": "code",
   "execution_count": 50,
   "id": "931041ac",
   "metadata": {},
   "outputs": [
    {
     "name": "stdout",
     "output_type": "stream",
     "text": [
      "         30045 function calls in 0.026 seconds\n",
      "\n",
      "   Ordered by: standard name\n",
      "\n",
      "   ncalls  tottime  percall  cumtime  percall filename:lineno(function)\n",
      "        1    0.009    0.009    0.026    0.026 4023887231.py:6(<module>)\n",
      "        1    0.000    0.000    0.000    0.000 4023887231.py:9(<module>)\n",
      "        2    0.000    0.000    0.000    0.000 codeop.py:142(__call__)\n",
      "        4    0.000    0.000    0.000    0.000 compilerop.py:166(extra_flags)\n",
      "        2    0.000    0.000    0.000    0.000 contextlib.py:114(__enter__)\n",
      "        2    0.000    0.000    0.000    0.000 contextlib.py:123(__exit__)\n",
      "        2    0.000    0.000    0.000    0.000 contextlib.py:261(helper)\n",
      "        2    0.000    0.000    0.000    0.000 contextlib.py:86(__init__)\n",
      "        2    0.000    0.000    0.000    0.000 hooks.py:103(__call__)\n",
      "        2    0.000    0.000    0.000    0.000 hooks.py:168(pre_run_code_hook)\n",
      "        2    0.000    0.000    0.000    0.000 interactiveshell.py:1286(user_global_ns)\n",
      "        2    0.000    0.000    0.000    0.000 interactiveshell.py:3354(compare)\n",
      "        2    0.000    0.000    0.026    0.013 interactiveshell.py:3416(run_code)\n",
      "        2    0.000    0.000    0.000    0.000 ipstruct.py:125(__getattr__)\n",
      "        2    0.000    0.000    0.000    0.000 traitlets.py:535(get)\n",
      "        2    0.000    0.000    0.000    0.000 traitlets.py:566(__get__)\n",
      "    30000    0.017    0.000    0.017    0.000 {built-in method _bisect.bisect_left}\n",
      "        2    0.000    0.000    0.000    0.000 {built-in method builtins.compile}\n",
      "        2    0.000    0.000    0.026    0.013 {built-in method builtins.exec}\n",
      "        4    0.000    0.000    0.000    0.000 {built-in method builtins.getattr}\n",
      "        4    0.000    0.000    0.000    0.000 {built-in method builtins.next}\n",
      "        1    0.000    0.000    0.000    0.000 {method 'disable' of '_lsprof.Profiler' objects}\n",
      "\n",
      "\n"
     ]
    }
   ],
   "source": [
    "new_list = list(range(1000_000))\n",
    "\n",
    "# Testing bisect with 30000 index operations\n",
    "pr = cProfile.Profile()\n",
    "pr.enable()\n",
    "for i in range(30000):\n",
    "    bisect.bisect_left(new_list, i)\n",
    "    \n",
    "pr.disable()\n",
    "pr.print_stats()"
   ]
  },
  {
   "cell_type": "code",
   "execution_count": null,
   "id": "b4639a46",
   "metadata": {},
   "outputs": [],
   "source": []
  }
 ],
 "metadata": {
  "kernelspec": {
   "display_name": "Python 3 (ipykernel)",
   "language": "python",
   "name": "python3"
  },
  "language_info": {
   "codemirror_mode": {
    "name": "ipython",
    "version": 3
   },
   "file_extension": ".py",
   "mimetype": "text/x-python",
   "name": "python",
   "nbconvert_exporter": "python",
   "pygments_lexer": "ipython3",
   "version": "3.9.13"
  }
 },
 "nbformat": 4,
 "nbformat_minor": 5
}
