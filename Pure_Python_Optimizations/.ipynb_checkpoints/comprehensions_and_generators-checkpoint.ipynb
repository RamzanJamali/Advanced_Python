{
 "cells": [
  {
   "cell_type": "markdown",
   "id": "3be0d58c",
   "metadata": {},
   "source": [
    "# Comprehensions and Generators\n",
    "\n",
    "### In Python comprehensions and generators should be used instead of for loops. They provide better readibilty and are fairly optimized."
   ]
  },
  {
   "cell_type": "markdown",
   "id": "4a8cd234",
   "metadata": {},
   "source": [
    "## Loops"
   ]
  },
  {
   "cell_type": "code",
   "execution_count": 1,
   "id": "a38d493b",
   "metadata": {},
   "outputs": [],
   "source": [
    "def loop() -> int:\n",
    "    res = []\n",
    "    for i in range(100_000):\n",
    "        res.append(i * i)\n",
    "        \n",
    "    return sum(res)"
   ]
  },
  {
   "cell_type": "code",
   "execution_count": 4,
   "id": "2ea24012",
   "metadata": {},
   "outputs": [
    {
     "name": "stdout",
     "output_type": "stream",
     "text": [
      "14.7 ms ± 171 µs per loop (mean ± std. dev. of 7 runs, 100 loops each)\n"
     ]
    }
   ],
   "source": [
    "%timeit loop()"
   ]
  },
  {
   "cell_type": "code",
   "execution_count": 2,
   "id": "90f331e0",
   "metadata": {},
   "outputs": [],
   "source": [
    "def comprehension() -> int:\n",
    "    return sum([i * i for i in range(100_000)])"
   ]
  },
  {
   "cell_type": "code",
   "execution_count": 5,
   "id": "1dc4752c",
   "metadata": {},
   "outputs": [
    {
     "name": "stdout",
     "output_type": "stream",
     "text": [
      "10.8 ms ± 421 µs per loop (mean ± std. dev. of 7 runs, 100 loops each)\n"
     ]
    }
   ],
   "source": [
    "%timeit comprehension()"
   ]
  },
  {
   "cell_type": "code",
   "execution_count": 3,
   "id": "8efbde49",
   "metadata": {},
   "outputs": [],
   "source": [
    "def generator() -> int:\n",
    "    return sum(i * i for i in range(100_000))"
   ]
  },
  {
   "cell_type": "code",
   "execution_count": 6,
   "id": "7b707c34",
   "metadata": {},
   "outputs": [
    {
     "name": "stdout",
     "output_type": "stream",
     "text": [
      "12.2 ms ± 766 µs per loop (mean ± std. dev. of 7 runs, 100 loops each)\n"
     ]
    }
   ],
   "source": [
    "%timeit generator()"
   ]
  },
  {
   "cell_type": "markdown",
   "id": "0c4f4ac2",
   "metadata": {},
   "source": [
    "## Dictionaries"
   ]
  },
  {
   "cell_type": "code",
   "execution_count": 7,
   "id": "a0bafd87",
   "metadata": {},
   "outputs": [],
   "source": [
    "def loop() -> dict:\n",
    "    res = {}\n",
    "    for i in range(100_000):\n",
    "        res[i] = i\n",
    "        \n",
    "    return res"
   ]
  },
  {
   "cell_type": "code",
   "execution_count": 9,
   "id": "63ea139e",
   "metadata": {},
   "outputs": [
    {
     "name": "stdout",
     "output_type": "stream",
     "text": [
      "12.3 ms ± 276 µs per loop (mean ± std. dev. of 7 runs, 100 loops each)\n"
     ]
    }
   ],
   "source": [
    "%timeit loop()"
   ]
  },
  {
   "cell_type": "code",
   "execution_count": 8,
   "id": "a1547a31",
   "metadata": {},
   "outputs": [],
   "source": [
    "def comprehension() -> dict:\n",
    "    return {i: i for i in range(100_000)}"
   ]
  },
  {
   "cell_type": "code",
   "execution_count": 10,
   "id": "7765c120",
   "metadata": {},
   "outputs": [
    {
     "name": "stdout",
     "output_type": "stream",
     "text": [
      "10.8 ms ± 188 µs per loop (mean ± std. dev. of 7 runs, 100 loops each)\n"
     ]
    }
   ],
   "source": [
    "%timeit comprehension()"
   ]
  },
  {
   "cell_type": "markdown",
   "id": "b492cf24",
   "metadata": {},
   "source": [
    "## Saving memory using maps"
   ]
  },
  {
   "cell_type": "code",
   "execution_count": 11,
   "id": "6efe5a36",
   "metadata": {},
   "outputs": [],
   "source": [
    "def map_comprehension(numbers: list) -> int:\n",
    "    a = [n * 2 for n in numbers]\n",
    "    b = [n ** 2 for n in a]\n",
    "    c = [n ** 0.33 for n in b]\n",
    "    \n",
    "    return max(c)"
   ]
  },
  {
   "cell_type": "code",
   "execution_count": 18,
   "id": "33d04128",
   "metadata": {},
   "outputs": [],
   "source": [
    "def map_normal(numbers: list) -> int:\n",
    "    a = map(lambda n: n * 2, numbers)\n",
    "    b = map(lambda n: n ** 2, a)\n",
    "    c = map(lambda n: n ** 0.33, b)\n",
    "    \n",
    "    return max(c)"
   ]
  },
  {
   "cell_type": "code",
   "execution_count": 15,
   "id": "df3e7955",
   "metadata": {},
   "outputs": [],
   "source": [
    "%load_ext memory_profiler\n",
    "numbers = range(1000_000)"
   ]
  },
  {
   "cell_type": "code",
   "execution_count": 16,
   "id": "4623151b",
   "metadata": {},
   "outputs": [
    {
     "name": "stdout",
     "output_type": "stream",
     "text": [
      "peak memory: 181.03 MiB, increment: 111.38 MiB\n"
     ]
    }
   ],
   "source": [
    "%memit map_comprehension(numbers)"
   ]
  },
  {
   "cell_type": "code",
   "execution_count": 19,
   "id": "4f5da04f",
   "metadata": {},
   "outputs": [
    {
     "name": "stdout",
     "output_type": "stream",
     "text": [
      "peak memory: 70.23 MiB, increment: 0.00 MiB\n"
     ]
    }
   ],
   "source": [
    "%memit map_normal(numbers)"
   ]
  },
  {
   "cell_type": "code",
   "execution_count": null,
   "id": "d0f3b209",
   "metadata": {},
   "outputs": [],
   "source": []
  }
 ],
 "metadata": {
  "kernelspec": {
   "display_name": "Python 3 (ipykernel)",
   "language": "python",
   "name": "python3"
  },
  "language_info": {
   "codemirror_mode": {
    "name": "ipython",
    "version": 3
   },
   "file_extension": ".py",
   "mimetype": "text/x-python",
   "name": "python",
   "nbconvert_exporter": "python",
   "pygments_lexer": "ipython3",
   "version": "3.9.13"
  }
 },
 "nbformat": 4,
 "nbformat_minor": 5
}
