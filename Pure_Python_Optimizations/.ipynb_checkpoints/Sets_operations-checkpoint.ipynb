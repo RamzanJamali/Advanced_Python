{
 "cells": [
  {
   "cell_type": "markdown",
   "id": "d83db1b5",
   "metadata": {},
   "source": [
    "# Building an in-memory search index using a hash map"
   ]
  },
  {
   "cell_type": "code",
   "execution_count": null,
   "id": "90eb9be6",
   "metadata": {},
   "outputs": [],
   "source": [
    "docs = [\"the cat is under the table\",\n",
    "            \"the dog is under the table\",\n",
    "            \"cats and dogs smell roses\",\n",
    "            \"Carla eats an apple\"\n",
    "       ]"
   ]
  },
  {
   "cell_type": "code",
   "execution_count": null,
   "id": "3fa4fe3c",
   "metadata": {},
   "outputs": [],
   "source": [
    "matches = [doc for doc in docs if \"table\" in doc]\n",
    "print(matches)"
   ]
  },
  {
   "cell_type": "markdown",
   "id": "f240fe0f",
   "metadata": {},
   "source": [
    "### Building an inverted index\n",
    "#### inverted index is used to quickly retrieve data, not only in search engines but also in databases.\n",
    "#### Building an inverted index is an expensive operation and requires you to encode every possible query."
   ]
  },
  {
   "cell_type": "code",
   "execution_count": null,
   "id": "1370c72e",
   "metadata": {},
   "outputs": [],
   "source": [
    "index = {}\n",
    "\n",
    "for i, doc in enumerate(docs):\n",
    "    for word in doc.split():\n",
    "        if word not in index:\n",
    "            index[word] = [i]\n",
    "        else:\n",
    "            index[word].append(i)\n",
    "            \n",
    "results = index[\"table\"]\n",
    "result_documents = [docs[i] for i in results]"
   ]
  },
  {
   "cell_type": "code",
   "execution_count": null,
   "id": "de4d0d3a",
   "metadata": {},
   "outputs": [],
   "source": [
    "print(result_documents)"
   ]
  },
  {
   "cell_type": "markdown",
   "id": "34238b93",
   "metadata": {},
   "source": [
    "### Using inverted index based on sets and the query using set operations.\n",
    "#### Sets offer efficiency in search operations."
   ]
  },
  {
   "cell_type": "code",
   "execution_count": null,
   "id": "d4ca5dec",
   "metadata": {},
   "outputs": [],
   "source": [
    "index = {}\n",
    "\n",
    "for i, doc in enumerate(docs):\n",
    "    for word in doc.split():\n",
    "        if word not in index:\n",
    "            index[word] = {i}\n",
    "        else:\n",
    "            index[word].add(i)\n",
    "            \n",
    "index['cats'].intersection(index['roses'])"
   ]
  },
  {
   "cell_type": "markdown",
   "id": "2b75b51f",
   "metadata": {},
   "source": [
    "## Heaps\n",
    "\n",
    "#### Heaps are data structures designed to quickly find and extract the maximum (or minimum) value in a collection."
   ]
  },
  {
   "cell_type": "code",
   "execution_count": 10,
   "id": "c25ef29f",
   "metadata": {},
   "outputs": [],
   "source": [
    "import heapq\n",
    "\n",
    "# converting a list to heap queue\n",
    "collection = [10, 3, 3, 4, 5, 6]\n",
    "heapq.heapify(collection)"
   ]
  },
  {
   "cell_type": "code",
   "execution_count": 11,
   "id": "b0d0cb0f",
   "metadata": {},
   "outputs": [
    {
     "name": "stdout",
     "output_type": "stream",
     "text": [
      "[3, 3, 6, 4, 5, 10]\n"
     ]
    }
   ],
   "source": [
    "print(collection)"
   ]
  },
  {
   "cell_type": "code",
   "execution_count": 12,
   "id": "4da43c44",
   "metadata": {},
   "outputs": [
    {
     "name": "stdout",
     "output_type": "stream",
     "text": [
      "[3, 4, 6, 10, 5]\n"
     ]
    }
   ],
   "source": [
    "# Removing the minimum value from heapq\n",
    "heapq.heappop(collection)\n",
    "print(collection)"
   ]
  },
  {
   "cell_type": "code",
   "execution_count": 13,
   "id": "ce1d9d99",
   "metadata": {},
   "outputs": [],
   "source": [
    "# inserting value in queue\n",
    "heapq.heappush(collection, 1)"
   ]
  },
  {
   "cell_type": "code",
   "execution_count": 14,
   "id": "f542ecea",
   "metadata": {},
   "outputs": [
    {
     "name": "stdout",
     "output_type": "stream",
     "text": [
      "[1, 4, 3, 10, 5, 6]\n"
     ]
    }
   ],
   "source": [
    "print(collection)"
   ]
  },
  {
   "cell_type": "code",
   "execution_count": 15,
   "id": "d9fadcb8",
   "metadata": {},
   "outputs": [
    {
     "data": {
      "text/plain": [
       "1"
      ]
     },
     "execution_count": 15,
     "metadata": {},
     "output_type": "execute_result"
    }
   ],
   "source": [
    "# Getting the minimum value from queue\n",
    "from queue import PriorityQueue as PQ\n",
    "\n",
    "queue = PQ()\n",
    "for element in collection:\n",
    "    queue.put(element)\n",
    "    \n",
    "queue.get()"
   ]
  },
  {
   "cell_type": "code",
   "execution_count": 16,
   "id": "104a4182",
   "metadata": {},
   "outputs": [
    {
     "data": {
      "text/plain": [
       "10"
      ]
     },
     "execution_count": 16,
     "metadata": {},
     "output_type": "execute_result"
    }
   ],
   "source": [
    "# Getting the max value from queue\n",
    "\n",
    "max_queue = PQ()\n",
    "for element in collection:\n",
    "    max_queue.put(element * (-1))\n",
    "    \n",
    "max_queue.get() * (-1)"
   ]
  },
  {
   "cell_type": "code",
   "execution_count": 17,
   "id": "54ea0b97",
   "metadata": {},
   "outputs": [
    {
     "data": {
      "text/plain": [
       "(1, 'priority 1')"
      ]
     },
     "execution_count": 17,
     "metadata": {},
     "output_type": "execute_result"
    }
   ],
   "source": [
    "# Making a priority list using PriorityQueue\n",
    "pqueue = PQ()\n",
    "pqueue.put((3, \"priority 3\"))\n",
    "pqueue.put((2, \"priority 2\"))\n",
    "pqueue.put((1, \"priority 1\"))\n",
    "\n",
    "pqueue.get()"
   ]
  },
  {
   "cell_type": "code",
   "execution_count": null,
   "id": "f82f8061",
   "metadata": {},
   "outputs": [],
   "source": []
  }
 ],
 "metadata": {
  "kernelspec": {
   "display_name": "Python 3 (ipykernel)",
   "language": "python",
   "name": "python3"
  },
  "language_info": {
   "codemirror_mode": {
    "name": "ipython",
    "version": 3
   },
   "file_extension": ".py",
   "mimetype": "text/x-python",
   "name": "python",
   "nbconvert_exporter": "python",
   "pygments_lexer": "ipython3",
   "version": "3.9.13"
  }
 },
 "nbformat": 4,
 "nbformat_minor": 5
}
