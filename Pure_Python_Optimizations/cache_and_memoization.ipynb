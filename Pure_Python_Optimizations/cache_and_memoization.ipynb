{
 "cells": [
  {
   "cell_type": "markdown",
   "id": "b0c2e777",
   "metadata": {},
   "source": [
    "# Caching and Memoization\n",
    "\n",
    "#### The least recent call cache (lru_cache) decorator is used to implement simple in-memory caching.\n",
    "\n",
    "### Result\n",
    "#### ------ Method ----- Time\n",
    "#### w/out cache ----- 5.32 ms\n",
    "#### lru_cache  ------ 0.0043 us\n",
    "#### joblib cache ---- 540 us\n",
    "\n",
    "#### Hence lru_cache is the fastest method."
   ]
  },
  {
   "cell_type": "code",
   "execution_count": 1,
   "id": "8e5edae5",
   "metadata": {},
   "outputs": [],
   "source": [
    "from functools import lru_cache"
   ]
  },
  {
   "cell_type": "code",
   "execution_count": 2,
   "id": "162ceb33",
   "metadata": {},
   "outputs": [],
   "source": [
    "@lru_cache()\n",
    "def sum2(a: int, b: int) -> int:\n",
    "    print(\"Calculating {} + {}\".format(a, b))\n",
    "    return a + b"
   ]
  },
  {
   "cell_type": "code",
   "execution_count": 3,
   "id": "cc817d90",
   "metadata": {},
   "outputs": [
    {
     "name": "stdout",
     "output_type": "stream",
     "text": [
      "Calculating 1 + 2\n",
      "3\n"
     ]
    }
   ],
   "source": [
    "print(sum2(1, 2))"
   ]
  },
  {
   "cell_type": "code",
   "execution_count": 4,
   "id": "83a5b74e",
   "metadata": {},
   "outputs": [
    {
     "name": "stdout",
     "output_type": "stream",
     "text": [
      "3\n"
     ]
    }
   ],
   "source": [
    "print(sum2(1, 2))"
   ]
  },
  {
   "cell_type": "code",
   "execution_count": 6,
   "id": "f212db64",
   "metadata": {},
   "outputs": [],
   "source": [
    "@lru_cache(maxsize=16)\n",
    "def sum2(a: int, b: int) -> int:\n",
    "    print(\"Calculating {} + {}\".format(a, b))\n",
    "    return a + b"
   ]
  },
  {
   "cell_type": "code",
   "execution_count": 7,
   "id": "64b517da",
   "metadata": {},
   "outputs": [
    {
     "data": {
      "text/plain": [
       "CacheInfo(hits=0, misses=0, maxsize=16, currsize=0)"
      ]
     },
     "execution_count": 7,
     "metadata": {},
     "output_type": "execute_result"
    }
   ],
   "source": [
    "sum2.cache_info()"
   ]
  },
  {
   "cell_type": "code",
   "execution_count": 8,
   "id": "877d514a",
   "metadata": {},
   "outputs": [],
   "source": [
    "sum2.cache_clear()"
   ]
  },
  {
   "cell_type": "code",
   "execution_count": 9,
   "id": "b1e1d213",
   "metadata": {},
   "outputs": [],
   "source": [
    "def fibonacci(n: int) -> int:\n",
    "    if n < 1:\n",
    "        return 1\n",
    "    else:\n",
    "        return fibonacci(n-1) + fibonacci(n-2)"
   ]
  },
  {
   "cell_type": "code",
   "execution_count": 10,
   "id": "84118719",
   "metadata": {},
   "outputs": [
    {
     "name": "stdout",
     "output_type": "stream",
     "text": [
      "5.32 ms ± 326 µs per loop (mean ± std. dev. of 7 runs, 100 loops each)\n"
     ]
    }
   ],
   "source": [
    "# Non-memoized version\n",
    "%timeit fibonacci(20)"
   ]
  },
  {
   "cell_type": "code",
   "execution_count": 12,
   "id": "886451f2",
   "metadata": {},
   "outputs": [
    {
     "name": "stdout",
     "output_type": "stream",
     "text": [
      "fibonacci took 0.00430 us\n"
     ]
    }
   ],
   "source": [
    "import timeit\n",
    "\n",
    "setup_code = '''\n",
    "from functools import lru_cache\n",
    "from __main__ import fibonacci\n",
    "fibonacci_memoized = lru_cache(maxsize=None) (fibonacci)\n",
    "'''\n",
    "results = timeit.repeat('fibonacci_memoized(20)',\n",
    "                       setup = setup_code,\n",
    "                       repeat = 1000,\n",
    "                       number = 1)\n",
    "\n",
    "print(\"fibonacci took {:.5f} us\".format(min(results)))"
   ]
  },
  {
   "cell_type": "markdown",
   "id": "f5e35c09",
   "metadata": {},
   "source": [
    "## Caching with Joblib\n",
    "\n",
    "#### joblib stores cache on the disk. It is more efficient with numpy."
   ]
  },
  {
   "cell_type": "code",
   "execution_count": 2,
   "id": "dbc58a4b",
   "metadata": {},
   "outputs": [],
   "source": [
    "from joblib import Memory"
   ]
  },
  {
   "cell_type": "code",
   "execution_count": 4,
   "id": "7204462b",
   "metadata": {},
   "outputs": [],
   "source": [
    "memory = Memory(location='/')\n",
    "\n",
    "@memory.cache\n",
    "def fibonacci(n: int) -> int:\n",
    "    if n < 1:\n",
    "        return 1\n",
    "    else:\n",
    "        return fibonacci(n-1) + fibonacci(n-2)"
   ]
  },
  {
   "cell_type": "code",
   "execution_count": 7,
   "id": "df76d36f",
   "metadata": {},
   "outputs": [
    {
     "name": "stdout",
     "output_type": "stream",
     "text": [
      "540 µs ± 8.85 µs per loop (mean ± std. dev. of 7 runs, 1000 loops each)\n"
     ]
    }
   ],
   "source": [
    "%timeit fibonacci(20)"
   ]
  },
  {
   "cell_type": "code",
   "execution_count": null,
   "id": "c1a8c836",
   "metadata": {},
   "outputs": [],
   "source": []
  }
 ],
 "metadata": {
  "kernelspec": {
   "display_name": "Python 3 (ipykernel)",
   "language": "python",
   "name": "python3"
  },
  "language_info": {
   "codemirror_mode": {
    "name": "ipython",
    "version": 3
   },
   "file_extension": ".py",
   "mimetype": "text/x-python",
   "name": "python",
   "nbconvert_exporter": "python",
   "pygments_lexer": "ipython3",
   "version": "3.9.13"
  }
 },
 "nbformat": 4,
 "nbformat_minor": 5
}
