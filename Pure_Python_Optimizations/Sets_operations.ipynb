{
 "cells": [
  {
   "cell_type": "markdown",
   "id": "d83db1b5",
   "metadata": {},
   "source": [
    "# Building an in-memory search index using a hash map"
   ]
  },
  {
   "cell_type": "code",
   "execution_count": 1,
   "id": "90eb9be6",
   "metadata": {},
   "outputs": [],
   "source": [
    "docs = [\"the cat is under the table\",\n",
    "            \"the dog is under the table\",\n",
    "            \"cats and dogs smell roses\",\n",
    "            \"Carla eats an apple\"\n",
    "       ]"
   ]
  },
  {
   "cell_type": "code",
   "execution_count": 2,
   "id": "3fa4fe3c",
   "metadata": {},
   "outputs": [
    {
     "name": "stdout",
     "output_type": "stream",
     "text": [
      "['the cat is under the table', 'the dog is under the table']\n"
     ]
    }
   ],
   "source": [
    "matches = [doc for doc in docs if \"table\" in doc]\n",
    "print(matches)"
   ]
  },
  {
   "cell_type": "markdown",
   "id": "f240fe0f",
   "metadata": {},
   "source": [
    "### Building an inverted index\n",
    "#### inverted index is used to quickly retrieve data, not only in search engines but also in databases.\n",
    "#### Building an inverted index is an expensive operation and requires you to encode every possible query."
   ]
  },
  {
   "cell_type": "code",
   "execution_count": 3,
   "id": "1370c72e",
   "metadata": {},
   "outputs": [],
   "source": [
    "index = {}\n",
    "\n",
    "for i, doc in enumerate(docs):\n",
    "    for word in doc.split():\n",
    "        if word not in index:\n",
    "            index[word] = [i]\n",
    "        else:\n",
    "            index[word].append(i)\n",
    "            \n",
    "results = index[\"table\"]\n",
    "result_documents = [docs[i] for i in results]"
   ]
  },
  {
   "cell_type": "code",
   "execution_count": 4,
   "id": "de4d0d3a",
   "metadata": {},
   "outputs": [
    {
     "name": "stdout",
     "output_type": "stream",
     "text": [
      "['the cat is under the table', 'the dog is under the table']\n"
     ]
    }
   ],
   "source": [
    "print(result_documents)"
   ]
  },
  {
   "cell_type": "markdown",
   "id": "34238b93",
   "metadata": {},
   "source": [
    "### Using inverted index based on sets and the query using set operations.\n",
    "#### Sets offer efficiency in search operations."
   ]
  },
  {
   "cell_type": "code",
   "execution_count": 5,
   "id": "d4ca5dec",
   "metadata": {},
   "outputs": [
    {
     "data": {
      "text/plain": [
       "{2}"
      ]
     },
     "execution_count": 5,
     "metadata": {},
     "output_type": "execute_result"
    }
   ],
   "source": [
    "index = {}\n",
    "\n",
    "for i, doc in enumerate(docs):\n",
    "    for word in doc.split():\n",
    "        if word not in index:\n",
    "            index[word] = {i}\n",
    "        else:\n",
    "            index[word].add(i)\n",
    "            \n",
    "index['cats'].intersection(index['roses'])"
   ]
  },
  {
   "cell_type": "code",
   "execution_count": null,
   "id": "c90e803d",
   "metadata": {},
   "outputs": [],
   "source": []
  }
 ],
 "metadata": {
  "kernelspec": {
   "display_name": "Python 3 (ipykernel)",
   "language": "python",
   "name": "python3"
  },
  "language_info": {
   "codemirror_mode": {
    "name": "ipython",
    "version": 3
   },
   "file_extension": ".py",
   "mimetype": "text/x-python",
   "name": "python",
   "nbconvert_exporter": "python",
   "pygments_lexer": "ipython3",
   "version": "3.9.13"
  }
 },
 "nbformat": 4,
 "nbformat_minor": 5
}
