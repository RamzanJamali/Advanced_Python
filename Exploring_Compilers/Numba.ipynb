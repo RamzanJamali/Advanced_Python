{
 "cells": [
  {
   "cell_type": "markdown",
   "id": "d07ff59b",
   "metadata": {},
   "source": [
    "## Getting started with Numba "
   ]
  },
  {
   "cell_type": "code",
   "execution_count": 1,
   "id": "47617273",
   "metadata": {},
   "outputs": [],
   "source": [
    "import numba as nb\n",
    "import numpy as np"
   ]
  },
  {
   "cell_type": "markdown",
   "id": "a36cde92",
   "metadata": {},
   "source": [
    "### Using Numba decorators"
   ]
  },
  {
   "cell_type": "code",
   "execution_count": 2,
   "id": "9892b9b0",
   "metadata": {},
   "outputs": [],
   "source": [
    "@nb.jit\n",
    "def sum_sq(a):\n",
    "    result = 0\n",
    "    N = len(a)\n",
    "    for i in range(N):\n",
    "        result += (a[i])**2\n",
    "        return result\n",
    "\n",
    "\n",
    "x = np.random.rand(10000)"
   ]
  },
  {
   "cell_type": "markdown",
   "id": "95b0cfd3",
   "metadata": {},
   "source": [
    "#### Benchmarking between Python, Numba and Numpy"
   ]
  },
  {
   "cell_type": "code",
   "execution_count": 3,
   "id": "3906b173",
   "metadata": {
    "scrolled": true
   },
   "outputs": [
    {
     "name": "stdout",
     "output_type": "stream",
     "text": [
      "4.16 µs ± 672 ns per loop (mean ± std. dev. of 7 runs, 100000 loops each)\n"
     ]
    }
   ],
   "source": [
    "%timeit sum_sq.py_func(x)"
   ]
  },
  {
   "cell_type": "code",
   "execution_count": 4,
   "id": "299f2941",
   "metadata": {},
   "outputs": [
    {
     "name": "stdout",
     "output_type": "stream",
     "text": [
      "The slowest run took 10.90 times longer than the fastest. This could mean that an intermediate result is being cached.\n",
      "2.6 µs ± 3.39 µs per loop (mean ± std. dev. of 7 runs, 1 loop each)\n"
     ]
    }
   ],
   "source": [
    "%timeit sum_sq(x)"
   ]
  },
  {
   "cell_type": "code",
   "execution_count": 5,
   "id": "92291948",
   "metadata": {},
   "outputs": [
    {
     "name": "stdout",
     "output_type": "stream",
     "text": [
      "35.5 µs ± 2.34 µs per loop (mean ± std. dev. of 7 runs, 10000 loops each)\n"
     ]
    }
   ],
   "source": [
    "%timeit (x**2).sum()"
   ]
  },
  {
   "cell_type": "markdown",
   "id": "69cab8da",
   "metadata": {},
   "source": [
    "### Type Specializations\n",
    "\n",
    "#### The nb.jit decorator works by compiling a specialized version of the function once it encounters a new argument type."
   ]
  },
  {
   "cell_type": "code",
   "execution_count": 6,
   "id": "23344da0",
   "metadata": {},
   "outputs": [
    {
     "data": {
      "text/plain": [
       "[(array(float64, 1d, C),)]"
      ]
     },
     "execution_count": 6,
     "metadata": {},
     "output_type": "execute_result"
    }
   ],
   "source": [
    "sum_sq.signatures"
   ]
  },
  {
   "cell_type": "code",
   "execution_count": 7,
   "id": "be8446ed",
   "metadata": {},
   "outputs": [
    {
     "data": {
      "text/plain": [
       "[(array(float64, 1d, C),)]"
      ]
     },
     "execution_count": 7,
     "metadata": {},
     "output_type": "execute_result"
    }
   ],
   "source": [
    "x = np.random.rand(1000).astype('float64')\n",
    "sum_sq(x)\n",
    "sum_sq.signatures"
   ]
  },
  {
   "cell_type": "code",
   "execution_count": 8,
   "id": "2d8fd115",
   "metadata": {},
   "outputs": [
    {
     "data": {
      "text/plain": [
       "[(array(float64, 1d, C),), (array(float32, 1d, C),)]"
      ]
     },
     "execution_count": 8,
     "metadata": {},
     "output_type": "execute_result"
    }
   ],
   "source": [
    "x = np.random.rand(1000).astype('float32')\n",
    "sum_sq(x)\n",
    "sum_sq.signatures"
   ]
  },
  {
   "cell_type": "code",
   "execution_count": 9,
   "id": "79a04438",
   "metadata": {},
   "outputs": [],
   "source": [
    "# It is possible to explicitly compile the function for certain types by passing a signature to the nb.jit function.\n",
    "\n",
    "@nb.jit((nb.float64[:],))\n",
    "def sum_sq(a):\n",
    "    result = 0\n",
    "    N = len(a)\n",
    "    for i in range(N):\n",
    "        result += (a[i])**2\n",
    "        return result\n"
   ]
  },
  {
   "cell_type": "code",
   "execution_count": null,
   "id": "070c9221",
   "metadata": {},
   "outputs": [],
   "source": []
  }
 ],
 "metadata": {
  "kernelspec": {
   "display_name": "Python 3 (ipykernel)",
   "language": "python",
   "name": "python3"
  },
  "language_info": {
   "codemirror_mode": {
    "name": "ipython",
    "version": 3
   },
   "file_extension": ".py",
   "mimetype": "text/x-python",
   "name": "python",
   "nbconvert_exporter": "python",
   "pygments_lexer": "ipython3",
   "version": "3.9.13"
  }
 },
 "nbformat": 4,
 "nbformat_minor": 5
}
