{
 "cells": [
  {
   "cell_type": "markdown",
   "id": "d07ff59b",
   "metadata": {},
   "source": [
    "## Getting started with Numba "
   ]
  },
  {
   "cell_type": "code",
   "execution_count": 1,
   "id": "47617273",
   "metadata": {},
   "outputs": [],
   "source": [
    "import numba as nb\n",
    "import numpy as np"
   ]
  },
  {
   "cell_type": "markdown",
   "id": "a36cde92",
   "metadata": {},
   "source": [
    "### Using Numba decorators"
   ]
  },
  {
   "cell_type": "code",
   "execution_count": 2,
   "id": "9892b9b0",
   "metadata": {},
   "outputs": [],
   "source": [
    "@nb.jit\n",
    "def sum_sq(a):\n",
    "    result = 0\n",
    "    N = len(a)\n",
    "    for i in range(N):\n",
    "        result += (a[i])**2\n",
    "        return result\n",
    "\n",
    "\n",
    "x = np.random.rand(10000)"
   ]
  },
  {
   "cell_type": "markdown",
   "id": "95b0cfd3",
   "metadata": {},
   "source": [
    "#### Benchmarking between Python, Numba and Numpy"
   ]
  },
  {
   "cell_type": "code",
   "execution_count": 3,
   "id": "3906b173",
   "metadata": {
    "scrolled": true
   },
   "outputs": [
    {
     "name": "stdout",
     "output_type": "stream",
     "text": [
      "2.19 µs ± 723 ns per loop (mean ± std. dev. of 7 runs, 1000000 loops each)\n"
     ]
    }
   ],
   "source": [
    "%timeit sum_sq.py_func(x)"
   ]
  },
  {
   "cell_type": "code",
   "execution_count": 4,
   "id": "299f2941",
   "metadata": {},
   "outputs": [
    {
     "name": "stdout",
     "output_type": "stream",
     "text": [
      "The slowest run took 16.14 times longer than the fastest. This could mean that an intermediate result is being cached.\n",
      "2.39 µs ± 3.65 µs per loop (mean ± std. dev. of 7 runs, 1 loop each)\n"
     ]
    }
   ],
   "source": [
    "%timeit sum_sq(x)"
   ]
  },
  {
   "cell_type": "code",
   "execution_count": 5,
   "id": "92291948",
   "metadata": {},
   "outputs": [
    {
     "name": "stdout",
     "output_type": "stream",
     "text": [
      "25.3 µs ± 4.38 µs per loop (mean ± std. dev. of 7 runs, 10000 loops each)\n"
     ]
    }
   ],
   "source": [
    "%timeit (x**2).sum()"
   ]
  },
  {
   "cell_type": "markdown",
   "id": "69cab8da",
   "metadata": {},
   "source": [
    "### Type Specializations\n",
    "\n",
    "#### The nb.jit decorator works by compiling a specialized version of the function once it encounters a new argument type."
   ]
  },
  {
   "cell_type": "code",
   "execution_count": 6,
   "id": "23344da0",
   "metadata": {},
   "outputs": [
    {
     "data": {
      "text/plain": [
       "[(array(float64, 1d, C),)]"
      ]
     },
     "execution_count": 6,
     "metadata": {},
     "output_type": "execute_result"
    }
   ],
   "source": [
    "sum_sq.signatures"
   ]
  },
  {
   "cell_type": "code",
   "execution_count": 7,
   "id": "be8446ed",
   "metadata": {},
   "outputs": [
    {
     "data": {
      "text/plain": [
       "[(array(float64, 1d, C),)]"
      ]
     },
     "execution_count": 7,
     "metadata": {},
     "output_type": "execute_result"
    }
   ],
   "source": [
    "x = np.random.rand(1000).astype('float64')\n",
    "sum_sq(x)\n",
    "sum_sq.signatures"
   ]
  },
  {
   "cell_type": "code",
   "execution_count": 8,
   "id": "2d8fd115",
   "metadata": {},
   "outputs": [
    {
     "data": {
      "text/plain": [
       "[(array(float64, 1d, C),), (array(float32, 1d, C),)]"
      ]
     },
     "execution_count": 8,
     "metadata": {},
     "output_type": "execute_result"
    }
   ],
   "source": [
    "x = np.random.rand(1000).astype('float32')\n",
    "sum_sq(x)\n",
    "sum_sq.signatures"
   ]
  },
  {
   "cell_type": "code",
   "execution_count": 9,
   "id": "79a04438",
   "metadata": {},
   "outputs": [],
   "source": [
    "# It is possible to explicitly compile the function for certain types by passing a signature to the nb.jit function.\n",
    "\n",
    "@nb.jit((nb.float64[:],))\n",
    "def sum_sq(a):\n",
    "    result = 0\n",
    "    N = len(a)\n",
    "    for i in range(N):\n",
    "        result += (a[i])**2\n",
    "        return result\n"
   ]
  },
  {
   "cell_type": "markdown",
   "id": "1b6f16f7",
   "metadata": {},
   "source": [
    "## Object mode versus native mode"
   ]
  },
  {
   "cell_type": "code",
   "execution_count": 10,
   "id": "058bec34",
   "metadata": {},
   "outputs": [
    {
     "name": "stdout",
     "output_type": "stream",
     "text": [
      "sum_sq (array(float64, 1d, A),)\n",
      "--------------------------------------------------------------------------------\n",
      "# File: C:\\Users\\ramza\\AppData\\Local\\Temp\\ipykernel_5544\\3820976988.py\n",
      "# --- LINE 3 --- \n",
      "\n",
      "@nb.jit((nb.float64[:],))\n",
      "\n",
      "# --- LINE 4 --- \n",
      "\n",
      "def sum_sq(a):\n",
      "\n",
      "    # --- LINE 5 --- \n",
      "    # label 0\n",
      "    #   a = arg(0, name=a)  :: array(float64, 1d, A)\n",
      "    #   result = const(int, 0)  :: Literal[int](0)\n",
      "\n",
      "    result = 0\n",
      "\n",
      "    # --- LINE 6 --- \n",
      "    #   $6load_global.1 = global(len: <built-in function len>)  :: Function(<built-in function len>)\n",
      "    #   N = call $6load_global.1(a, func=$6load_global.1, args=[Var(a, 3820976988.py:5)], kws=(), vararg=None, target=None)  :: (array(float64, 1d, A),) -> int64\n",
      "    #   del $6load_global.1\n",
      "\n",
      "    N = len(a)\n",
      "\n",
      "    # --- LINE 7 --- \n",
      "    #   $14load_global.4 = global(range: <class 'range'>)  :: Function(<class 'range'>)\n",
      "    #   $18call_function.6 = call $14load_global.4(N, func=$14load_global.4, args=[Var(N, 3820976988.py:6)], kws=(), vararg=None, target=None)  :: (int64,) -> range_state_int64\n",
      "    #   del N\n",
      "    #   del $14load_global.4\n",
      "    #   $20get_iter.7 = getiter(value=$18call_function.6)  :: range_iter_int64\n",
      "    #   del $18call_function.6\n",
      "    #   $phi22.0 = $20get_iter.7  :: range_iter_int64\n",
      "    #   del $20get_iter.7\n",
      "    #   jump 22\n",
      "    # label 22\n",
      "    #   $22for_iter.1 = iternext(value=$phi22.0)  :: pair<int64, bool>\n",
      "    #   del $phi22.0\n",
      "    #   $22for_iter.2 = pair_first(value=$22for_iter.1)  :: int64\n",
      "    #   $22for_iter.3 = pair_second(value=$22for_iter.1)  :: bool\n",
      "    #   del $22for_iter.1\n",
      "    #   $phi24.1 = $22for_iter.2  :: int64\n",
      "    #   del $22for_iter.2\n",
      "    #   branch $22for_iter.3, 24, 50\n",
      "    # label 24\n",
      "    #   del $22for_iter.3\n",
      "    #   i = $phi24.1  :: int64\n",
      "    #   del $phi24.1\n",
      "\n",
      "    for i in range(N):\n",
      "\n",
      "        # --- LINE 8 --- \n",
      "        #   $32binary_subscr.5 = getitem(value=a, index=i, fn=<built-in function getitem>)  :: float64\n",
      "        #   del i\n",
      "        #   del a\n",
      "        #   $const34.6 = const(int, 2)  :: Literal[int](2)\n",
      "        #   $36binary_power.7 = $32binary_subscr.5 ** $const34.6  :: float64\n",
      "        #   del $const34.6\n",
      "        #   del $32binary_subscr.5\n",
      "        #   $38inplace_add.8 = inplace_binop(fn=<built-in function iadd>, immutable_fn=<built-in function add>, lhs=result, rhs=$36binary_power.7, static_lhs=Undefined, static_rhs=Undefined)  :: float64\n",
      "        #   del result\n",
      "        #   del $36binary_power.7\n",
      "        #   result.1 = $38inplace_add.8  :: float64\n",
      "        #   del $38inplace_add.8\n",
      "\n",
      "        result += (a[i])**2\n",
      "\n",
      "        # --- LINE 9 --- \n",
      "        #   $48return_value.10 = cast(value=result.1)  :: OptionalType(float64)\n",
      "        #   del result.1\n",
      "        #   return $48return_value.10\n",
      "        # label 50\n",
      "        #   del result\n",
      "        #   del a\n",
      "        #   del $phi24.1\n",
      "        #   del $22for_iter.3\n",
      "        #   $const50.0 = const(NoneType, None)  :: none\n",
      "        #   $52return_value.1 = cast(value=$const50.0)  :: OptionalType(float64)\n",
      "        #   del $const50.0\n",
      "        #   return $52return_value.1\n",
      "\n",
      "        return result\n",
      "\n",
      "\n",
      "================================================================================\n"
     ]
    }
   ],
   "source": [
    "sum_sq.inspect_types()"
   ]
  },
  {
   "cell_type": "code",
   "execution_count": 11,
   "id": "1dc5418c",
   "metadata": {},
   "outputs": [],
   "source": [
    "@nb.jit\n",
    "def concatenate(strings):\n",
    "    result = ''\n",
    "    for s in strings:\n",
    "        result += s\n",
    "        \n",
    "    return result"
   ]
  },
  {
   "cell_type": "code",
   "execution_count": 12,
   "id": "3894ceaf",
   "metadata": {},
   "outputs": [
    {
     "name": "stderr",
     "output_type": "stream",
     "text": [
      "C:\\Users\\ramza\\anaconda3\\lib\\site-packages\\numba\\core\\ir_utils.py:2152: NumbaPendingDeprecationWarning: \u001b[1m\n",
      "Encountered the use of a type that is scheduled for deprecation: type 'reflected list' found for argument 'strings' of function 'concatenate'.\n",
      "\n",
      "For more information visit https://numba.readthedocs.io/en/stable/reference/deprecation.html#deprecation-of-reflection-for-list-and-set-types\n",
      "\u001b[1m\n",
      "File \"C:\\Users\\ramza\\AppData\\Local\\Temp\\ipykernel_5544\\3433411128.py\", line 2:\u001b[0m\n",
      "\u001b[1m@nb.jit\n",
      "\u001b[1mdef concatenate(strings):\n",
      "\u001b[0m\u001b[1m^\u001b[0m\u001b[0m\n",
      "\u001b[0m\n",
      "  warnings.warn(NumbaPendingDeprecationWarning(msg, loc=loc))\n"
     ]
    },
    {
     "data": {
      "text/plain": [
       "[(reflected list(unicode_type)<iv=None>,)]"
      ]
     },
     "execution_count": 12,
     "metadata": {},
     "output_type": "execute_result"
    }
   ],
   "source": [
    "concatenate(['hello', 'world'])\n",
    "concatenate.signatures"
   ]
  },
  {
   "cell_type": "code",
   "execution_count": 13,
   "id": "f47ddd95",
   "metadata": {},
   "outputs": [
    {
     "name": "stdout",
     "output_type": "stream",
     "text": [
      "concatenate (reflected list(unicode_type)<iv=None>,)\n",
      "--------------------------------------------------------------------------------\n",
      "# File: C:\\Users\\ramza\\AppData\\Local\\Temp\\ipykernel_5544\\3433411128.py\n",
      "# --- LINE 1 --- \n",
      "\n",
      "@nb.jit\n",
      "\n",
      "# --- LINE 2 --- \n",
      "\n",
      "def concatenate(strings):\n",
      "\n",
      "    # --- LINE 3 --- \n",
      "    # label 0\n",
      "    #   strings = arg(0, name=strings)  :: reflected list(unicode_type)<iv=None>\n",
      "    #   result = const(str, )  :: Literal[str]()\n",
      "    #   result.2 = result  :: unicode_type\n",
      "    #   del result\n",
      "\n",
      "    result = ''\n",
      "\n",
      "    # --- LINE 4 --- \n",
      "    #   $8get_iter.2 = getiter(value=strings)  :: iter(reflected list(unicode_type)<iv=None>)\n",
      "    #   del strings\n",
      "    #   $phi10.0 = $8get_iter.2  :: iter(reflected list(unicode_type)<iv=None>)\n",
      "    #   del $8get_iter.2\n",
      "    #   jump 10\n",
      "    # label 10\n",
      "    #   $10for_iter.1 = iternext(value=$phi10.0)  :: pair<unicode_type, bool>\n",
      "    #   $10for_iter.2 = pair_first(value=$10for_iter.1)  :: unicode_type\n",
      "    #   $10for_iter.3 = pair_second(value=$10for_iter.1)  :: bool\n",
      "    #   del $10for_iter.1\n",
      "    #   $phi12.1 = $10for_iter.2  :: unicode_type\n",
      "    #   del $10for_iter.2\n",
      "    #   branch $10for_iter.3, 12, 24\n",
      "    # label 12\n",
      "    #   del $10for_iter.3\n",
      "    #   s = $phi12.1  :: unicode_type\n",
      "    #   del $phi12.1\n",
      "\n",
      "    for s in strings:\n",
      "\n",
      "        # --- LINE 5 --- \n",
      "        #   $18inplace_add.4 = inplace_binop(fn=<built-in function iadd>, immutable_fn=<built-in function add>, lhs=result.2, rhs=s, static_lhs=Undefined, static_rhs=Undefined)  :: unicode_type\n",
      "        #   del s\n",
      "        #   result.1 = $18inplace_add.4  :: unicode_type\n",
      "        #   del $18inplace_add.4\n",
      "        #   result.2 = result.1  :: unicode_type\n",
      "        #   del result.1\n",
      "        #   jump 10\n",
      "\n",
      "        result += s\n",
      "\n",
      "# --- LINE 6 --- \n",
      "\n",
      "\n",
      "\n",
      "    # --- LINE 7 --- \n",
      "    # label 24\n",
      "    #   del $phi12.1\n",
      "    #   del $phi10.0\n",
      "    #   del $10for_iter.3\n",
      "    #   $26return_value.1 = cast(value=result.2)  :: unicode_type\n",
      "    #   del result.2\n",
      "    #   return $26return_value.1\n",
      "\n",
      "    return result\n",
      "\n",
      "\n",
      "================================================================================\n"
     ]
    }
   ],
   "source": [
    "concatenate.inspect_types()"
   ]
  },
  {
   "cell_type": "code",
   "execution_count": 14,
   "id": "a8fe2989",
   "metadata": {},
   "outputs": [
    {
     "name": "stdout",
     "output_type": "stream",
     "text": [
      "381 µs ± 8.74 µs per loop (mean ± std. dev. of 7 runs, 1000 loops each)\n"
     ]
    }
   ],
   "source": [
    "x = ['hello'] * 1000\n",
    "%timeit concatenate.py_func(x)"
   ]
  },
  {
   "cell_type": "code",
   "execution_count": 15,
   "id": "fcace937",
   "metadata": {},
   "outputs": [
    {
     "name": "stdout",
     "output_type": "stream",
     "text": [
      "4.48 ms ± 264 µs per loop (mean ± std. dev. of 7 runs, 100 loops each)\n"
     ]
    }
   ],
   "source": [
    "%timeit concatenate(x)"
   ]
  },
  {
   "cell_type": "markdown",
   "id": "5961b454",
   "metadata": {},
   "source": [
    "### Numba and Numpy\n",
    "\n",
    "#### Universal functions with Numba"
   ]
  },
  {
   "cell_type": "code",
   "execution_count": 44,
   "id": "ac0e8316",
   "metadata": {},
   "outputs": [],
   "source": [
    "@np.vectorize\n",
    "def cantor_py(a, b):\n",
    "    return int(0.5 * (a + b) * (a + b + 1) + b)"
   ]
  },
  {
   "cell_type": "code",
   "execution_count": 45,
   "id": "aef5bd74",
   "metadata": {},
   "outputs": [],
   "source": [
    "@nb.vectorize\n",
    "def cantor(a, b):\n",
    "    return int(0.5 * (a + b) * (a + b + 1) + b)"
   ]
  },
  {
   "cell_type": "code",
   "execution_count": 46,
   "id": "7288a0ff",
   "metadata": {},
   "outputs": [
    {
     "data": {
      "text/plain": [
       "array([ 8, 12], dtype=int64)"
      ]
     },
     "execution_count": 46,
     "metadata": {},
     "output_type": "execute_result"
    }
   ],
   "source": [
    "cantor(np.array([1, 2]), 2)"
   ]
  },
  {
   "cell_type": "code",
   "execution_count": 47,
   "id": "c80c3bef",
   "metadata": {},
   "outputs": [],
   "source": [
    "x1 = np.random.rand(10000)\n",
    "x2 = np.random.rand(10000)"
   ]
  },
  {
   "cell_type": "code",
   "execution_count": 48,
   "id": "63909c74",
   "metadata": {},
   "outputs": [
    {
     "name": "stdout",
     "output_type": "stream",
     "text": [
      "8.53 ms ± 128 µs per loop (mean ± std. dev. of 7 runs, 100 loops each)\n"
     ]
    }
   ],
   "source": [
    "%timeit cantor_py(x1, x2)"
   ]
  },
  {
   "cell_type": "code",
   "execution_count": 49,
   "id": "a861d930",
   "metadata": {},
   "outputs": [
    {
     "name": "stdout",
     "output_type": "stream",
     "text": [
      "40.1 µs ± 819 ns per loop (mean ± std. dev. of 7 runs, 10000 loops each)\n"
     ]
    }
   ],
   "source": [
    "%timeit cantor(x1, x2)"
   ]
  },
  {
   "cell_type": "code",
   "execution_count": 51,
   "id": "6ae61a1a",
   "metadata": {},
   "outputs": [
    {
     "name": "stdout",
     "output_type": "stream",
     "text": [
      "106 µs ± 616 ns per loop (mean ± std. dev. of 7 runs, 10000 loops each)\n"
     ]
    }
   ],
   "source": [
    "%timeit (0.5 * (x1 + x2) * (x1 + x2 + 1) + x2).astype(int)"
   ]
  },
  {
   "cell_type": "markdown",
   "id": "00d127ba",
   "metadata": {},
   "source": [
    "### Generalized Universal Functions"
   ]
  },
  {
   "cell_type": "code",
   "execution_count": null,
   "id": "9aa7f124",
   "metadata": {},
   "outputs": [],
   "source": []
  }
 ],
 "metadata": {
  "kernelspec": {
   "display_name": "Python 3 (ipykernel)",
   "language": "python",
   "name": "python3"
  },
  "language_info": {
   "codemirror_mode": {
    "name": "ipython",
    "version": 3
   },
   "file_extension": ".py",
   "mimetype": "text/x-python",
   "name": "python",
   "nbconvert_exporter": "python",
   "pygments_lexer": "ipython3",
   "version": "3.9.13"
  }
 },
 "nbformat": 4,
 "nbformat_minor": 5
}
