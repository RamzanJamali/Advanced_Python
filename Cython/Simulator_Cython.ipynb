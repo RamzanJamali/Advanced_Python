{
 "cells": [
  {
   "cell_type": "markdown",
   "id": "318f48cc",
   "metadata": {},
   "source": [
    "## Particle Simulator in Cython\n",
    "\n",
    "#### This program will simulate particles moving in a circular path at a constant speed. \n",
    "#### The purpose of this simulation is to improve performance of python program."
   ]
  },
  {
   "cell_type": "code",
   "execution_count": 1,
   "id": "6980c11c",
   "metadata": {},
   "outputs": [],
   "source": [
    "%load_ext cython\n",
    "# loading cython extension"
   ]
  },
  {
   "cell_type": "code",
   "execution_count": 2,
   "id": "37bb3231",
   "metadata": {},
   "outputs": [],
   "source": [
    "%%cython\n",
    "\n",
    "# Importing required libraries\n",
    "import numpy as np\n",
    "from random import uniform\n",
    "from libc.math cimport sqrt\n",
    "\n",
    "# This function is written in Cython and used to simulate particles\n",
    "def c_evolve(double[:, :] r_i, double[:] ang_speed_i, int timestep, int nsteps):\n",
    "    cdef double norm, x, y, vx, vy, dx, dy, ang_speed\n",
    "    \n",
    "    v_i = np.empty_like(r_i)\n",
    "    \n",
    "    cdef int i, j\n",
    "    cdef int nparticles = r_i.shape[0]\n",
    "    \n",
    "    for i in range(nsteps):\n",
    "        for j in range(nparticles):\n",
    "            x = r_i[j, 0]\n",
    "            y = r_i[j, 1]\n",
    "            \n",
    "            ang_speed = ang_speed_i[j]\n",
    "            \n",
    "            norm = sqrt(x**2 + y**2)\n",
    "            \n",
    "            vx = (-y)/norm\n",
    "            vy = x/norm\n",
    "            \n",
    "            dx = timestep * ang_speed * vx\n",
    "            dy = timestep * ang_speed * vy\n",
    "            \n",
    "            r_i[j, 0] += dx\n",
    "            r_i[j, 1] += dy\n",
    "            \n",
    "            \n",
    "# The particles class has three variables x, y positions and angular velocity            \n",
    "class Particle:\n",
    "    def __init__(self, x, y, ang_vel):\n",
    "        self.x = x\n",
    "        self.y = y\n",
    "        self.ang_vel = ang_vel\n",
    "\n",
    "\n",
    "# To simulate the particles\n",
    "class ParticleSimulator:\n",
    "\n",
    "    def __init__(self, particles):\n",
    "        self.particles = particles\n",
    "\n",
    "    # The first method utilizes numpy for simulation\n",
    "    def evolve_numpy(self, dt):\n",
    "        timestep = 0.00001\n",
    "        nsteps = int(dt/timestep)\n",
    "        # nsteps = 1000 if dt = 0.01\n",
    "\n",
    "        r_i = np.array([[p.x, p.y] for p in self.particles])\n",
    "        ang_vel_i = np.array([p.ang_vel for p in self.particles])\n",
    "        \n",
    "        for i in range(nsteps):\n",
    "            \n",
    "            norm_ii = (r_i ** 2).sum(axis=1)\n",
    "            norm_i = np.sqrt(norm_ii)\n",
    "            v_i = r_i[:, [1, 0]]\n",
    "            v_i[:, 0] *= -1\n",
    "            v_i /= norm_i[:, np.newaxis]\n",
    "            d_i = timestep * ang_vel_i[:, np.newaxis] * v_i\n",
    "            r_i += d_i\n",
    "            \n",
    "            for i, p in enumerate(self.particles):\n",
    "                p.x, p.y = r_i[i]\n",
    "\n",
    "    # The second method utilizes cython for simulation        \n",
    "    def evolve_cython(self, dt):\n",
    "        timestep = 0.00001\n",
    "        nsteps = int(dt/timestep)\n",
    "        # nsteps = 1000 if dt = 0.01\n",
    "\n",
    "        r_i = np.array([[p.x, p.y] for p in self.particles])\n",
    "        ang_speed_i = np.array([p.ang_vel for p in self.particles])\n",
    "        \n",
    "        c_evolve(r_i, ang_speed_i, timestep, nsteps)\n",
    "        \n",
    "        for i, p in enumerate(self.particles):\n",
    "            p.x, p.y = r_i[i]\n",
    "            \n",
    "            \n",
    "# To benchmark the different methods\n",
    "def benchmark(npart=100, method='cython'):\n",
    "    particles = [\n",
    "        Particle(uniform(-1.0, 1.0), uniform(-1.0, 1.0), uniform(-1.0, 1.0))\n",
    "        for i in range(npart)\n",
    "    ]\n",
    "\n",
    "    simulator = ParticleSimulator(particles)\n",
    "    \n",
    "    if method == 'cython':\n",
    "        simulator.evolve_cython(0.1)\n",
    "        \n",
    "    elif method == 'numpy':\n",
    "        simulator.evolve_numpy(0.1)"
   ]
  },
  {
   "cell_type": "markdown",
   "id": "62f81f10",
   "metadata": {},
   "source": [
    "### The result of Cython"
   ]
  },
  {
   "cell_type": "code",
   "execution_count": 3,
   "id": "097af3fb",
   "metadata": {},
   "outputs": [
    {
     "name": "stdout",
     "output_type": "stream",
     "text": [
      "99.5 ms ± 1.95 ms per loop (mean ± std. dev. of 7 runs, 10 loops each)\n"
     ]
    }
   ],
   "source": [
    "%timeit benchmark(100, \"cython\")"
   ]
  },
  {
   "cell_type": "markdown",
   "id": "9ce46b0f",
   "metadata": {},
   "source": [
    "### The result of Numpy"
   ]
  },
  {
   "cell_type": "code",
   "execution_count": 4,
   "id": "1bede783",
   "metadata": {},
   "outputs": [
    {
     "name": "stdout",
     "output_type": "stream",
     "text": [
      "1.25 s ± 45.5 ms per loop (mean ± std. dev. of 7 runs, 1 loop each)\n"
     ]
    }
   ],
   "source": [
    "%timeit benchmark(100, 'numpy')"
   ]
  },
  {
   "cell_type": "code",
   "execution_count": null,
   "id": "561a03a7",
   "metadata": {},
   "outputs": [],
   "source": []
  }
 ],
 "metadata": {
  "kernelspec": {
   "display_name": "Python 3 (ipykernel)",
   "language": "python",
   "name": "python3"
  },
  "language_info": {
   "codemirror_mode": {
    "name": "ipython",
    "version": 3
   },
   "file_extension": ".py",
   "mimetype": "text/x-python",
   "name": "python",
   "nbconvert_exporter": "python",
   "pygments_lexer": "ipython3",
   "version": "3.9.13"
  }
 },
 "nbformat": 4,
 "nbformat_minor": 5
}
