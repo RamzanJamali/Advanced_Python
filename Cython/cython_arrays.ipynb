{
 "cells": [
  {
   "cell_type": "markdown",
   "id": "527a925a",
   "metadata": {},
   "source": [
    "## Working with arrays in Cython"
   ]
  },
  {
   "cell_type": "code",
   "execution_count": 1,
   "id": "c21525e9",
   "metadata": {},
   "outputs": [],
   "source": [
    "%load_ext cython"
   ]
  },
  {
   "cell_type": "code",
   "execution_count": 2,
   "id": "4d130deb",
   "metadata": {},
   "outputs": [],
   "source": [
    "%%cython\n",
    "\n",
    "# the & symbol is for pointer\n",
    "cdef double a\n",
    "from libc.stdio cimport printf\n",
    "# Note: this will give output in python terminal not in jupyter notebook\n",
    "printf(\"%p\", &a)"
   ]
  },
  {
   "cell_type": "code",
   "execution_count": 3,
   "id": "c77fbde3",
   "metadata": {},
   "outputs": [
    {
     "name": "stdout",
     "output_type": "stream",
     "text": [
      "3.0\n"
     ]
    }
   ],
   "source": [
    "%%cython\n",
    "\n",
    "# Working with pointer\n",
    "from libc.stdio cimport printf\n",
    "cdef double a\n",
    "cdef double *a_pointer\n",
    "a_pointer = &a\n",
    "\n",
    "a = 3.0\n",
    "# using python to print output\n",
    "print(a_pointer[0])"
   ]
  },
  {
   "cell_type": "code",
   "execution_count": 4,
   "id": "f69571a0",
   "metadata": {},
   "outputs": [
    {
     "name": "stdout",
     "output_type": "stream",
     "text": [
      "1.0\n",
      "[[2.0, 0.0], [0.0, 0.0], [0.0, 0.0], [0.0, 0.0], [0.0, 0.0]]\n"
     ]
    }
   ],
   "source": [
    "%%cython\n",
    "# declaring arrays in cython\n",
    "from libc.stdio cimport printf\n",
    "# one dimensional array\n",
    "cdef double arr[10]\n",
    "# multidimensional array\n",
    "cdef double m_arr[5][2]\n",
    "# c uses row-major as single block of memory whereas fortran use column-major as a memory block.\n",
    "\n",
    "arr[0] = 1.0\n",
    "m_arr[0][0] = 2\n",
    "\n",
    "printf(\"%p\\n\", arr) # for printing in cython\n",
    "print(arr[0])\n",
    "printf(\"%p\\n\", m_arr) # for printing in cython\n",
    "print(m_arr)"
   ]
  },
  {
   "cell_type": "markdown",
   "id": "4775f4f0",
   "metadata": {},
   "source": [
    "## Working with Numpy arrays in Cython"
   ]
  },
  {
   "cell_type": "code",
   "execution_count": 5,
   "id": "b8134c39",
   "metadata": {},
   "outputs": [],
   "source": [
    "%%cython\n",
    "# Declaring an array in python numpy for benchmarking\n",
    "\n",
    "import numpy as np\n",
    "def numpy_bench_py():\n",
    "    py_arr = np.random.rand(1000)\n",
    "    # declaring i as index integer\n",
    "    cdef int i\n",
    "    for i in range(1000):\n",
    "        py_arr[i] += 1"
   ]
  },
  {
   "cell_type": "code",
   "execution_count": 6,
   "id": "30a44456",
   "metadata": {},
   "outputs": [],
   "source": [
    "%%cython \n",
    "# Declaring an array in cython numpy for benchmarking\n",
    "\n",
    "import numpy as np\n",
    "cimport numpy as c_np\n",
    "\n",
    "def numpy_bench_c():\n",
    "    cdef c_np.ndarray[double, ndim=1] c_arr\n",
    "    c_arr = np.random.rand(1000)\n",
    "    cdef int i\n",
    "    \n",
    "    for i in range(1000):\n",
    "        c_arr[i] += 1"
   ]
  },
  {
   "cell_type": "code",
   "execution_count": 7,
   "id": "c629f169",
   "metadata": {},
   "outputs": [
    {
     "name": "stdout",
     "output_type": "stream",
     "text": [
      "10 µs ± 28.3 ns per loop (mean ± std. dev. of 7 runs, 100000 loops each)\n"
     ]
    }
   ],
   "source": [
    "# checking the performance of cython numpy\n",
    "%timeit numpy_bench_c()"
   ]
  },
  {
   "cell_type": "code",
   "execution_count": 8,
   "id": "c38df5f8",
   "metadata": {},
   "outputs": [
    {
     "name": "stdout",
     "output_type": "stream",
     "text": [
      "303 µs ± 4.45 µs per loop (mean ± std. dev. of 7 runs, 1000 loops each)\n"
     ]
    }
   ],
   "source": [
    "# checking the performance of python numpy\n",
    "%timeit numpy_bench_py()"
   ]
  },
  {
   "cell_type": "code",
   "execution_count": null,
   "id": "9527acaf",
   "metadata": {},
   "outputs": [],
   "source": []
  }
 ],
 "metadata": {
  "kernelspec": {
   "display_name": "Python 3 (ipykernel)",
   "language": "python",
   "name": "python3"
  },
  "language_info": {
   "codemirror_mode": {
    "name": "ipython",
    "version": 3
   },
   "file_extension": ".py",
   "mimetype": "text/x-python",
   "name": "python",
   "nbconvert_exporter": "python",
   "pygments_lexer": "ipython3",
   "version": "3.9.13"
  }
 },
 "nbformat": 4,
 "nbformat_minor": 5
}
