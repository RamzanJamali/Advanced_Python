{
 "cells": [
  {
   "cell_type": "markdown",
   "id": "56b60e7b",
   "metadata": {},
   "source": [
    "## Working with arrays in Cython"
   ]
  },
  {
   "cell_type": "code",
   "execution_count": 1,
   "id": "8c3ae10b",
   "metadata": {},
   "outputs": [],
   "source": [
    "%load_ext cython"
   ]
  },
  {
   "cell_type": "code",
   "execution_count": 8,
   "id": "c1319334",
   "metadata": {},
   "outputs": [],
   "source": [
    "%%cython\n",
    "\n",
    "cdef double a\n",
    "from libc.stdio cimport printf\n",
    "printf(\"%p\", &a)"
   ]
  },
  {
   "cell_type": "code",
   "execution_count": 5,
   "id": "80c55e0c",
   "metadata": {},
   "outputs": [
    {
     "name": "stdout",
     "output_type": "stream",
     "text": [
      "3.0\n"
     ]
    }
   ],
   "source": [
    "%%cython\n",
    "\n",
    "from libc.stdio cimport printf\n",
    "cdef double a\n",
    "cdef double *a_pointer\n",
    "a_pointer = &a\n",
    "\n",
    "a = 3.0\n",
    "print(a_pointer[0])"
   ]
  },
  {
   "cell_type": "code",
   "execution_count": 12,
   "id": "8e2f06ca",
   "metadata": {},
   "outputs": [
    {
     "name": "stdout",
     "output_type": "stream",
     "text": [
      "1.0\n",
      "[[2.0, 0.0], [0.0, 0.0], [0.0, 0.0], [0.0, 0.0], [0.0, 0.0]]\n"
     ]
    }
   ],
   "source": [
    "%%cython\n",
    "from libc.stdio cimport printf\n",
    "\n",
    "cdef double arr[10]\n",
    "\n",
    "cdef double m_arr[5][2]\n",
    "\n",
    "arr[0] = 1.0\n",
    "m_arr[0][0] = 2\n",
    "\n",
    "# printf(\"%p\\n\", arr)\n",
    "print(arr[0])\n",
    "# printf(\"%p\\n\", m_arr)\n",
    "print(m_arr)"
   ]
  },
  {
   "cell_type": "markdown",
   "id": "0c32acd4",
   "metadata": {},
   "source": [
    "## Working with Numpy arrays in Cython"
   ]
  },
  {
   "cell_type": "code",
   "execution_count": 13,
   "id": "9da4b7d1",
   "metadata": {},
   "outputs": [],
   "source": [
    "%%cython\n",
    "\n",
    "import numpy as np\n",
    "def numpy_bench_py():\n",
    "    py_arr = np.random.rand(1000)\n",
    "    cdef int i\n",
    "    for i in range(1000):\n",
    "        py_arr[i] += 1"
   ]
  },
  {
   "cell_type": "code",
   "execution_count": 14,
   "id": "3fff716d",
   "metadata": {},
   "outputs": [],
   "source": [
    "%%cython \n",
    "\n",
    "import numpy as np\n",
    "cimport numpy as c_np\n",
    "\n",
    "def numpy_bench_c():\n",
    "    cdef c_np.ndarray[double, ndim=1] c_arr\n",
    "    c_arr = np.random.rand(1000)\n",
    "    cdef int i\n",
    "    \n",
    "    for i in range(1000):\n",
    "        c_arr[i] += 1"
   ]
  },
  {
   "cell_type": "code",
   "execution_count": 15,
   "id": "2d7fdf3f",
   "metadata": {},
   "outputs": [
    {
     "name": "stdout",
     "output_type": "stream",
     "text": [
      "10.2 µs ± 37.8 ns per loop (mean ± std. dev. of 7 runs, 100000 loops each)\n"
     ]
    }
   ],
   "source": [
    "%timeit numpy_bench_c()"
   ]
  },
  {
   "cell_type": "code",
   "execution_count": 16,
   "id": "a686ab17",
   "metadata": {},
   "outputs": [
    {
     "name": "stdout",
     "output_type": "stream",
     "text": [
      "368 µs ± 43.3 µs per loop (mean ± std. dev. of 7 runs, 1000 loops each)\n"
     ]
    }
   ],
   "source": [
    "%timeit numpy_bench_py()"
   ]
  },
  {
   "cell_type": "code",
   "execution_count": null,
   "id": "d15ec83c",
   "metadata": {},
   "outputs": [],
   "source": []
  }
 ],
 "metadata": {
  "kernelspec": {
   "display_name": "Python 3 (ipykernel)",
   "language": "python",
   "name": "python3"
  },
  "language_info": {
   "codemirror_mode": {
    "name": "ipython",
    "version": 3
   },
   "file_extension": ".py",
   "mimetype": "text/x-python",
   "name": "python",
   "nbconvert_exporter": "python",
   "pygments_lexer": "ipython3",
   "version": "3.9.13"
  }
 },
 "nbformat": 4,
 "nbformat_minor": 5
}
