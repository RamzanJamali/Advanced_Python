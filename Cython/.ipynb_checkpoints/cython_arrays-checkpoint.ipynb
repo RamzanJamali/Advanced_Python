{
 "cells": [
  {
   "cell_type": "markdown",
   "id": "f320ccdf",
   "metadata": {},
   "source": [
    "## Working with arrays in Cython"
   ]
  },
  {
   "cell_type": "code",
   "execution_count": 1,
   "id": "289c091c",
   "metadata": {},
   "outputs": [],
   "source": [
    "%load_ext cython"
   ]
  },
  {
   "cell_type": "code",
   "execution_count": 2,
   "id": "9e096fcd",
   "metadata": {},
   "outputs": [],
   "source": [
    "%%cython\n",
    "\n",
    "# the & symbol is for pointer\n",
    "cdef double a\n",
    "from libc.stdio cimport printf\n",
    "# Note: this will give output in python terminal not in jupyter notebook\n",
    "printf(\"%p\", &a)"
   ]
  },
  {
   "cell_type": "code",
   "execution_count": 3,
   "id": "dddbd4ad",
   "metadata": {},
   "outputs": [
    {
     "name": "stdout",
     "output_type": "stream",
     "text": [
      "3.0\n"
     ]
    }
   ],
   "source": [
    "%%cython\n",
    "\n",
    "# Working with pointer\n",
    "from libc.stdio cimport printf\n",
    "cdef double a\n",
    "cdef double *a_pointer\n",
    "a_pointer = &a\n",
    "\n",
    "a = 3.0\n",
    "# using python to print output\n",
    "print(a_pointer[0])"
   ]
  },
  {
   "cell_type": "code",
   "execution_count": 4,
   "id": "06211e28",
   "metadata": {},
   "outputs": [
    {
     "name": "stdout",
     "output_type": "stream",
     "text": [
      "1.0\n",
      "[[2.0, 0.0], [0.0, 0.0], [0.0, 0.0], [0.0, 0.0], [0.0, 0.0]]\n"
     ]
    }
   ],
   "source": [
    "%%cython\n",
    "# declaring arrays in cython\n",
    "from libc.stdio cimport printf\n",
    "# one dimensional array\n",
    "cdef double arr[10]\n",
    "# multidimensional array\n",
    "cdef double m_arr[5][2]\n",
    "# c uses row-major as single block of memory whereas fortran use column-major as a memory block.\n",
    "\n",
    "arr[0] = 1.0\n",
    "m_arr[0][0] = 2\n",
    "\n",
    "printf(\"%p\\n\", arr) # for printing in cython\n",
    "print(arr[0])\n",
    "printf(\"%p\\n\", m_arr) # for printing in cython\n",
    "print(m_arr)"
   ]
  },
  {
   "cell_type": "markdown",
   "id": "dc4a3abd",
   "metadata": {},
   "source": [
    "## Working with Numpy arrays in Cython"
   ]
  },
  {
   "cell_type": "code",
   "execution_count": 5,
   "id": "3196daec",
   "metadata": {},
   "outputs": [],
   "source": [
    "%%cython\n",
    "# Declaring an array in python numpy for benchmarking\n",
    "\n",
    "import numpy as np\n",
    "def numpy_bench_py():\n",
    "    py_arr = np.random.rand(1000)\n",
    "    # declaring i as index integer\n",
    "    cdef int i\n",
    "    for i in range(1000):\n",
    "        py_arr[i] += 1"
   ]
  },
  {
   "cell_type": "code",
   "execution_count": 6,
   "id": "bccc7400",
   "metadata": {},
   "outputs": [],
   "source": [
    "%%cython \n",
    "# Declaring an array in cython numpy for benchmarking\n",
    "\n",
    "import numpy as np\n",
    "cimport numpy as c_np\n",
    "\n",
    "def numpy_bench_c():\n",
    "    cdef c_np.ndarray[double, ndim=1] c_arr\n",
    "    c_arr = np.random.rand(1000)\n",
    "    cdef int i\n",
    "    \n",
    "    for i in range(1000):\n",
    "        c_arr[i] += 1"
   ]
  },
  {
   "cell_type": "code",
   "execution_count": 7,
   "id": "7bbed036",
   "metadata": {},
   "outputs": [
    {
     "name": "stdout",
     "output_type": "stream",
     "text": [
      "23.6 µs ± 3.59 µs per loop (mean ± std. dev. of 7 runs, 10000 loops each)\n"
     ]
    }
   ],
   "source": [
    "# checking the performance of cython numpy\n",
    "%timeit numpy_bench_c()"
   ]
  },
  {
   "cell_type": "code",
   "execution_count": 8,
   "id": "c4695ce1",
   "metadata": {},
   "outputs": [
    {
     "name": "stdout",
     "output_type": "stream",
     "text": [
      "722 µs ± 20.5 µs per loop (mean ± std. dev. of 7 runs, 1000 loops each)\n"
     ]
    }
   ],
   "source": [
    "# checking the performance of python numpy\n",
    "%timeit numpy_bench_py()"
   ]
  },
  {
   "cell_type": "markdown",
   "id": "d0b67159",
   "metadata": {},
   "source": [
    "### working with typed memoryviews"
   ]
  },
  {
   "cell_type": "code",
   "execution_count": 9,
   "id": "15ef35d2",
   "metadata": {},
   "outputs": [
    {
     "name": "stdout",
     "output_type": "stream",
     "text": [
      "[0 0 1 0 0 0 0 0 0 0]\n"
     ]
    }
   ],
   "source": [
    "%%cython\n",
    "\n",
    "# defining memoryview\n",
    "cdef int[:] a\n",
    "cdef double[:, :] b\n",
    "\n",
    "import numpy as np\n",
    "\n",
    "cdef int[:] arr\n",
    "arr_np = np.zeros(10, dtype=\"int32\")\n",
    "arr = arr_np\n",
    "# it is not a new object but only a view of the memory\n",
    "arr[2] = 1\n",
    "print(arr_np)"
   ]
  },
  {
   "cell_type": "code",
   "execution_count": 10,
   "id": "d8019d65",
   "metadata": {},
   "outputs": [
    {
     "name": "stdout",
     "output_type": "stream",
     "text": [
      "1.0\n"
     ]
    }
   ],
   "source": [
    "%%cython\n",
    "import numpy as np\n",
    "# copying between two memoryviews\n",
    "cdef double[:, :] b\n",
    "cdef double[:] r\n",
    "b = np.random.rand(10, 3)\n",
    "r = np.ones(3, dtype='float64')\n",
    "\n",
    "b[0, :] = r\n",
    "print(b[0, 0])"
   ]
  },
  {
   "cell_type": "code",
   "execution_count": null,
   "id": "9fdc7baf",
   "metadata": {},
   "outputs": [],
   "source": []
  }
 ],
 "metadata": {
  "kernelspec": {
   "display_name": "Python 3 (ipykernel)",
   "language": "python",
   "name": "python3"
  },
  "language_info": {
   "codemirror_mode": {
    "name": "ipython",
    "version": 3
   },
   "file_extension": ".py",
   "mimetype": "text/x-python",
   "name": "python",
   "nbconvert_exporter": "python",
   "pygments_lexer": "ipython3",
   "version": "3.9.13"
  }
 },
 "nbformat": 4,
 "nbformat_minor": 5
}
