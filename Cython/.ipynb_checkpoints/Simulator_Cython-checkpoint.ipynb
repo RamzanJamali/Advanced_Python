{
 "cells": [
  {
   "cell_type": "code",
   "execution_count": 1,
   "id": "eded99e7",
   "metadata": {},
   "outputs": [],
   "source": [
    "import numpy as np\n",
    "\n",
    "# This program will simulate particles moving in a circular path at a constant speed. \n",
    "# The purpose of this simulation is to improve performance of python program.\n",
    "\n",
    "# This benchmark is to check how our code is performing\n",
    "from random import uniform"
   ]
  },
  {
   "cell_type": "code",
   "execution_count": 2,
   "id": "aa7dd2c0",
   "metadata": {},
   "outputs": [],
   "source": [
    "def c_evolve(r_i, ang_speed_i, timestep, nsteps):\n",
    "    v_i = np.empty_like(r_i)\n",
    "    \n",
    "    for i in range(nsteps):\n",
    "        # 1. Calculate the direction\n",
    "        norm_i = np.sqrt((r_i**2).sum(axis=1))\n",
    "        v_i = r_i[:, [1, 0]]\n",
    "        v_i[:, 0] *= -1\n",
    "        v_i /= norm_i[:, np.newaxis]\n",
    "        \n",
    "        d_i = timestep * ang_speed_i[:, np.newaxis] * v_i\n",
    "        \n",
    "        r_i += d_i"
   ]
  },
  {
   "cell_type": "code",
   "execution_count": 6,
   "id": "f3eb07a5",
   "metadata": {},
   "outputs": [],
   "source": [
    "\n",
    "class Particle:\n",
    "    def __init__(self, x, y, ang_vel):\n",
    "        self.x = x\n",
    "        self.y = y\n",
    "        self.ang_vel = ang_vel\n",
    "\n",
    "\n",
    "# To simulate the particles\n",
    "class ParticleSimulator:\n",
    "\n",
    "    def __init__(self, particles):\n",
    "        self.particles = particles\n",
    "\n",
    "    # The first method utilizes numpy for simulation\n",
    "    def evolve_numpy(self, dt):\n",
    "        timestep = 0.00001\n",
    "        nsteps = int(dt/timestep)\n",
    "        # nsteps = 1000 if dt = 0.01\n",
    "\n",
    "        r_i = np.array([[p.x, p.y] for p in self.particles])\n",
    "        ang_vel_i = np.array([p.ang_vel for p in self.particles])\n",
    "        \n",
    "        for i in range(nsteps):\n",
    "            \n",
    "            norm_ii = (r_i ** 2).sum(axis=1)\n",
    "            norm_i = np.sqrt(norm_ii)\n",
    "            v_i = r_i[:, [1, 0]]\n",
    "            v_i[:, 0] *= -1\n",
    "            v_i /= norm_i[:, np.newaxis]\n",
    "            d_i = timestep * ang_vel_i[:, np.newaxis] * v_i\n",
    "            r_i += d_i\n",
    "            \n",
    "            for i, p in enumerate(self.particles):\n",
    "                p.x, p.y = r_i[i]\n",
    "\n",
    "    # The second method            \n",
    "    def evolve_cython(self, dt):\n",
    "        timestep = 0.00001\n",
    "        nsteps = int(dt/timestep)\n",
    "        # nsteps = 1000 if dt = 0.01\n",
    "\n",
    "        r_i = np.array([[p.x, p.y] for p in self.particles])\n",
    "        ang_speed_i = np.array([p.ang_vel for p in self.particles])\n",
    "        \n",
    "        c_evolve(r_i, ang_speed_i, timestep, nsteps)\n",
    "        \n",
    "        for i, p in enumerate(self.particles):\n",
    "            p.x, p.y = r_i[i]\n"
   ]
  },
  {
   "cell_type": "code",
   "execution_count": 7,
   "id": "559fa0bd",
   "metadata": {},
   "outputs": [],
   "source": [
    "def benchmark(npart=100, method='cython'):\n",
    "    particles = [\n",
    "        Particle(uniform(-1.0, 1.0), uniform(-1.0, 1.0), uniform(-1.0, 1.0))\n",
    "        for i in range(npart)\n",
    "    ]\n",
    "\n",
    "    simulator = ParticleSimulator(particles)\n",
    "    \n",
    "    if method == 'cython':\n",
    "        simulator.evolve_cython(0.1)\n",
    "        \n",
    "    elif method == 'numpy':\n",
    "        simulator.evolve_numpy(0.1)"
   ]
  },
  {
   "cell_type": "code",
   "execution_count": 8,
   "id": "faa6cb8a",
   "metadata": {},
   "outputs": [],
   "source": [
    "\n",
    "if __name__ == '__main__':\n",
    "    benchmark(10, \"cython\")\n",
    "    #pass\n",
    "\n",
    "# To check performance use ipython: \n",
    "# %timeit benchmark(100, \"python\")\n",
    "# and\n",
    "# %timeit benchmark(100, \"numpy\")\n",
    "\n",
    "# Result: You will see that numpy version is better for high number of particles."
   ]
  },
  {
   "cell_type": "code",
   "execution_count": 9,
   "id": "70631129",
   "metadata": {},
   "outputs": [
    {
     "name": "stdout",
     "output_type": "stream",
     "text": [
      "230 ms ± 45.6 ms per loop (mean ± std. dev. of 7 runs, 1 loop each)\n"
     ]
    }
   ],
   "source": [
    "%timeit benchmark(10, \"cython\")"
   ]
  },
  {
   "cell_type": "code",
   "execution_count": 10,
   "id": "103ded62",
   "metadata": {},
   "outputs": [
    {
     "name": "stdout",
     "output_type": "stream",
     "text": [
      "344 ms ± 13.5 ms per loop (mean ± std. dev. of 7 runs, 1 loop each)\n"
     ]
    }
   ],
   "source": [
    "%timeit benchmark(10, 'numpy')"
   ]
  },
  {
   "cell_type": "code",
   "execution_count": null,
   "id": "3fb51b0d",
   "metadata": {},
   "outputs": [],
   "source": []
  }
 ],
 "metadata": {
  "kernelspec": {
   "display_name": "Python 3 (ipykernel)",
   "language": "python",
   "name": "python3"
  },
  "language_info": {
   "codemirror_mode": {
    "name": "ipython",
    "version": 3
   },
   "file_extension": ".py",
   "mimetype": "text/x-python",
   "name": "python",
   "nbconvert_exporter": "python",
   "pygments_lexer": "ipython3",
   "version": "3.9.13"
  }
 },
 "nbformat": 4,
 "nbformat_minor": 5
}
